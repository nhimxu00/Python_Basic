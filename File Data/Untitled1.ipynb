{
 "cells": [
  {
   "cell_type": "code",
   "execution_count": 14,
   "metadata": {},
   "outputs": [],
   "source": [
    "\n",
    "def eval_grad(theta):\n",
    "  # init gradient\n",
    "  grad = np.empty_like(theta)\n",
    "  # eval gradient\n",
    "  grad[0] = 2 * theta[0]\n",
    "  grad[1] = np.cos(theta[1])\n",
    "  return grad\n",
    "\n",
    "# run 1000 times\n",
    "NUM_INTERS = 1000\n",
    "# learning rate\n",
    "ETA = 0.01\n",
    "\n",
    "# init theta\n",
    "theta = np.zeros(2)\n",
    "\n",
    "# run GD\n",
    "for i in range(1000):\n",
    "  grad = eval_grad(theta)\n",
    "  theta -= ETA * grad"
   ]
  }
 ],
 "metadata": {
  "kernelspec": {
   "display_name": "Python 3",
   "language": "python",
   "name": "python3"
  },
  "language_info": {
   "codemirror_mode": {
    "name": "ipython",
    "version": 3
   },
   "file_extension": ".py",
   "mimetype": "text/x-python",
   "name": "python",
   "nbconvert_exporter": "python",
   "pygments_lexer": "ipython3",
   "version": "3.7.6"
  }
 },
 "nbformat": 4,
 "nbformat_minor": 4
}
