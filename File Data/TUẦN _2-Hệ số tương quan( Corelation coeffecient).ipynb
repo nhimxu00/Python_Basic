{
 "cells": [
  {
   "cell_type": "code",
   "execution_count": 14,
   "metadata": {},
   "outputs": [
    {
     "name": "stdout",
     "output_type": "stream",
     "text": [
      "Hệ số tương quan tuyến tính giữa hai biến x,y:  0.14953944411984518\n"
     ]
    }
   ],
   "source": [
    "def find_corr_x_y(x,y):                                         #1\n",
    "    n = len(x)                                                  #2\n",
    "    prod = []\n",
    "    for xi,yi in zip(x,y):                                      #3\n",
    "         prod.append(xi*yi)\n",
    "         \n",
    "    sum_prod_x_y = sum(prod)                                    #4\n",
    "    \n",
    "    sum_x = sum(x)\n",
    "    sum_y = sum(y)\n",
    "    \n",
    "    squared_sum_x = sum_x**2\n",
    "    squared_sum_y = sum_y**2 \n",
    "    \n",
    "    x_square = []\n",
    "    for xi in x:\n",
    "        x_square.append(xi**2)            \n",
    "    x_square_sum = sum(x_square)\n",
    "    y_square=[]\n",
    "    for yi in y:\n",
    "        y_square.append(yi**2)        \n",
    "    y_square_sum = sum(y_square)\n",
    "    \n",
    "    # Use formula to calculate correlation                      #5\n",
    "    numerator = n*sum_prod_x_y - sum_x*sum_y\n",
    "    denominator_term1 = n*x_square_sum - squared_sum_x\n",
    "    denominator_term2 = n*y_square_sum - squared_sum_y\n",
    "    denominator = (denominator_term1*denominator_term2)**0.5\n",
    "    correlation = numerator/denominator\n",
    "    \n",
    "    return correlation \n",
    "x = [7, 18, 29, 2, 10, 9, 9]\n",
    "y = [1, 6, 12, 8, 6, 21, 10]\n",
    "print('Hệ số tương quan tuyến tính giữa hai biến x,y: ',find_corr_x_y(x,y))"
   ]
  },
  {
   "cell_type": "code",
   "execution_count": 16,
   "metadata": {},
   "outputs": [
    {
     "ename": "FileNotFoundError",
     "evalue": "[Errno 2] No such file or directory: 'images/img1.png'",
     "output_type": "error",
     "traceback": [
      "\u001b[1;31m---------------------------------------------------------------------------\u001b[0m",
      "\u001b[1;31mFileNotFoundError\u001b[0m                         Traceback (most recent call last)",
      "\u001b[1;32m<ipython-input-16-e969d595894d>\u001b[0m in \u001b[0;36m<module>\u001b[1;34m\u001b[0m\n\u001b[0;32m      4\u001b[0m \u001b[1;33m\u001b[0m\u001b[0m\n\u001b[0;32m      5\u001b[0m \u001b[1;31m# Load ảnh và chuyển về kiểu list\u001b[0m\u001b[1;33m\u001b[0m\u001b[1;33m\u001b[0m\u001b[1;33m\u001b[0m\u001b[0m\n\u001b[1;32m----> 6\u001b[1;33m \u001b[0mimage1\u001b[0m \u001b[1;33m=\u001b[0m \u001b[0mImage\u001b[0m\u001b[1;33m.\u001b[0m\u001b[0mopen\u001b[0m\u001b[1;33m(\u001b[0m\u001b[1;34m'images/img1.png'\u001b[0m\u001b[1;33m)\u001b[0m\u001b[1;33m\u001b[0m\u001b[1;33m\u001b[0m\u001b[0m\n\u001b[0m\u001b[0;32m      7\u001b[0m \u001b[0mimage2\u001b[0m \u001b[1;33m=\u001b[0m \u001b[0mImage\u001b[0m\u001b[1;33m.\u001b[0m\u001b[0mopen\u001b[0m\u001b[1;33m(\u001b[0m\u001b[1;34m'images/img2.png'\u001b[0m\u001b[1;33m)\u001b[0m\u001b[1;33m\u001b[0m\u001b[1;33m\u001b[0m\u001b[0m\n\u001b[0;32m      8\u001b[0m \u001b[0mimage3\u001b[0m \u001b[1;33m=\u001b[0m \u001b[0mImage\u001b[0m\u001b[1;33m.\u001b[0m\u001b[0mopen\u001b[0m\u001b[1;33m(\u001b[0m\u001b[1;34m'images/img3.png'\u001b[0m\u001b[1;33m)\u001b[0m\u001b[1;33m\u001b[0m\u001b[1;33m\u001b[0m\u001b[0m\n",
      "\u001b[1;32m~\\anaconda3\\lib\\site-packages\\PIL\\Image.py\u001b[0m in \u001b[0;36mopen\u001b[1;34m(fp, mode)\u001b[0m\n\u001b[0;32m   2807\u001b[0m \u001b[1;33m\u001b[0m\u001b[0m\n\u001b[0;32m   2808\u001b[0m     \u001b[1;32mif\u001b[0m \u001b[0mfilename\u001b[0m\u001b[1;33m:\u001b[0m\u001b[1;33m\u001b[0m\u001b[1;33m\u001b[0m\u001b[0m\n\u001b[1;32m-> 2809\u001b[1;33m         \u001b[0mfp\u001b[0m \u001b[1;33m=\u001b[0m \u001b[0mbuiltins\u001b[0m\u001b[1;33m.\u001b[0m\u001b[0mopen\u001b[0m\u001b[1;33m(\u001b[0m\u001b[0mfilename\u001b[0m\u001b[1;33m,\u001b[0m \u001b[1;34m\"rb\"\u001b[0m\u001b[1;33m)\u001b[0m\u001b[1;33m\u001b[0m\u001b[1;33m\u001b[0m\u001b[0m\n\u001b[0m\u001b[0;32m   2810\u001b[0m         \u001b[0mexclusive_fp\u001b[0m \u001b[1;33m=\u001b[0m \u001b[1;32mTrue\u001b[0m\u001b[1;33m\u001b[0m\u001b[1;33m\u001b[0m\u001b[0m\n\u001b[0;32m   2811\u001b[0m \u001b[1;33m\u001b[0m\u001b[0m\n",
      "\u001b[1;31mFileNotFoundError\u001b[0m: [Errno 2] No such file or directory: 'images/img1.png'"
     ]
    }
   ],
   "source": [
    "# Ứng dụng hệ số  tương quan  để tính similarity giữa 2 ảnh\n",
    "import numpy as np\n",
    "from PIL import Image\n",
    "\n",
    "# Load ảnh và chuyển về kiểu list\n",
    "image1 = Image.open('images/img1.png')\n",
    "image2 = Image.open('images/img2.png')\n",
    "image3 = Image.open('images/img3.png')\n",
    "image4 = Image.open('images/img4.png')\n",
    "\n",
    "image1_list = np.asarray(image1).flatten().tolist()\n",
    "image2_list = np.asarray(image2).flatten().tolist()\n",
    "image3_list = np.asarray(image3).flatten().tolist()\n",
    "image4_list = np.asarray(image4).flatten().tolist()\n",
    "\n",
    "# Tính correlation coefficient\n",
    "corr_1_2 = find_corr_x_y(image1_list,image2_list)\n",
    "corr_1_3 = find_corr_x_y(image1_list,image3_list)\n",
    "corr_1_4 = find_corr_x_y(image1_list,image4_list)\n",
    "\n",
    "print(\"corr_1_2:\",corr_1_2)\n",
    "print(\"corr_1_3:\",corr_1_3)\n",
    "print(\"corr_1_4:\",corr_1_4)\n"
   ]
  },
  {
   "cell_type": "code",
   "execution_count": 21,
   "metadata": {},
   "outputs": [
    {
     "name": "stdout",
     "output_type": "stream",
     "text": [
      "corr_1_2: 0.5597078993054261\n",
      "corr_1_3: 0.23464323667481513\n",
      "corr_1_4: 0.3044435718683657\n"
     ]
    }
   ],
   "source": [
    "import numpy as np\n",
    "from PIL import Image\n",
    "from io import BytesIO\n",
    "import requests\n",
    "def find_corr_x_y(x,y):                                         \n",
    "    n = len(x)                                                  \n",
    "    prod = []\n",
    "    for xi,yi in zip(x,y):                                      \n",
    "         prod.append(xi*yi)\n",
    "         \n",
    "    sum_prod_x_y = sum(prod)                                    \n",
    "    \n",
    "    sum_x = sum(x)\n",
    "    sum_y = sum(y)\n",
    "    \n",
    "    squared_sum_x = sum_x**2\n",
    "    squared_sum_y = sum_y**2 \n",
    "    \n",
    "    x_square = []\n",
    "    for xi in x:\n",
    "        x_square.append(xi**2)            \n",
    "    x_square_sum = sum(x_square)\n",
    "    y_square=[]\n",
    "    for yi in y:\n",
    "        y_square.append(yi**2)        \n",
    "    y_square_sum = sum(y_square)\n",
    "    \n",
    "    # Use formula to calculate correlation                      \n",
    "    numerator = n*sum_prod_x_y - sum_x*sum_y\n",
    "    denominator_term1 = n*x_square_sum - squared_sum_x\n",
    "    denominator_term2 = n*y_square_sum - squared_sum_y\n",
    "    denominator = (denominator_term1*denominator_term2)**0.5\n",
    "    correlation = numerator/denominator\n",
    "    \n",
    "    return correlation \n",
    "# load ảnh và chuyển về kiểu list\n",
    "req1 = requests.get('https://www.dropbox.com/s/vfe090qo24t3v46/img1.png?raw=1')\n",
    "req2 = requests.get('https://www.dropbox.com/s/vtz8ik7mb1e1is7/img2.png?raw=1')\n",
    "req3 = requests.get('https://www.dropbox.com/s/auxezlf6ijoejwo/img3.png?raw=1')\n",
    "req4 = requests.get('https://www.dropbox.com/s/w5oc29l57f77arp/img4.png?raw=1')\n",
    "image1 = Image.open(BytesIO(req1.content))\n",
    "image2 = Image.open(BytesIO(req2.content))\n",
    "image3 = Image.open(BytesIO(req3.content))\n",
    "image4 = Image.open(BytesIO(req4.content))\n",
    "image1_list = np.asarray(image1).flatten().tolist()\n",
    "image2_list = np.asarray(image2).flatten().tolist()\n",
    "image3_list = np.asarray(image3).flatten().tolist()\n",
    "image4_list = np.asarray(image4).flatten().tolist()\n",
    "corr_1_2 = find_corr_x_y(image1_list, image2_list)\n",
    "corr_1_3 = find_corr_x_y(image1_list, image3_list)\n",
    "corr_1_4 = find_corr_x_y(image1_list, image4_list)\n",
    "print('corr_1_2:', corr_1_2)\n",
    "print('corr_1_3:', corr_1_3)\n",
    "print('corr_1_4:', corr_1_4)\n",
    "    "
   ]
  },
  {
   "cell_type": "code",
   "execution_count": 22,
   "metadata": {},
   "outputs": [
    {
     "name": "stdout",
     "output_type": "stream",
     "text": [
      "corr_1_5: 0.9970069053677388\n",
      "corr_1_6: 0.9979081493981881\n"
     ]
    }
   ],
   "source": [
    "# Tính hệ số tương quan giữa 2 ảnh đã bị thay đổi tuyến tín , thì hệ thống là, việc tốt\n",
    "\n",
    "import numpy as np\n",
    "from PIL import Image\n",
    "from io import BytesIO\n",
    "import requests\n",
    "# load ảnh và chuyển về kiểu list\n",
    "req1 = requests.get('https://www.dropbox.com/s/vfe090qo24t3v46/img1.png?raw=1')\n",
    "req5 = requests.get('https://www.dropbox.com/s/wdj080tsf92a0l0/img1_scale2.png?raw=1')\n",
    "req6 = requests.get('https://www.dropbox.com/s/9fr6h5y9vejyl7h/img1_scale1.png?raw=1')\n",
    "image1 = Image.open(BytesIO(req1.content))\n",
    "image5 = Image.open(BytesIO(req5.content))\n",
    "image6 = Image.open(BytesIO(req6.content))\n",
    "image1_list = np.asarray(image1).flatten().tolist()\n",
    "image5_list = np.asarray(image5).flatten().tolist()\n",
    "image6_list = np.asarray(image6).flatten().tolist()\n",
    "# tính correlation coefficient      \n",
    "corr_1_5 = find_corr_x_y(image1_list, image5_list)\n",
    "corr_1_6 = find_corr_x_y(image1_list, image6_list)\n",
    "print('corr_1_5:', corr_1_5)\n",
    "print('corr_1_6:', corr_1_6)"
   ]
  },
  {
   "cell_type": "code",
   "execution_count": 23,
   "metadata": {},
   "outputs": [
    {
     "name": "stdout",
     "output_type": "stream",
     "text": [
      "corr_1_5: 0.9970069053677388\n",
      "corr_1_6: 0.9979081493981881\n"
     ]
    }
   ],
   "source": [
    "# Tính đầy đủ \n",
    "import numpy as np\n",
    "from PIL import Image\n",
    "from io import BytesIO\n",
    "import requests\n",
    "def find_corr_x_y(x,y):                                         #1\n",
    "    n = len(x)                                                  #2\n",
    "    prod = []\n",
    "    for xi,yi in zip(x,y):                                      #3\n",
    "         prod.append(xi*yi)\n",
    "         \n",
    "    sum_prod_x_y = sum(prod)                                    #4\n",
    "    \n",
    "    sum_x = sum(x)\n",
    "    sum_y = sum(y)\n",
    "    \n",
    "    squared_sum_x = sum_x**2\n",
    "    squared_sum_y = sum_y**2 \n",
    "    \n",
    "    x_square = []\n",
    "    for xi in x:\n",
    "        x_square.append(xi**2)            \n",
    "    x_square_sum = sum(x_square)\n",
    "    y_square=[]\n",
    "    for yi in y:\n",
    "        y_square.append(yi**2)        \n",
    "    y_square_sum = sum(y_square)\n",
    "    \n",
    "    # Use formula to calculate correlation                      #5\n",
    "    numerator = n*sum_prod_x_y - sum_x*sum_y\n",
    "    denominator_term1 = n*x_square_sum - squared_sum_x\n",
    "    denominator_term2 = n*y_square_sum - squared_sum_y\n",
    "    denominator = (denominator_term1*denominator_term2)**0.5\n",
    "    correlation = numerator/denominator\n",
    "    \n",
    "    return correlation \n",
    "# load ảnh và chuyển về kiểu list\n",
    "req1 = requests.get('https://www.dropbox.com/s/vfe090qo24t3v46/img1.png?raw=1')\n",
    "req5 = requests.get('https://www.dropbox.com/s/wdj080tsf92a0l0/img1_scale2.png?raw=1')\n",
    "req6 = requests.get('https://www.dropbox.com/s/9fr6h5y9vejyl7h/img1_scale1.png?raw=1')\n",
    "image1 = Image.open(BytesIO(req1.content))\n",
    "image5 = Image.open(BytesIO(req5.content))\n",
    "image6 = Image.open(BytesIO(req6.content))\n",
    "image1_list = np.asarray(image1).flatten().tolist()\n",
    "image5_list = np.asarray(image5).flatten().tolist()\n",
    "image6_list = np.asarray(image6).flatten().tolist()\n",
    "# tính correlation coefficient\n",
    "corr_1_5 = find_corr_x_y(image1_list, image5_list)\n",
    "corr_1_6 = find_corr_x_y(image1_list, image6_list)\n",
    "print('corr_1_5:', corr_1_5)\n",
    "print('corr_1_6:', corr_1_6)"
   ]
  },
  {
   "cell_type": "code",
   "execution_count": null,
   "metadata": {},
   "outputs": [],
   "source": []
  }
 ],
 "metadata": {
  "kernelspec": {
   "display_name": "Python 3",
   "language": "python",
   "name": "python3"
  },
  "language_info": {
   "codemirror_mode": {
    "name": "ipython",
    "version": 3
   },
   "file_extension": ".py",
   "mimetype": "text/x-python",
   "name": "python",
   "nbconvert_exporter": "python",
   "pygments_lexer": "ipython3",
   "version": "3.7.6"
  }
 },
 "nbformat": 4,
 "nbformat_minor": 4
}
