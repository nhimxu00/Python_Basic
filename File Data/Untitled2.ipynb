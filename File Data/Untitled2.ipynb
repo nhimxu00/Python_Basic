{
 "cells": [
  {
   "cell_type": "code",
   "execution_count": 10,
   "metadata": {},
   "outputs": [
    {
     "data": {
      "text/plain": [
       "(3, 4, 5)"
      ]
     },
     "execution_count": 10,
     "metadata": {},
     "output_type": "execute_result"
    }
   ],
   "source": [
    "import numpy as np\n",
    "a = np.array([[[1 for _ in range(0,5)] for _ in range(0,4) ] for _ in range(0,3)])\n",
    "a.shape"
   ]
  },
  {
   "cell_type": "code",
   "execution_count": 11,
   "metadata": {},
   "outputs": [
    {
     "name": "stdout",
     "output_type": "stream",
     "text": [
      "[[1 2 3 4]\n",
      " [5 6 7 8]]\n"
     ]
    }
   ],
   "source": [
    "# Init a numpy array (Bắt đầu 1 mảng)\n",
    "array = np.array([[1,2,3,4],[5,6,7,8]])\n",
    "\n",
    "# Print out the arr it self(In các phần tử trong mảng)\n",
    "print(array)"
   ]
  },
  {
   "cell_type": "code",
   "execution_count": 12,
   "metadata": {},
   "outputs": [
    {
     "name": "stdout",
     "output_type": "stream",
     "text": [
      "<memory at 0x0000021660AD2E48>\n"
     ]
    }
   ],
   "source": [
    "# Print out memory address(In ra địa chỉ của bộ nhớ)\n",
    "print(array.data)"
   ]
  },
  {
   "cell_type": "code",
   "execution_count": 13,
   "metadata": {},
   "outputs": [
    {
     "name": "stdout",
     "output_type": "stream",
     "text": [
      "(2, 4)\n"
     ]
    }
   ],
   "source": [
    "# Print out the shape of array(In ra kiểu hình dạng của mảng(cột,hàng))\n",
    "print(array.shape)"
   ]
  },
  {
   "cell_type": "code",
   "execution_count": 14,
   "metadata": {},
   "outputs": [
    {
     "name": "stdout",
     "output_type": "stream",
     "text": [
      "int32\n"
     ]
    }
   ],
   "source": [
    "# Print outthe the data type of array(In ra kiểu dữ liệu của mảng)\n",
    "print(array.dtype)"
   ]
  },
  {
   "cell_type": "code",
   "execution_count": 15,
   "metadata": {},
   "outputs": [
    {
     "name": "stdout",
     "output_type": "stream",
     "text": [
      "(16, 4)\n"
     ]
    }
   ],
   "source": [
    "# Print out the stride of array(In ra giá trị mà nó bước qua)\n",
    "#Vd:a[0,0]->a[0,1] là 4 bytes và for a[0,0]->a[1,0] là: 16 byte\n",
    "print(array.strides)"
   ]
  },
  {
   "cell_type": "code",
   "execution_count": 17,
   "metadata": {},
   "outputs": [
    {
     "name": "stdout",
     "output_type": "stream",
     "text": [
      "Indentity matrix:\n",
      "[[1. 0. 0. 0. 0.]\n",
      " [0. 1. 0. 0. 0.]\n",
      " [0. 0. 1. 0. 0.]\n",
      " [0. 0. 0. 1. 0.]\n",
      " [0. 0. 0. 0. 1.]]\n"
     ]
    }
   ],
   "source": [
    "print(\"Indentity matrix:\")#( Ma trận đường chéo chính )\n",
    "print(np.eye(5)) #Tạo 1 ma trận vuông cấp 5 có đường chéo chính = 1"
   ]
  },
  {
   "cell_type": "code",
   "execution_count": 19,
   "metadata": {},
   "outputs": [
    {
     "name": "stdout",
     "output_type": "stream",
     "text": [
      "Array of ones: \n",
      "[[1. 1. 1. 1.]\n",
      " [1. 1. 1. 1.]\n",
      " [1. 1. 1. 1.]]\n"
     ]
    }
   ],
   "source": [
    "# Create an array of ones ( Tạo ra ma trận col:3,row:4 toàn phần tử 1)\n",
    "print(\"Array of ones: \")\n",
    "print(np.ones((3,4)))"
   ]
  },
  {
   "cell_type": "code",
   "execution_count": 25,
   "metadata": {},
   "outputs": [
    {
     "name": "stdout",
     "output_type": "stream",
     "text": [
      "Array of zeros:\n",
      "[[[0. 0. 0. 0.]\n",
      "  [0. 0. 0. 0.]\n",
      "  [0. 0. 0. 0.]]\n",
      "\n",
      " [[0. 0. 0. 0.]\n",
      "  [0. 0. 0. 0.]\n",
      "  [0. 0. 0. 0.]]]\n",
      "(2, 3, 4)\n"
     ]
    }
   ],
   "source": [
    "# Create an array of zeros ( Tạo ra ma trận có col:2,row:3,hidth:4 toàn phần tử  0)\n",
    "print(\"Array of zeros:\")\n",
    "print(np.zeros((2,3,4)))\n",
    "print(np.zeros((2,3,4)).shape)\n"
   ]
  },
  {
   "cell_type": "code",
   "execution_count": 30,
   "metadata": {},
   "outputs": [
    {
     "name": "stdout",
     "output_type": "stream",
     "text": [
      "Array with random values:\n",
      "[[0.98270256 0.78100331]\n",
      " [0.18093475 0.09475161]]\n"
     ]
    }
   ],
   "source": [
    "# Create an array with random values (Tạo mảng với 1 giá trị ngẫu nhiên)\n",
    "print(\"Array with random values:\")\n",
    "print(np.random.random((2,2)))"
   ]
  },
  {
   "cell_type": "code",
   "execution_count": 31,
   "metadata": {},
   "outputs": [
    {
     "name": "stdout",
     "output_type": "stream",
     "text": [
      "[[0. 0.]\n",
      " [0. 0.]\n",
      " [0. 0.]]\n"
     ]
    }
   ],
   "source": [
    "# Create an empty array ( Tạo 1 mảng rỗng)\n",
    "print(np.empty((3,2)))"
   ]
  },
  {
   "cell_type": "code",
   "execution_count": 32,
   "metadata": {},
   "outputs": [
    {
     "name": "stdout",
     "output_type": "stream",
     "text": [
      "[[7 7]\n",
      " [7 7]]\n"
     ]
    }
   ],
   "source": [
    "#Create a full array (Tạo 1 mảng và ép giá trị của từng phần tử cho trước)\n",
    "print(np.full((2,2),7))"
   ]
  },
  {
   "cell_type": "code",
   "execution_count": 36,
   "metadata": {},
   "outputs": [
    {
     "name": "stdout",
     "output_type": "stream",
     "text": [
      "[10 15 20]\n"
     ]
    }
   ],
   "source": [
    "# Create an array of evenly-spaced values( Tạo 1 mảng có các giá trị cách đều nhau)\n",
    "print(np.arange(10,25,5))"
   ]
  },
  {
   "cell_type": "code",
   "execution_count": 37,
   "metadata": {},
   "outputs": [
    {
     "name": "stdout",
     "output_type": "stream",
     "text": [
      "[0.   0.25 0.5  0.75 1.   1.25 1.5  1.75 2.  ]\n"
     ]
    }
   ],
   "source": [
    "# Create an array of evenly-spaced values( Tạo 1 mảng có các giá trị cách đều nhau)\n",
    "print(np.linspace(0,2,9))"
   ]
  },
  {
   "cell_type": "code",
   "execution_count": 40,
   "metadata": {},
   "outputs": [
    {
     "name": "stdout",
     "output_type": "stream",
     "text": [
      "[[1 0 0 0]\n",
      " [0 4 0 0]\n",
      " [0 0 5 0]\n",
      " [0 0 0 6]]\n"
     ]
    }
   ],
   "source": [
    "# Create a diagonal matrix( Tạo 1 đường chéo chính cho am trận)\n",
    "print(np.diag([1,4,5,6],0))"
   ]
  },
  {
   "cell_type": "code",
   "execution_count": 43,
   "metadata": {},
   "outputs": [
    {
     "name": "stdout",
     "output_type": "stream",
     "text": [
      "(3, 4)\n",
      "(3, 4)\n"
     ]
    },
    {
     "data": {
      "text/plain": [
       "array([[1.28048633, 1.4302441 , 1.48633868, 1.72346122],\n",
       "       [1.93863739, 1.73411788, 1.80418596, 1.80703568],\n",
       "       [1.85799421, 1.42501913, 1.85771702, 1.7714584 ]])"
      ]
     },
     "execution_count": 43,
     "metadata": {},
     "output_type": "execute_result"
    }
   ],
   "source": [
    "# CÁC Phép Tính Trên MaTRix\n",
    "#1: Cùng kích thước\n",
    "x = np.ones((3,4))\n",
    "print(x.shape)\n",
    "y = np.random.random((3,4))\n",
    "print(y.shape)\n",
    "x+y"
   ]
  },
  {
   "cell_type": "code",
   "execution_count": 45,
   "metadata": {},
   "outputs": [
    {
     "name": "stdout",
     "output_type": "stream",
     "text": [
      "(3, 4)\n",
      "(4,)\n",
      "(3, 4)\n"
     ]
    }
   ],
   "source": [
    "#2:Hai chiều cũng tương thích khi 1 trong số chúng là 1\n",
    "x = np.ones((3,4))\n",
    "print(x.shape)\n",
    "y=np.arange(4)\n",
    "print(y.shape)\n",
    "x-y\n",
    "print((x-y).shape)"
   ]
  },
  {
   "cell_type": "code",
   "execution_count": 48,
   "metadata": {},
   "outputs": [
    {
     "name": "stdout",
     "output_type": "stream",
     "text": [
      "[[[1.13415406 1.55649836 1.87029232 1.26419096]\n",
      "  [1.13415406 1.55649836 1.87029232 1.26419096]\n",
      "  [1.13415406 1.55649836 1.87029232 1.26419096]]\n",
      "\n",
      " [[1.84619773 1.71241596 1.71002803 1.66260766]\n",
      "  [1.84619773 1.71241596 1.71002803 1.66260766]\n",
      "  [1.84619773 1.71241596 1.71002803 1.66260766]]\n",
      "\n",
      " [[1.53121243 1.37405204 1.01464316 1.40831393]\n",
      "  [1.53121243 1.37405204 1.01464316 1.40831393]\n",
      "  [1.53121243 1.37405204 1.01464316 1.40831393]]\n",
      "\n",
      " [[1.50670742 1.49559238 1.5190847  1.95083482]\n",
      "  [1.50670742 1.49559238 1.5190847  1.95083482]\n",
      "  [1.50670742 1.49559238 1.5190847  1.95083482]]\n",
      "\n",
      " [[1.63653826 1.49831863 1.7101938  1.02707033]\n",
      "  [1.63653826 1.49831863 1.7101938  1.02707033]\n",
      "  [1.63653826 1.49831863 1.7101938  1.02707033]]]\n",
      "(5, 3, 4)\n"
     ]
    }
   ],
   "source": [
    "#3: Các mảng chỉ có thể được phát cùng nhau nếu chúng tương thích ở tất cả ở các chiều\n",
    "x = np.ones((3,4))\n",
    "y = np.random.random((5,1,4))\n",
    "# Add x and y\n",
    "print(x+y)\n",
    "print((x+y).shape)"
   ]
  },
  {
   "cell_type": "code",
   "execution_count": null,
   "metadata": {},
   "outputs": [],
   "source": [
    "#4: Sử dụng các hàm trong numpy để tính toán"
   ]
  },
  {
   "cell_type": "code",
   "execution_count": 49,
   "metadata": {},
   "outputs": [
    {
     "data": {
      "text/plain": [
       "array([[2., 2., 2., 2.],\n",
       "       [2., 2., 2., 2.],\n",
       "       [2., 2., 2., 2.]])"
      ]
     },
     "execution_count": 49,
     "metadata": {},
     "output_type": "execute_result"
    }
   ],
   "source": [
    "# Hàm Add( + )\n",
    "x= np.ones((3,4))\n",
    "y= np.ones((3,4))\n",
    "np.add(x,y) # Tương tự như '+'"
   ]
  },
  {
   "cell_type": "code",
   "execution_count": 51,
   "metadata": {},
   "outputs": [
    {
     "data": {
      "text/plain": [
       "array([[0., 0., 0., 0.],\n",
       "       [0., 0., 0., 0.],\n",
       "       [0., 0., 0., 0.]])"
      ]
     },
     "execution_count": 51,
     "metadata": {},
     "output_type": "execute_result"
    }
   ],
   "source": [
    "# Hàm Subtract( - )\n",
    "x= np.ones((3,4))\n",
    "y= np.ones((3,4))\n",
    "np.subtract(x,y) # Tương tự như '-'"
   ]
  },
  {
   "cell_type": "code",
   "execution_count": 52,
   "metadata": {},
   "outputs": [
    {
     "data": {
      "text/plain": [
       "array([[1., 1., 1., 1.],\n",
       "       [1., 1., 1., 1.],\n",
       "       [1., 1., 1., 1.]])"
      ]
     },
     "execution_count": 52,
     "metadata": {},
     "output_type": "execute_result"
    }
   ],
   "source": [
    "# Hàm Divide( / )\n",
    "x= np.ones((3,4))\n",
    "y= np.ones((3,4))\n",
    "np.divide(x,y)"
   ]
  },
  {
   "cell_type": "code",
   "execution_count": 57,
   "metadata": {},
   "outputs": [
    {
     "data": {
      "text/plain": [
       "array([[1., 1., 1., 1.],\n",
       "       [1., 1., 1., 1.],\n",
       "       [1., 1., 1., 1.]])"
      ]
     },
     "execution_count": 57,
     "metadata": {},
     "output_type": "execute_result"
    }
   ],
   "source": [
    "# Hàm multiply( * )\n",
    "x= np.ones((3,4))\n",
    "y= np.ones((3,4))\n",
    "np.multiply(x,y)"
   ]
  },
  {
   "cell_type": "code",
   "execution_count": 59,
   "metadata": {},
   "outputs": [
    {
     "data": {
      "text/plain": [
       "array([[0., 0., 0., 0.],\n",
       "       [0., 0., 0., 0.],\n",
       "       [0., 0., 0., 0.]])"
      ]
     },
     "execution_count": 59,
     "metadata": {},
     "output_type": "execute_result"
    }
   ],
   "source": [
    "# Hàm Remanider( % )\n",
    "x= np.ones((3,4))\n",
    "y= np.ones((3,4))\n",
    "np.remainder(x,y)"
   ]
  },
  {
   "cell_type": "code",
   "execution_count": 60,
   "metadata": {},
   "outputs": [
    {
     "data": {
      "text/plain": [
       "array([[2., 2., 2., 2.],\n",
       "       [2., 2., 2., 2.],\n",
       "       [2., 2., 2., 2.]])"
      ]
     },
     "execution_count": 60,
     "metadata": {},
     "output_type": "execute_result"
    }
   ],
   "source": [
    "np.add(x,y)"
   ]
  },
  {
   "cell_type": "code",
   "execution_count": 61,
   "metadata": {},
   "outputs": [
    {
     "data": {
      "text/plain": [
       "array([[1, 2, 3, 4],\n",
       "       [5, 6, 7, 8]])"
      ]
     },
     "execution_count": 61,
     "metadata": {},
     "output_type": "execute_result"
    }
   ],
   "source": [
    "# Cách sử dụng các toán tử điều kiện để truy xuất mảng \n",
    "array"
   ]
  },
  {
   "cell_type": "code",
   "execution_count": 62,
   "metadata": {},
   "outputs": [
    {
     "name": "stdout",
     "output_type": "stream",
     "text": [
      "[[False False False False]\n",
      " [False  True  True  True]]\n"
     ]
    }
   ],
   "source": [
    "# In ra các phần tử > 5 trong mảng\n",
    "# C1\n",
    "b= array >5\n",
    "print(b)"
   ]
  },
  {
   "cell_type": "code",
   "execution_count": 64,
   "metadata": {},
   "outputs": [
    {
     "name": "stdout",
     "output_type": "stream",
     "text": [
      "[[0 0 0 0]\n",
      " [0 1 1 1]]\n"
     ]
    }
   ],
   "source": [
    "b = np.array(b,dtype=np.int64)\n",
    "print(b)"
   ]
  },
  {
   "cell_type": "code",
   "execution_count": 65,
   "metadata": {},
   "outputs": [
    {
     "data": {
      "text/plain": [
       "array([[0, 0, 0, 0],\n",
       "       [0, 6, 7, 8]], dtype=int64)"
      ]
     },
     "execution_count": 65,
     "metadata": {},
     "output_type": "execute_result"
    }
   ],
   "source": [
    "array*b"
   ]
  },
  {
   "cell_type": "code",
   "execution_count": 67,
   "metadata": {},
   "outputs": [
    {
     "name": "stdout",
     "output_type": "stream",
     "text": [
      "[6 7 8]\n",
      "[6 7 8]\n"
     ]
    }
   ],
   "source": [
    "# C2\n",
    "print(array[array>5])\n",
    "# C3\n",
    "b=np.where(array>5)\n",
    "print(array[b])"
   ]
  },
  {
   "cell_type": "code",
   "execution_count": 68,
   "metadata": {},
   "outputs": [
    {
     "data": {
      "text/plain": [
       "array([[ True,  True,  True,  True],\n",
       "       [False,  True,  True,  True]])"
      ]
     },
     "execution_count": 68,
     "metadata": {},
     "output_type": "execute_result"
    }
   ],
   "source": [
    "array != 5"
   ]
  },
  {
   "cell_type": "code",
   "execution_count": 76,
   "metadata": {},
   "outputs": [
    {
     "name": "stdout",
     "output_type": "stream",
     "text": [
      "[1 2 3 4 6 7 8]\n",
      "[1 2 3 4 6 7 8]\n"
     ]
    }
   ],
   "source": [
    "print(array[array!=5])\n",
    "print(array[np.where(array!=5)])"
   ]
  },
  {
   "cell_type": "code",
   "execution_count": 80,
   "metadata": {},
   "outputs": [
    {
     "name": "stdout",
     "output_type": "stream",
     "text": [
      "[False False False False]\n",
      "[ True  True  True  True]\n",
      "[False False  True  True]\n"
     ]
    }
   ],
   "source": [
    "#  Toán tử logic\n",
    "a= np.array([True, True, False, False])\n",
    "b= np.array([False, False, True, True])\n",
    "# Toán tử AND\n",
    "print(np.logical_and(a,b))\n",
    "# Toán tử OR\n",
    "print(np.logical_or(a,b))\n",
    "# Toán tử Not\n",
    "print(np.logical_not(a,b))"
   ]
  },
  {
   "cell_type": "code",
   "execution_count": 82,
   "metadata": {},
   "outputs": [
    {
     "name": "stdout",
     "output_type": "stream",
     "text": [
      "[1 2 3 4]\n",
      "[[1 2 3 4]\n",
      " [5 6 7 8]]\n",
      "[[[ 1  2  3  4]\n",
      "  [ 5  6  7  8]]\n",
      "\n",
      " [[ 9 10 11 12]\n",
      "  [13 14 15 16]]]\n"
     ]
    }
   ],
   "source": [
    "# SubSet,Slice,And Index Arrays\n",
    "#1: Indexing and Subsetting NumPy Array( Truy cập vào phần tử con trong mảng)\n",
    "# Tạo 1 mảng bằng arange\n",
    "my_array = np.arange(1,5)\n",
    "my_2darray = np.arange(1,9).reshape(2,4)\n",
    "my_3darray = np.arange(1,17).reshape(2,2,4)\n",
    "print(my_array)\n",
    "print(my_2darray)\n",
    "print(my_3darray)"
   ]
  },
  {
   "cell_type": "code",
   "execution_count": 86,
   "metadata": {},
   "outputs": [
    {
     "name": "stdout",
     "output_type": "stream",
     "text": [
      "2\n",
      "7\n",
      "15\n"
     ]
    }
   ],
   "source": [
    "# select the element at the 1st index( truy xuất vào phân tử thứ 1 trong mảng)\n",
    "print(my_array[1])\n",
    "# select the element at row 1 colum 2 (Truy xuất vào phần tử có hàng 1 , cột 2)\n",
    "print(my_2darray[1][2])\n",
    "# Select the element at row 1, colum2 and height 2\n",
    "print(my_3darray[1,1,2])"
   ]
  },
  {
   "cell_type": "code",
   "execution_count": 87,
   "metadata": {},
   "outputs": [
    {
     "name": "stdout",
     "output_type": "stream",
     "text": [
      "[1 2]\n"
     ]
    }
   ],
   "source": [
    "# We can also use boolean mask to index the array like this: Chúng ta có thể sử dungk các toán thử so sánh để truy xuất mảng\n",
    "a = np.array([-2,-1,0,1,2])\n",
    "print(a[a>0])"
   ]
  },
  {
   "cell_type": "code",
   "execution_count": 92,
   "metadata": {},
   "outputs": [
    {
     "name": "stdout",
     "output_type": "stream",
     "text": [
      "[[1 9 6]\n",
      " [4 0 5]\n",
      " [4 4 5]]\n"
     ]
    }
   ],
   "source": [
    "b = np.random.randint(1,10,(3,3))\n",
    "b[b==2]=0\n",
    "print(b)"
   ]
  },
  {
   "cell_type": "code",
   "execution_count": 93,
   "metadata": {
    "scrolled": true
   },
   "outputs": [
    {
     "data": {
      "text/plain": [
       "(array([], dtype=int64),)"
      ]
     },
     "execution_count": 93,
     "metadata": {},
     "output_type": "execute_result"
    }
   ],
   "source": [
    "# The np.where() function also have same usage: Hàm where có cách dùng như thường\n",
    "np.where(a>4)"
   ]
  },
  {
   "cell_type": "code",
   "execution_count": 96,
   "metadata": {},
   "outputs": [
    {
     "name": "stdout",
     "output_type": "stream",
     "text": [
      "[1 2]\n",
      "[2 6]\n",
      "[[ 9 10 11 12]\n",
      " [13 14 15 16]]\n",
      "[[ 9 10 11 12]\n",
      " [13 14 15 16]]\n"
     ]
    }
   ],
   "source": [
    "# Slicing NumPy Array \n",
    "# Select itemms at index 0 and 1 ( truy xuất phần tử từ 0 và 1 trong )\n",
    "print(my_array[0:2])\n",
    "# Select items at row 0 and 1, column 1( truy xuất vào phần tử hàng có phần tử 0 và 1 của hàng 1)\n",
    "print(my_2darray[0:2,1])\n",
    "#Select items at row 1\n",
    "# This í the same á saying my 3d array[1,:,:] ( truy xuất tất cả các phần tử của hàng 1)\n",
    "print(my_3darray[1,:,:])\n",
    "print(my_3darray[1,...])"
   ]
  },
  {
   "cell_type": "code",
   "execution_count": null,
   "metadata": {},
   "outputs": [],
   "source": [
    "array_slice_copied = my_array[1:2].copy(z)"
   ]
  },
  {
   "cell_type": "code",
   "execution_count": 97,
   "metadata": {},
   "outputs": [
    {
     "name": "stdout",
     "output_type": "stream",
     "text": [
      "In put Features:\n",
      " [[11 22]\n",
      " [44 55]\n",
      " [77 88]]\n",
      "Out put: [33 66 99]\n"
     ]
    }
   ],
   "source": [
    "#define array ( xác định 1 mảng)\n",
    "data = np.array([[11,22,33],[44,55,66],[77,88,99]])\n",
    "# Separate data ( Dữ liệu rời)\n",
    "x,y = data[:,:-1],data[:,-1]\n",
    "print(\"In put Features:\\n\",x)\n",
    "print(\"Out put:\",y)"
   ]
  },
  {
   "cell_type": "code",
   "execution_count": 102,
   "metadata": {},
   "outputs": [
    {
     "name": "stdout",
     "output_type": "stream",
     "text": [
      "Train data:\n",
      " [[11 22 33]\n",
      " [44 55 66]\n",
      " [77 88 99]]\n",
      "Test data:\n",
      " [[77 88 99]]\n"
     ]
    }
   ],
   "source": [
    "#Define array( Xác định 1  mảng)\n",
    "data = np.array([[11,22,33],[44,55,66],[77,88,99]])\n",
    "split = 2\n",
    "train, test = data[:split, :],data[split:, :]\n",
    "print(\"Train data:\\n\",data)\n",
    "print(\"Test data:\\n\",test)"
   ]
  },
  {
   "cell_type": "code",
   "execution_count": 103,
   "metadata": {},
   "outputs": [],
   "source": [
    "#Reshaping And Resizing Array (Đặt lại hình dạng và đưa mảng trở về kích thước ban đầu)\n",
    "x = np.array([[[1, 1, 1, 1],\n",
    "              [1, 1, 1, 1],\n",
    "              [1, 1, 1, 1],\n",
    "              [0, 0, 0, 0],\n",
    "              [0, 0, 0, 0],\n",
    "              [0, 0, 0, 0]],\n",
    "             [[1, 1, 1, 1],\n",
    "              [1, 1, 1, 1],\n",
    "              [1, 1, 1, 1],\n",
    "              [0, 0, 0, 0],\n",
    "              [0, 0, 0, 0],\n",
    "              [0, 0, 0, 0]]])"
   ]
  },
  {
   "cell_type": "code",
   "execution_count": 104,
   "metadata": {},
   "outputs": [
    {
     "name": "stdout",
     "output_type": "stream",
     "text": [
      "(2, 6, 4)\n"
     ]
    }
   ],
   "source": [
    "# Print the shape of x\n",
    "print(x.shape)"
   ]
  },
  {
   "cell_type": "code",
   "execution_count": 106,
   "metadata": {},
   "outputs": [
    {
     "name": "stdout",
     "output_type": "stream",
     "text": [
      "[[1 1 1 1]\n",
      " [1 1 1 1]\n",
      " [1 1 1 1]\n",
      " [0 0 0 0]\n",
      " [0 0 0 0]\n",
      " [0 0 0 0]]\n",
      "[[1 1 1 1]\n",
      " [1 1 1 1]\n",
      " [1 1 1 1]\n",
      " [0 0 0 0]\n",
      " [0 0 0 0]\n",
      " [0 0 0 0]]\n"
     ]
    }
   ],
   "source": [
    "# Resize x to ((6,4))\n",
    "print(np.resize(x,(6,4)))\n",
    "# Try out this as well\n",
    "x.resize((6,4))\n",
    "# Print out x\n",
    "print(x)"
   ]
  },
  {
   "cell_type": "code",
   "execution_count": 112,
   "metadata": {},
   "outputs": [
    {
     "name": "stdout",
     "output_type": "stream",
     "text": [
      "12\n",
      "[[1. 1. 1. 1. 1. 1.]\n",
      " [1. 1. 1. 1. 1. 1.]]\n",
      "[1. 1. 1. 1. 1. 1. 1. 1. 1. 1. 1. 1.]\n"
     ]
    }
   ],
   "source": [
    "x = np.ones((3,4))\n",
    "# Print the sizeof x to see what's possible\n",
    "print(x.size)\n",
    "# Reshape x to (2,6)\n",
    "print(x.reshape(2,6))\n",
    "# Flatten x\n",
    "z = x.ravel()\n",
    "print(z)"
   ]
  },
  {
   "cell_type": "code",
   "execution_count": 114,
   "metadata": {},
   "outputs": [
    {
     "name": "stdout",
     "output_type": "stream",
     "text": [
      "(5,)\n",
      "(5, 1)\n",
      "[[11]\n",
      " [22]\n",
      " [33]\n",
      " [44]\n",
      " [55]]\n"
     ]
    }
   ],
   "source": [
    "# Reshape Array for machine learning\n",
    "# Reshape 1D to 2D\n",
    "# define array\n",
    "data = np.array([11,22,33,44,55])\n",
    "print(data.shape)\n",
    "# reshape\n",
    "data = data.reshape(data.shape[0],1)\n",
    "print(data.shape)\n",
    "print(data)"
   ]
  },
  {
   "cell_type": "code",
   "execution_count": 117,
   "metadata": {},
   "outputs": [
    {
     "name": "stdout",
     "output_type": "stream",
     "text": [
      "(3, 2)\n",
      "(3, 2, 1)\n",
      "[[[11]\n",
      "  [22]]\n",
      "\n",
      " [[33]\n",
      "  [44]]\n",
      "\n",
      " [[55]\n",
      "  [66]]]\n"
     ]
    }
   ],
   "source": [
    "# Reshape 2D to 3D Array\n",
    "# List of data\n",
    "data = [[11,22],[33,44],[55,66]]\n",
    "# array of data\n",
    "data = np.array(data)\n",
    "print(data.shape)\n",
    "# Reshape \n",
    "data = data.reshape((data.shape[0],data.shape[1],1))\n",
    "print(data.shape)\n",
    "print(data)"
   ]
  },
  {
   "cell_type": "code",
   "execution_count": 118,
   "metadata": {},
   "outputs": [
    {
     "name": "stdout",
     "output_type": "stream",
     "text": [
      "[[1 2 3 4]\n",
      " [5 6 7 8]]\n",
      "[[1 5]\n",
      " [2 6]\n",
      " [3 7]\n",
      " [4 8]]\n",
      "[[1 5]\n",
      " [2 6]\n",
      " [3 7]\n",
      " [4 8]]\n"
     ]
    }
   ],
   "source": [
    "# TRansposeNumpy Arrays( Ma trận chuyển vị)\n",
    "print(my_2darray)\n",
    "print(np.transpose(my_2darray))\n",
    "print(my_2darray.T)"
   ]
  },
  {
   "cell_type": "code",
   "execution_count": 123,
   "metadata": {},
   "outputs": [
    {
     "name": "stdout",
     "output_type": "stream",
     "text": [
      "[ 1  2  3  4  7  8  9 10]\n",
      "[[1 2 3 4 7]\n",
      " [5 6 7 8 8]]\n"
     ]
    }
   ],
   "source": [
    "# Addtitional Shape Method\n",
    "# Append a 1D array to your my_array\n",
    "new_array = np.append(my_array,[7,8,9,10])\n",
    "print(new_array)\n",
    "# Append an extra colum to your my_2darray\n",
    "new_2darray = np.append(my_2darray,[[7],[8]],axis = 1)\n",
    "# Print new_2d_array\n",
    "print(new_2darray)"
   ]
  },
  {
   "cell_type": "code",
   "execution_count": 125,
   "metadata": {},
   "outputs": [
    {
     "data": {
      "text/plain": [
       "array([1, 3, 4])"
      ]
     },
     "execution_count": 125,
     "metadata": {},
     "output_type": "execute_result"
    }
   ],
   "source": [
    "# Insert And Delete Element\n",
    "# Insert 5 at index 1\n",
    "np.insert(my_array,1,5)\n",
    "# Delete the values at index 1\n",
    "np.delete(my_array,[1])"
   ]
  },
  {
   "cell_type": "code",
   "execution_count": 131,
   "metadata": {},
   "outputs": [
    {
     "name": "stdout",
     "output_type": "stream",
     "text": [
      "[1. 1. 1. 1.]\n",
      "1\n",
      "[1 2 3 4]\n",
      "1\n"
     ]
    }
   ],
   "source": [
    "# Join And Split Arrays ( gop va tach mang)\n",
    "x = np.ones(4)\n",
    "print(x)\n",
    "print(x.ndim)\n",
    "my_array = np.arange(1,5)\n",
    "print(my_array)\n",
    "print(my_array.ndim)\n",
    "my_resized_array = np.resize(np.arange(1,5),(2,4))\n",
    "my_2d_array = np.arange(1,9).reshape(2,4)"
   ]
  },
  {
   "cell_type": "code",
   "execution_count": 134,
   "metadata": {},
   "outputs": [
    {
     "name": "stdout",
     "output_type": "stream",
     "text": [
      "[1. 2. 3. 4. 1. 1. 1. 1.]\n"
     ]
    }
   ],
   "source": [
    "# Concatrntate my array and x\n",
    "print(np.concatenate((my_array,x)))"
   ]
  },
  {
   "cell_type": "code",
   "execution_count": 136,
   "metadata": {},
   "outputs": [
    {
     "name": "stdout",
     "output_type": "stream",
     "text": [
      "[[1 2 3 4]\n",
      " [1 2 3 4]\n",
      " [5 6 7 8]]\n"
     ]
    }
   ],
   "source": [
    "# Stack arrays row-wise\n",
    "print(np.vstack((my_array, my_2d_array)))\n",
    "            "
   ]
  },
  {
   "cell_type": "code",
   "execution_count": 137,
   "metadata": {},
   "outputs": [
    {
     "name": "stdout",
     "output_type": "stream",
     "text": [
      "[[1 2 3 4]\n",
      " [1 2 3 4]\n",
      " [1 2 3 4]\n",
      " [5 6 7 8]]\n"
     ]
    }
   ],
   "source": [
    "# Stack arrays row_wise\n",
    "print(np.r_[my_resized_array, my_2d_array])"
   ]
  },
  {
   "cell_type": "code",
   "execution_count": 138,
   "metadata": {},
   "outputs": [
    {
     "name": "stdout",
     "output_type": "stream",
     "text": [
      "[[1 2 3 4 1 2 3 4]\n",
      " [1 2 3 4 5 6 7 8]]\n"
     ]
    }
   ],
   "source": [
    "# Stack arrays horizontally\n",
    "print(np.hstack((my_resized_array, my_2d_array)))"
   ]
  },
  {
   "cell_type": "code",
   "execution_count": 139,
   "metadata": {},
   "outputs": [
    {
     "name": "stdout",
     "output_type": "stream",
     "text": [
      "[[1 2 3 4 1 2 3 4]\n",
      " [1 2 3 4 5 6 7 8]]\n"
     ]
    }
   ],
   "source": [
    "# Stack arrays colum-wise\n",
    "print(np.column_stack((my_resized_array, my_2d_array)))"
   ]
  },
  {
   "cell_type": "code",
   "execution_count": 140,
   "metadata": {},
   "outputs": [
    {
     "name": "stdout",
     "output_type": "stream",
     "text": [
      "[[1 2 3 4 1 2 3 4]\n",
      " [1 2 3 4 5 6 7 8]]\n"
     ]
    }
   ],
   "source": [
    "# Stack arrays column-wise\n",
    "print(np.c_[my_resized_array, my_2d_array])"
   ]
  },
  {
   "cell_type": "code",
   "execution_count": 143,
   "metadata": {},
   "outputs": [
    {
     "name": "stdout",
     "output_type": "stream",
     "text": [
      "[array([[1, 2, 3, 4],\n",
      "       [1, 2, 3, 4]]), array([[1, 2, 3, 4],\n",
      "       [5, 6, 7, 8]])]\n",
      "[array([[1, 2, 3, 4, 1, 2, 3, 4]]), array([[1, 2, 3, 4, 5, 6, 7, 8]])]\n"
     ]
    }
   ],
   "source": [
    "my_stacked_array = np.array([[1,2,3,4,1,2,3,4,],\n",
    "                             [1,2,3,4,5,6,7,8]])\n",
    "# Split my_stacked_array horizontally at the 2nd index\n",
    "print(np.hsplit(my_stacked_array,2))\n",
    "# Split my_stacked_array vertically at the 2nd index\n",
    "print(np.vsplit(my_stacked_array,2))"
   ]
  },
  {
   "cell_type": "code",
   "execution_count": 2,
   "metadata": {},
   "outputs": [
    {
     "ename": "NameError",
     "evalue": "name 'np' is not defined",
     "output_type": "error",
     "traceback": [
      "\u001b[1;31m---------------------------------------------------------------------------\u001b[0m",
      "\u001b[1;31mNameError\u001b[0m                                 Traceback (most recent call last)",
      "\u001b[1;32m<ipython-input-2-bab9b9d88db5>\u001b[0m in \u001b[0;36m<module>\u001b[1;34m\u001b[0m\n\u001b[1;32m----> 1\u001b[1;33m \u001b[0ma\u001b[0m \u001b[1;33m=\u001b[0m \u001b[0mnp\u001b[0m\u001b[1;33m.\u001b[0m\u001b[0mrandom\u001b[0m\u001b[1;33m.\u001b[0m\u001b[0mrandit\u001b[0m\u001b[1;33m(\u001b[0m\u001b[1;36m5\u001b[0m\u001b[1;33m)\u001b[0m\u001b[1;33m\u001b[0m\u001b[1;33m\u001b[0m\u001b[0m\n\u001b[0m\u001b[0;32m      2\u001b[0m \u001b[0mprint\u001b[0m\u001b[1;33m(\u001b[0m\u001b[0ma\u001b[0m\u001b[1;33m)\u001b[0m\u001b[1;33m\u001b[0m\u001b[1;33m\u001b[0m\u001b[0m\n\u001b[0;32m      3\u001b[0m \u001b[0mprint\u001b[0m\u001b[1;33m(\u001b[0m\u001b[0mnp\u001b[0m\u001b[1;33m.\u001b[0m\u001b[0msort\u001b[0m\u001b[1;33m(\u001b[0m\u001b[0ma\u001b[0m\u001b[1;33m)\u001b[0m\u001b[1;33m)\u001b[0m\u001b[1;33m\u001b[0m\u001b[1;33m\u001b[0m\u001b[0m\n\u001b[0;32m      4\u001b[0m \u001b[0ma\u001b[0m \u001b[1;33m=\u001b[0m \u001b[0mnp\u001b[0m\u001b[1;33m.\u001b[0m\u001b[0mrandom\u001b[0m\u001b[1;33m.\u001b[0m\u001b[0mrandit\u001b[0m\u001b[1;33m(\u001b[0m\u001b[0ma\u001b[0m\u001b[1;33m)\u001b[0m\u001b[1;33m\u001b[0m\u001b[1;33m\u001b[0m\u001b[0m\n\u001b[0;32m      5\u001b[0m \u001b[0mprint\u001b[0m\u001b[1;33m(\u001b[0m\u001b[0ma\u001b[0m\u001b[1;33m)\u001b[0m\u001b[1;33m\u001b[0m\u001b[1;33m\u001b[0m\u001b[0m\n",
      "\u001b[1;31mNameError\u001b[0m: name 'np' is not defined"
     ]
    }
   ],
   "source": [
    "a = np.random.randit(5)\n",
    "print(a)\n",
    "print(np.sort(a))\n",
    "a = np.random.randit(a)\n",
    "print(a)\n",
    "print(np.agsort(a))"
   ]
  },
  {
   "cell_type": "code",
   "execution_count": null,
   "metadata": {},
   "outputs": [],
   "source": []
  },
  {
   "cell_type": "code",
   "execution_count": null,
   "metadata": {},
   "outputs": [],
   "source": []
  }
 ],
 "metadata": {
  "kernelspec": {
   "display_name": "Python 3",
   "language": "python",
   "name": "python3"
  },
  "language_info": {
   "codemirror_mode": {
    "name": "ipython",
    "version": 3
   },
   "file_extension": ".py",
   "mimetype": "text/x-python",
   "name": "python",
   "nbconvert_exporter": "python",
   "pygments_lexer": "ipython3",
   "version": "3.7.6"
  }
 },
 "nbformat": 4,
 "nbformat_minor": 4
}
