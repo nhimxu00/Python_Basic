{
 "cells": [
  {
   "cell_type": "code",
   "execution_count": 20,
   "metadata": {},
   "outputs": [
    {
     "name": "stdout",
     "output_type": "stream",
     "text": [
      "[28 15 22 30 10 10 30 30 10 29]\n"
     ]
    }
   ],
   "source": [
    "#vd1 : Thay thế tất cả các phần tử trong 1 mảng có giá trị lớn hơn 30 thành 30 và dưới 10 thanh 10\n",
    "# input : [28. 15. 22. 42. 1. 7. 34. 41. 8. 29.]\n",
    "import numpy as np\n",
    "a = np.array([28, 15, 22, 42, 1, 7, 34, 41, 8, 29])\n",
    "# a[a%2==1] = 1\n",
    "a[a>30] = 30\n",
    "a[a<10] = 10\n",
    "print(a)"
   ]
  },
  {
   "cell_type": "code",
   "execution_count": 21,
   "metadata": {},
   "outputs": [
    {
     "data": {
      "text/plain": [
       "[3, 7, 6]"
      ]
     },
     "execution_count": 21,
     "metadata": {},
     "output_type": "execute_result"
    }
   ],
   "source": [
    "# vd2: Lấy vị trí của 3 giá trị lớn nhất trong 1 mảng numpy\n",
    "import numpy as np\n",
    "import heapq as hd\n",
    "a = np.array([28, 15, 22, 42, 1, 7, 34, 41, 8, 29])\n",
    "hd.nlargest(3,range(len(a)),a.__getitem__)"
   ]
  },
  {
   "cell_type": "code",
   "execution_count": 22,
   "metadata": {},
   "outputs": [],
   "source": [
    "# # vd3: Chuyển 1 mảng nhiều chiều thành mảng 1 chiều\n",
    "# import numpy as np\n",
    "\n",
    "# a = np.array([[0, 1, 2],[3, 4, 5, 6], [7, 8, 9]])\n",
    "# np.reshape(a,(10,1))"
   ]
  },
  {
   "cell_type": "code",
   "execution_count": 24,
   "metadata": {},
   "outputs": [
    {
     "name": "stdout",
     "output_type": "stream",
     "text": [
      "[[0. 0. 1. 0.]\n",
      " [0. 1. 0. 0.]\n",
      " [0. 0. 0. 1.]\n",
      " [0. 0. 0. 1.]\n",
      " [0. 1. 0. 0.]\n",
      " [0. 0. 1. 0.]]\n"
     ]
    }
   ],
   "source": [
    "# Vd4: Tạo hot-encoding cho mảng numpy.One-hot encoding nhằm chuyển đổi mỗi \n",
    "# giá trị n thành 1 vector mà vị trí thứ n trong vector v mang giá trị 1 và tất\n",
    "# cả vị trí khác đều mang giá trị 0\n",
    "import numpy as np\n",
    "a = np.array([2,1,3,3,1,2])\n",
    "b = np.zeros((a.size, a.max()+1))\n",
    "b[np.arange(a.size),a] = 1\n",
    "print(b)"
   ]
  },
  {
   "cell_type": "code",
   "execution_count": 29,
   "metadata": {},
   "outputs": [
    {
     "name": "stdout",
     "output_type": "stream",
     "text": [
      "[2 4 6 8]\n"
     ]
    }
   ],
   "source": [
    "# vd5: Sắp xếp các phần tử trong mảng \n",
    "import numpy as np\n",
    "a = [2,6,4,8]\n",
    "print(np.sort(a))"
   ]
  },
  {
   "cell_type": "code",
   "execution_count": 34,
   "metadata": {},
   "outputs": [
    {
     "ename": "IndexError",
     "evalue": "too many indices for array",
     "output_type": "error",
     "traceback": [
      "\u001b[1;31m---------------------------------------------------------------------------\u001b[0m",
      "\u001b[1;31mIndexError\u001b[0m                                Traceback (most recent call last)",
      "\u001b[1;32m<ipython-input-34-c7395d9cc449>\u001b[0m in \u001b[0;36m<module>\u001b[1;34m\u001b[0m\n\u001b[0;32m      4\u001b[0m               \u001b[1;33m[\u001b[0m\u001b[1;36m3\u001b[0m\u001b[1;33m,\u001b[0m \u001b[1;36m5\u001b[0m\u001b[1;33m,\u001b[0m \u001b[1;36m5\u001b[0m\u001b[1;33m]\u001b[0m\u001b[1;33m,\u001b[0m\u001b[1;33m\u001b[0m\u001b[1;33m\u001b[0m\u001b[0m\n\u001b[0;32m      5\u001b[0m               [6, 4, 5]])\n\u001b[1;32m----> 6\u001b[1;33m \u001b[0mb\u001b[0m \u001b[1;33m=\u001b[0m \u001b[0ma\u001b[0m\u001b[1;33m.\u001b[0m\u001b[0mmax\u001b[0m\u001b[1;33m(\u001b[0m\u001b[0maxis\u001b[0m\u001b[1;33m=\u001b[0m\u001b[1;36m1\u001b[0m\u001b[1;33m)\u001b[0m\u001b[1;33m[\u001b[0m\u001b[1;33m:\u001b[0m\u001b[1;33m,\u001b[0m\u001b[1;33m-\u001b[0m\u001b[1;36m2\u001b[0m\u001b[1;33m]\u001b[0m\u001b[1;33m\u001b[0m\u001b[1;33m\u001b[0m\u001b[0m\n\u001b[0m",
      "\u001b[1;31mIndexError\u001b[0m: too many indices for array"
     ]
    }
   ],
   "source": [
    "# vd6: Tìm giá trị max trong mỗi hàng và mỗi cột của mảng 2 chiều\n",
    "import numpy as np\n",
    "a = np.array([[5, 1, 7],\n",
    "              [3, 5, 5],\n",
    "              [6, 4, 5]])\n",
    "b = a.max(axis=1)[:,-2]"
   ]
  },
  {
   "cell_type": "code",
   "execution_count": null,
   "metadata": {},
   "outputs": [],
   "source": []
  }
 ],
 "metadata": {
  "kernelspec": {
   "display_name": "Python 3",
   "language": "python",
   "name": "python3"
  },
  "language_info": {
   "codemirror_mode": {
    "name": "ipython",
    "version": 3
   },
   "file_extension": ".py",
   "mimetype": "text/x-python",
   "name": "python",
   "nbconvert_exporter": "python",
   "pygments_lexer": "ipython3",
   "version": "3.7.6"
  }
 },
 "nbformat": 4,
 "nbformat_minor": 4
}
