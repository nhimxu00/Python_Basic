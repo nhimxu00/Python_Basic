{
 "cells": [
  {
   "cell_type": "code",
   "execution_count": 4,
   "metadata": {},
   "outputs": [
    {
     "name": "stdout",
     "output_type": "stream",
     "text": [
      "['one', 'two', 'three', 'four ']\n",
      "one two three four \n",
      "one two three four \n"
     ]
    }
   ],
   "source": [
    "# Những công dụng của dấ hoa thị \n",
    "# 1: Dùng dấu * để unpack các phần tử của list/tuple/set/dictionary\n",
    "# unpack cho 1 list\n",
    "# Lấy tất cả các phần tử của 1 list \n",
    "numbers = ['one', 'two', 'three', 'four ']\n",
    "\n",
    "print(numbers)\n",
    "print(numbers[0],numbers[1],numbers[2],numbers[3])\n",
    "print(*numbers)"
   ]
  },
  {
   "cell_type": "code",
   "execution_count": 6,
   "metadata": {},
   "outputs": [
    {
     "name": "stdout",
     "output_type": "stream",
     "text": [
      "('one', 'two', 'three', 'four')\n",
      "one two three four\n",
      "one two three four\n"
     ]
    }
   ],
   "source": [
    "# tuple\n",
    "# unpack cho 1 list\n",
    "# Lấy tất cả các phần tử của 1 tuple\n",
    "numbers = ('one', 'two', 'three', 'four')\n",
    "print(numbers)\n",
    "print(numbers[0],numbers[1],numbers[2],numbers[3])\n",
    "print(*numbers)"
   ]
  },
  {
   "cell_type": "code",
   "execution_count": 7,
   "metadata": {},
   "outputs": [
    {
     "name": "stdout",
     "output_type": "stream",
     "text": [
      "('one', 'two', 'three', 'four')\n",
      "one two three four\n"
     ]
    }
   ],
   "source": [
    "# set\n",
    "# unpack cho 1 list\n",
    "# Lấy tất cả các phần tử của 1 set\n",
    "numbers = ('one', 'two', 'three', 'four')\n",
    "print(numbers)\n",
    "print(*numbers)"
   ]
  },
  {
   "cell_type": "code",
   "execution_count": 8,
   "metadata": {},
   "outputs": [
    {
     "name": "stdout",
     "output_type": "stream",
     "text": [
      "{'a': 1, 'b': 2, 'c': 3}\n",
      "a b c\n"
     ]
    }
   ],
   "source": [
    "# dictionary\n",
    "# unpack cho 1 list\n",
    "# Lấy tất cả các phần tử của 1 dictionary\n",
    "mydict = {'a':1, 'b':2, 'c':3}\n",
    "print(mydict)\n",
    "print(*mydict)\n",
    "# * trong dict chỉ in key của dict"
   ]
  },
  {
   "cell_type": "code",
   "execution_count": 10,
   "metadata": {},
   "outputs": [
    {
     "name": "stdout",
     "output_type": "stream",
     "text": [
      "<class 'tuple'>\n",
      "20\n",
      "<class 'tuple'>\n",
      "6\n",
      "7\n",
      "<class 'tuple'>\n",
      "6\n",
      "7\n",
      "8\n"
     ]
    }
   ],
   "source": [
    "# 2: Dùng dấu hao thị trước tham số cho 1 hàm: Điều này cho phép hàm số có thể\n",
    "# nhận được tham sô tùy ý\n",
    "def my_function(*x):\n",
    "    print(type(x))\n",
    "    for i in x:\n",
    "        print(i)\n",
    "        \n",
    "my_function(20)\n",
    "my_function(6,7)\n",
    "my_function(6,7,8)\n",
    "# ở đây, biến x với dấu hoa thị ở trước được sử dụng như tuple"
   ]
  },
  {
   "cell_type": "code",
   "execution_count": 14,
   "metadata": {},
   "outputs": [
    {
     "name": "stdout",
     "output_type": "stream",
     "text": [
      "one\n",
      "two\n",
      "<class 'list'>\n",
      "['three', 'four']\n",
      "two\n",
      "three\n",
      "<class 'list'>\n",
      "['one', 'four']\n",
      "one\n",
      "two\n",
      "<class 'list'>\n",
      "['three', 'four']\n",
      "a\n",
      "<class 'list'>\n",
      "['b', 'c', 'd']\n"
     ]
    }
   ],
   "source": [
    "# 3. Dùng dấu hoa thị để nhận giá trị từ list/set/dictionary\n",
    "# list\n",
    "numbers = ['one','two', 'three', 'four']\n",
    "one, two, *remain = numbers\n",
    "\n",
    "print(one)\n",
    "print(two)\n",
    "print(type(remain))\n",
    "print(remain)\n",
    "# tuple\n",
    "numbers = ('one','two','three','four')\n",
    "numbers = set(numbers)\n",
    "one, two, *remain = numbers\n",
    "\n",
    "print(one)\n",
    "print(two)\n",
    "print(type(remain))\n",
    "print(remain)\n",
    "# set\n",
    "numbers = ('one','two','three','four')\n",
    "one, two, *remain = numbers\n",
    "\n",
    "print(one)\n",
    "print(two)\n",
    "print(type(remain))\n",
    "print(remain)\n",
    "# dictionary\n",
    "mydict = {'a':1,'b':2,'c':3,'d':4}\n",
    "first, *remain = mydict\n",
    "print(first)\n",
    "print(type(remain))\n",
    "print(remain)\n"
   ]
  },
  {
   "cell_type": "code",
   "execution_count": 15,
   "metadata": {},
   "outputs": [
    {
     "name": "stdout",
     "output_type": "stream",
     "text": [
      "{'a': 1, 'b': 2, 'c': 3}\n",
      "{'d': 4, 'e': 5}\n",
      "{'a': 1, 'b': 2, 'c': 3, 'd': 4, 'e': 5}\n"
     ]
    }
   ],
   "source": [
    "\n",
    "# Kết hợp 2 dictionary\n",
    "mydict1 = {'a':1,'b':2,'c':3}\n",
    "mydict2 = {'d':4,'e':5}\n",
    "print(mydict1)\n",
    "print(mydict2)\n",
    "\n",
    "mydict3 = {**mydict1, **mydict2}\n",
    "print(mydict3)"
   ]
  },
  {
   "cell_type": "code",
   "execution_count": null,
   "metadata": {},
   "outputs": [],
   "source": []
  }
 ],
 "metadata": {
  "kernelspec": {
   "display_name": "Python 3",
   "language": "python",
   "name": "python3"
  },
  "language_info": {
   "codemirror_mode": {
    "name": "ipython",
    "version": 3
   },
   "file_extension": ".py",
   "mimetype": "text/x-python",
   "name": "python",
   "nbconvert_exporter": "python",
   "pygments_lexer": "ipython3",
   "version": "3.7.6"
  }
 },
 "nbformat": 4,
 "nbformat_minor": 4
}
