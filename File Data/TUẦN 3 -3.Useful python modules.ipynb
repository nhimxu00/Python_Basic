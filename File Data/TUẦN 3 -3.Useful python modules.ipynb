{
 "cells": [
  {
   "cell_type": "code",
   "execution_count": 3,
   "metadata": {},
   "outputs": [
    {
     "name": "stdout",
     "output_type": "stream",
     "text": [
      "C:\\Users\\MINH\\File Data\n",
      "/image/image1.jpg\n",
      "/Users/Aivietnam/image\n",
      "logo.png\n"
     ]
    }
   ],
   "source": [
    "# 1: MODULES os\n",
    "import os\n",
    "# os.getcwd() : trả về thư mục hiện hành\n",
    "print(os.getcwd())\n",
    "\n",
    "# os.path.join() : nối string\n",
    "print(os.path.join(\"/image/\",\"image1.jpg\"))\n",
    "\n",
    "# split(): tách path và file name\n",
    "pathname = \"/Users/Aivietnam/image/logo.png\"\n",
    "(dir_name, file_name) = os.path.split(pathname)\n",
    "print(dir_name)\n",
    "print(file_name)"
   ]
  },
  {
   "cell_type": "code",
   "execution_count": 9,
   "metadata": {},
   "outputs": [
    {
     "name": "stdout",
     "output_type": "stream",
     "text": [
      "0\n"
     ]
    }
   ],
   "source": [
    "# 2: Module glob\n",
    "import glob\n",
    "\n",
    "# Lấy tất cả path cho các file có đuôi là .jpg\n",
    "list_of_path = glob.glob(\"images/*.png\")\n",
    "print(len(list_of_path))"
   ]
  },
  {
   "cell_type": "code",
   "execution_count": 12,
   "metadata": {},
   "outputs": [
    {
     "name": "stdout",
     "output_type": "stream",
     "text": [
      "Large content\n"
     ]
    }
   ],
   "source": [
    "# 3: Module gzip\n",
    "import gzip\n",
    "\n",
    "# Tạo file gzip\n",
    "data = \"Large content\"\n",
    "f = gzip.open(\"file.txt.gz\",\"wb\")\n",
    "f.write(data.encode())\n",
    "f.close()\n",
    "\n",
    "# Đọc file gzip\n",
    "f = gzip.open(\"file.txt.gz\",\"rb\")\n",
    "file_data = f.read()\n",
    "print(file_data.decode())\n",
    "f.close()"
   ]
  },
  {
   "cell_type": "code",
   "execution_count": 13,
   "metadata": {},
   "outputs": [
    {
     "name": "stdout",
     "output_type": "stream",
     "text": [
      "<class 'numpy.ndarray'>\n",
      "(3,)\n",
      "1 2 3\n",
      "[1 7 3]\n"
     ]
    }
   ],
   "source": [
    "# 4: Numpy\n",
    "import numpy as np\n",
    "\n",
    "# Tạo 1 numpy array có 1 chiều\n",
    "a = np.array([1,2,3])\n",
    "\n",
    "print(type(a)) # Sẽ in ra < class \"numpy.ndarray\">\n",
    "print(a.shape) # Sẽ in ra \"(3,)\"\n",
    "print(a[0],a[1],a[2]) # Sẽ in ra \"1 2 3\"\n",
    "a[1] = 7  # Thay đổi giá trị của 1 phần tử trong mảng\n",
    "print(a)  # Sẽ in ra két quả \"[1,7,3]\""
   ]
  },
  {
   "cell_type": "code",
   "execution_count": 14,
   "metadata": {},
   "outputs": [
    {
     "name": "stdout",
     "output_type": "stream",
     "text": [
      "(2, 3)\n",
      "1 2 4\n"
     ]
    }
   ],
   "source": [
    "import numpy as np\n",
    "\n",
    "# Tạo 1 numpy array có 2 chiều\n",
    "b = np.array([[1,2,3],\n",
    "              [4,5,6] ])\n",
    "print(b.shape) # Sẽ in ra \"(2,3)\"\n",
    "print(b[0,0],b[0,1],b[1,0]) # Sẽ in ra \"1 2 4\""
   ]
  },
  {
   "cell_type": "code",
   "execution_count": 20,
   "metadata": {},
   "outputs": [
    {
     "name": "stdout",
     "output_type": "stream",
     "text": [
      "[[0 0 0 ... 0 0 0]\n",
      " [0 0 0 ... 0 0 0]\n",
      " [0 0 0 ... 0 0 0]\n",
      " ...\n",
      " [0 0 0 ... 0 0 0]\n",
      " [0 0 0 ... 0 0 0]\n",
      " [0 0 0 ... 0 0 0]]\n"
     ]
    }
   ],
   "source": [
    "import numpy as np\n",
    "\n",
    "# Tạo 1 numpy as có 2 chiều\n",
    "# Kiểu unsigned int 8 bit chứa giá trị từ 0 ->255\n",
    "width = 300\n",
    "heigth = 250\n",
    "image = np.zeros((width, heigth), np.uint8)\n",
    "print(image)"
   ]
  },
  {
   "cell_type": "code",
   "execution_count": 21,
   "metadata": {},
   "outputs": [
    {
     "name": "stdout",
     "output_type": "stream",
     "text": [
      "JPEG (640, 360) RGB\n"
     ]
    }
   ],
   "source": [
    "# 6: Python Image Library \n",
    "# Trong module này, class quan trọng nhất  là Image class. Chúng ta có thể tạo các thể hiện của class này theo cách:\n",
    "# bằng cách đọc từ file, xử lí hình ảnh khác, hoặc tạo 1 hình ảnh từ đầu\n",
    "from PIL import Image\n",
    "\n",
    "# Đọc file ảnh\n",
    "im  = Image.open(\"Sydney-Opera-House.jpg\")\n",
    "\n",
    "# in các thuộc tính của ảnh\n",
    "print(im.format, im.size, im.mode)\n",
    "# hiển thị ảnh\n",
    "im.show()"
   ]
  },
  {
   "cell_type": "code",
   "execution_count": 26,
   "metadata": {},
   "outputs": [],
   "source": [
    "# format : xác định loại file ảnh \n",
    "# size : trả về 1 tuple chứa chiều rồng và chiều cao của anhe\n",
    "# mode : cho biết kiểu ảnh ở dạng graysacle( thang màu xám ), với RGB ở dạng màu của ảnh\n",
    "from PIL import Image\n",
    "# đọc file ảnh\n",
    "img = open(\"Sydney-Opera-House.jpg\")\n",
    "\n",
    "# chuyển sang ảnh grayscale\n",
    "img = im.convert(\"L\")\n",
    "\n",
    "# resize ảnh \n",
    "out = im.resize((128,128))\n",
    "    \n",
    "# rotate ảnh 45 độ\n",
    "out = im.rotate(45)\n",
    "\n",
    "# Hiển thị ảnh gốc và ảnh kết quả\n",
    "im.show()\n",
    "out.show()"
   ]
  },
  {
   "cell_type": "code",
   "execution_count": 32,
   "metadata": {},
   "outputs": [
    {
     "data": {
      "image/png": "[encoded data removed]",
      "text/plain": [
       "<Figure size 432x288 with 1 Axes>"
      ]
     },
     "metadata": {
      "needs_background": "light"
     },
     "output_type": "display_data"
    }
   ],
   "source": [
    "# 7: Matplotllb\n",
    "# Hàm plt.plot(tọa độ x, tọa độ y)  để nhập tọa độ của từng điểm trong biểu đồ.\n",
    "# Nếu plt.plot() chỉ nhập 1 list các giá trị thì ct sẽ nhầm đó là tung độ các điểm.\n",
    "# vd: plt.plot([0,1,2,3],[1,2,3,4]) tọa độ các điểm là : {0,1};{1,2}...\n",
    "# Hàm plt.xlabel() và plt.ylabel() dùng để đặt tên cho truc x và y của biểu đồ.Hàm show()\n",
    "# hiển thị biểu đồ\n",
    "# VD1: \n",
    "import matplotlib.pyplot as plt\n",
    "\n",
    "x_data = [0,1,2,3]\n",
    "y_data = [1,3,4,2]\n",
    "\n",
    "plt.plot(x_data,y_data)\n",
    "plt.xlabel(\"x values\")\n",
    "plt.ylabel(\"y values\")\n",
    "\n",
    "# Hiển thị biểu đồ\n",
    "plt.show()"
   ]
  },
  {
   "cell_type": "code",
   "execution_count": 35,
   "metadata": {},
   "outputs": [
    {
     "data": {
      "text/plain": [
       "[1.0, 2.0, 3.0, 4.0, 5.0, 6.0, 7.0]"
      ]
     },
     "execution_count": 35,
     "metadata": {},
     "output_type": "execute_result"
    }
   ],
   "source": [
    "# vd2: Trong trường rất nhiều th, x_data cần được sinh ra tự động. Viết hàm linear_sapce()\n",
    "# để sinh ra dãy số tuyến tính trong đoạn [start,stop) với số lượng num cho trước\n",
    "def linear_space(start, stop, num = 10 ):\n",
    "    num = int(num)\n",
    "    start = start*1\n",
    "    stop = stop*1\n",
    "    assert  num>1, \"num should be greater than 1\"\n",
    "    step = (stop-start) / num\n",
    "    \n",
    "    result = []\n",
    "    for i in range(num):\n",
    "        result.append(start + step*i)\n",
    "        \n",
    "    return result\n",
    "# chạy thử hàm linear_space()\n",
    "linear_space(1,10,5)\n",
    "linear_space(1,8,7)"
   ]
  },
  {
   "cell_type": "code",
   "execution_count": 40,
   "metadata": {},
   "outputs": [
    {
     "data": {
      "text/plain": [
       "[<matplotlib.lines.Line2D at 0x1bd0ba3d248>]"
      ]
     },
     "execution_count": 40,
     "metadata": {},
     "output_type": "execute_result"
    },
    {
     "data": {
      "image/png": "[encoded data removed]",
      "text/plain": [
       "<Figure size 432x288 with 1 Axes>"
      ]
     },
     "metadata": {
      "needs_background": "light"
     },
     "output_type": "display_data"
    }
   ],
   "source": [
    "# Plot hàm tanh dùng hàm linear_space()\n",
    "# tanh function\n",
    "import matplotlib.pyplot as plt\n",
    "import math\n",
    "\n",
    "def tanh_function(data):\n",
    "    return [ (math.exp(x)-math.exp(-x))/(math.exp(x)+math.exp(-x)) for x in data]\n",
    "\n",
    "# Calculate plot points\n",
    "data = linear_space(-5.,5.,100)\n",
    "data_tanh = tanh_function(data)\n",
    "# Create amd show plot\n",
    "plt.plot(data, data_tanh, color=\"#d35400\", linewidth=3)\n",
    "fig.show()"
   ]
  },
  {
   "cell_type": "code",
   "execution_count": 45,
   "metadata": {},
   "outputs": [
    {
     "name": "stderr",
     "output_type": "stream",
     "text": [
      "C:\\Users\\MINH\\AppData\\Roaming\\Python\\Python37\\site-packages\\ipykernel_launcher.py:29: UserWarning: Matplotlib is currently using module://ipykernel.pylab.backend_inline, which is a non-GUI backend, so cannot show the figure.\n"
     ]
    },
    {
     "data": {
      "image/png": "[encoded data removed]",
      "text/plain": [
       "<Figure size 720x360 with 1 Axes>"
      ]
     },
     "metadata": {
      "needs_background": "light"
     },
     "output_type": "display_data"
    }
   ],
   "source": [
    "# Vd4: Plot hàm tạn và đạo hàm của nó trong cùng 1 biểu đồ\n",
    "import matplotlib.pyplot as plt\n",
    "import math\n",
    "\n",
    "def tanh_function(data):\n",
    "    return [(math.exp(x)-math.exp(-x))/(math.exp(x)+math.exp(-x)) for x in data]\n",
    "\n",
    "def tanh_derivative(data):\n",
    "    return [1-x**2 for x in data]\n",
    "\n",
    "# chuẩn vị x_data và y_data\n",
    "data = linear_space(-5.,5.,100)\n",
    "data_tanh = tanh_function(data)\n",
    "data_dtanh = tanh_derivative(data_tanh)\n",
    "\n",
    "# Chỉnh lại 4 trục\n",
    "fig, ax = plt.subplots(figsize = (10,5))\n",
    "ax.spines[\"left\"].set_position(\"center\")\n",
    "ax.spines[\"bottom\"].set_position(\"center\")\n",
    "ax.spines[\"right\"].set_color(\"none\")\n",
    "ax.spines[\"top\"].set_color(\"none\")\n",
    "ax.xaxis.set_ticks_position(\"bottom\")\n",
    "ax.yaxis.set_ticks_position(\"left\")\n",
    "\n",
    "# Tạo và hiển thị biểu đồ\n",
    "ax.plot(data, data_tanh, color = \"#d35400\",linewidth = 3, label=\"tanh\")\n",
    "ax.plot(data, data_dtanh, color =\"#1abd15\", linewidth = 3, label=\"derivative\")\n",
    "ax.legend(loc=\"upper left\", frameon = False)\n",
    "fig.show()"
   ]
  },
  {
   "cell_type": "code",
   "execution_count": null,
   "metadata": {},
   "outputs": [],
   "source": []
  }
 ],
 "metadata": {
  "kernelspec": {
   "display_name": "Python 3",
   "language": "python",
   "name": "python3"
  },
  "language_info": {
   "codemirror_mode": {
    "name": "ipython",
    "version": 3
   },
   "file_extension": ".py",
   "mimetype": "text/x-python",
   "name": "python",
   "nbconvert_exporter": "python",
   "pygments_lexer": "ipython3",
   "version": "3.7.6"
  }
 },
 "nbformat": 4,
 "nbformat_minor": 4
}
