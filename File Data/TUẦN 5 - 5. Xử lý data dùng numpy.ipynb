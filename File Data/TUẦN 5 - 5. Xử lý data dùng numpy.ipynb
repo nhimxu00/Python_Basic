{
 "cells": [
  {
   "cell_type": "code",
   "execution_count": 10,
   "metadata": {},
   "outputs": [
    {
     "name": "stdout",
     "output_type": "stream",
     "text": [
      "(151, 6)\n",
      "[b'1' b'5.1' b'3.5' b'1.4' b'0.2' b'Iris-setosa']\n",
      "b'1' <class 'bytes'>\n",
      "b'5.1' <class 'bytes'>\n",
      "b'3.5' <class 'bytes'>\n",
      "b'1.4' <class 'bytes'>\n",
      "b'0.2' <class 'bytes'>\n"
     ]
    }
   ],
   "source": [
    "# vd1: Đọc tập dữ liệu Iris dùng hàm np.genfromtxt() với dtype = \"object\". Dữ liệu trả về\n",
    "# là 1 mảng 2 chiều, với các phần tử có kiểu là byte\n",
    "import numpy as np\n",
    "# Cho dtype = 'object', mảng 2 chiều kiêu byte được trả về.\n",
    "iris = np.genfromtxt(\"Iris.csv\", delimiter=',', dtype = 'object')\n",
    "print(iris.shape)\n",
    "\n",
    "# Lấy 1 dòng dữ liệu\n",
    "a_row = iris[1]\n",
    "print(a_row)\n",
    "\n",
    "# In kiểu dữ liệu cho từng phần tử\n",
    "print(a_row[0], type(a_row[0]))\n",
    "print(a_row[1], type(a_row[1]))\n",
    "print(a_row[2], type(a_row[2]))\n",
    "print(a_row[3], type(a_row[3]))\n",
    "print(a_row[4], type(a_row[4]))"
   ]
  },
  {
   "cell_type": "code",
   "execution_count": 15,
   "metadata": {},
   "outputs": [
    {
     "name": "stdout",
     "output_type": "stream",
     "text": [
      "(151, 6)\n",
      "[b'1' b'5.1' b'3.5' b'1.4' b'0.2' b'Iris-setosa']\n",
      "b'1' <class 'numpy.bytes_'>\n",
      "b'5.1' <class 'numpy.bytes_'>\n",
      "b'3.5' <class 'numpy.bytes_'>\n",
      "b'1.4' <class 'numpy.bytes_'>\n",
      "b'0.2' <class 'numpy.bytes_'>\n"
     ]
    },
    {
     "name": "stderr",
     "output_type": "stream",
     "text": [
      "C:\\Users\\MINH\\AppData\\Roaming\\Python\\Python37\\site-packages\\ipykernel_launcher.py:4: VisibleDeprecationWarning: Reading unicode strings without specifying the encoding argument is deprecated. Set the encoding, use None for the system default.\n",
      "  after removing the cwd from sys.path.\n"
     ]
    }
   ],
   "source": [
    "# vd2: Đọc tập dữ liệu Iris dùng hàm np.genfromtxt() với dtype = None. Dữ liệu trả vể\n",
    "# về 1 mảng 1 chiều, với các phần tử có kiểu là tuple . Trong mỗi tuple, số kiểu float và chuỗi có kiểu byte\n",
    "import numpy as np\n",
    "iris_1d = np.genfromtxt(\"iris.csv\",delimiter=',',dtype = None)\n",
    "print(iris_1d.shape)\n",
    "\n",
    "# lấy 1 dòng dữ liệu\n",
    "a_row = iris_1d[1]\n",
    "print(a_row)\n",
    "\n",
    "# In kiểu dữ liệu cho từng phần tử của tuple\n",
    "print(a_row[0], type(a_row[0]))\n",
    "print(a_row[1], type(a_row[1]))\n",
    "print(a_row[2], type(a_row[2]))\n",
    "print(a_row[3], type(a_row[3]))\n",
    "print(a_row[4], type(a_row[4]))"
   ]
  },
  {
   "cell_type": "code",
   "execution_count": 16,
   "metadata": {},
   "outputs": [
    {
     "name": "stderr",
     "output_type": "stream",
     "text": [
      "C:\\Users\\MINH\\AppData\\Roaming\\Python\\Python37\\site-packages\\ipykernel_launcher.py:4: VisibleDeprecationWarning: Reading unicode strings without specifying the encoding argument is deprecated. Set the encoding, use None for the system default.\n",
      "  after removing the cwd from sys.path.\n"
     ]
    },
    {
     "name": "stdout",
     "output_type": "stream",
     "text": [
      "[[b'Id' b'SepalLengthCm' b'SepalWidthCm' b'PetalLengthCm']\n",
      " [b'1' b'5.1' b'3.5' b'1.4']\n",
      " [b'2' b'4.9' b'3.0' b'1.4']\n",
      " [b'3' b'4.7' b'3.2' b'1.3']]\n",
      "[[nan nan nan nan]\n",
      " [1.  5.1 3.5 1.4]\n",
      " [2.  4.9 3.  1.4]\n",
      " [3.  4.7 3.2 1.3]]\n"
     ]
    }
   ],
   "source": [
    "# vd3: Tạo mảng 2 chiều gồm 4 cột dữ liệu đầu tiên\n",
    "import numpy as np\n",
    "# Đọc dữ liệu\n",
    "iris_1d = np.genfromtxt(\"Iris.csv\", delimiter = ',', dtype= None)\n",
    "# c1: Biến đổi mỗi hàng thành list rồi lấy 4 phần tử đầu\n",
    "iris_2d_1 = np.array([row.tolist()[:4] for row in iris_1d])\n",
    "# in 4 dòng đầu tiên\n",
    "print(iris_2d_1[:4])\n",
    "\n",
    "# C2: Trích xuất 4 cột đầu khi đọc file dữ liêu, chỉ định dtype=\"float\"\n",
    "iris_2d_2 = np.genfromtxt(\"Iris.csv\", delimiter = \",\", dtype=\"float\", usecols=[0,1,2,3])\n",
    "# in 4 dòng đầu tiên\n",
    "print(iris_2d_2[:4])"
   ]
  },
  {
   "cell_type": "code",
   "execution_count": 19,
   "metadata": {},
   "outputs": [
    {
     "name": "stdout",
     "output_type": "stream",
     "text": [
      "(151,)\n",
      "nan nan nan\n"
     ]
    }
   ],
   "source": [
    "# vd4: Tìm giá trị trung bình , trung vị, độ lệch chuẩn của cột của tập dữ liệu ( cột thứ 1)\n",
    "import numpy as np\n",
    "# Trích xuất cột 1 từ IRIS thành mảng 1 chiều\n",
    "sepallength = np.genfromtxt(\"Iris.csv\", delimiter = ',', dtype=float, usecols = [0])\n",
    "print(sepallength.shape)\n",
    "# Giá trị trung bình, trung vị, độ lệch chuẩn của sepallength\n",
    "mean, median, std = np.mean(sepallength),np.median(sepallength), np.std(sepallength)\n",
    "print(mean, median, std)"
   ]
  },
  {
   "cell_type": "code",
   "execution_count": 22,
   "metadata": {},
   "outputs": [
    {
     "name": "stdout",
     "output_type": "stream",
     "text": [
      "[nan nan nan nan nan]\n",
      "[nan nan nan nan nan]\n"
     ]
    }
   ],
   "source": [
    "# vd5: Chuẩn hóa (normalize) cột sepallength để giá trị nằm trong khoảng từ 0 đến 1\n",
    "import numpy as np\n",
    "# Trích xuất cột 1 từ IRIS thành mảng 1 chiều\n",
    "sepallength = np.genfromtxt(\"iris.csv\", delimiter=',',dtype=\"float\",usecols=[0])\n",
    "\n",
    "# c1: công thức chuẩn hóa 1 mảng có giá trị từ 0 -> 1\n",
    "# norm_array_a = a(i) - min.a / (max.a-min.a)\n",
    "norm_sepallength1 = (sepallength - sepallength.min()) / (sepallength.max() - sepallength.min())\n",
    "\n",
    "# in 5 giá trị đầu tiên\n",
    "print(norm_sepallength1[:5])\n",
    "# c2: dùng hàm ptp() lấy phạm vi giá trị tức (max - min)\n",
    "norm_sepallength2 = (sepallength - sepallength.min()) / sepallength.ptp()\n",
    "\n",
    "# in 5 giá trị đầu tiên\n",
    "print(norm_sepallength2[:5])"
   ]
  },
  {
   "cell_type": "code",
   "execution_count": null,
   "metadata": {},
   "outputs": [],
   "source": [
    "#vd6: Tính softmax cho cột sepallength\n",
    "import numpy as np\n",
    "# Trích xuát cột 1 từ IRis thành mảng 1 chiều\n",
    "sepallength = np.genfromtxt(\"Iris.csv\", delimiter=',',dtype=\"float\", usecols=[0])\n",
    "print(sepallength.shape)\n",
    "\n",
    "def softmax(x):\n",
    "    # Tính giá trị softmax cho từng phần tử của x\n",
    "    e_x = np.exp(x - np.max(x))\n",
    "    return e_x/e_x.sum()\n",
    "# in chỉ 3 số lẻ\n",
    "np.set_printoptions(precision=4)\n",
    "print(softmax(sepallength))"
   ]
  },
  {
   "cell_type": "code",
   "execution_count": null,
   "metadata": {},
   "outputs": [],
   "source": [
    "# vd7: Đọc tập dữ liệu Iris dùng hàm np.genfromtxt() với dtype = \"float\". Dữ liệu trả về là 1 mảng\n",
    "# 2 chiều , với các phần tử có kiểu dữ liệu float cho sô và nan(ko xác định) cho chuỗi. Tìm vị trí có giá trị\n",
    "# không xác định trong mảng numpy\n",
    "import numpy as np\n",
    "# đọc dữ liệu\n",
    "iris_2d = np.genfromtxt(\"iris.csv\", delimiter=',', dtype=\"float\")\n",
    "\n",
    "# in 5 đầu tiên \n",
    "print(iris_2d[:5])\n",
    "# đếm số phần tử nan\n",
    "print(\"số lượng các phần tử có giá trị không xác định: \", npp.isnan(iris_2d).sum())\n",
    "\n",
    "# Lấy vị trí, trả về (array_of_index, array_of_colum_index)\n",
    "index = np.where(np.isnan(iris_2d))"
   ]
  },
  {
   "cell_type": "code",
   "execution_count": 2,
   "metadata": {},
   "outputs": [
    {
     "name": "stdout",
     "output_type": "stream",
     "text": [
      "[[1.  5.1 3.5 1.4]\n",
      " [2.  4.9 3.  1.4]\n",
      " [3.  4.7 3.2 1.3]\n",
      " [4.  4.6 3.1 1.5]]\n"
     ]
    },
    {
     "name": "stderr",
     "output_type": "stream",
     "text": [
      "C:\\Users\\MINH\\AppData\\Roaming\\Python\\Python37\\site-packages\\ipykernel_launcher.py:7: RuntimeWarning: invalid value encountered in greater\n",
      "  import sys\n",
      "C:\\Users\\MINH\\AppData\\Roaming\\Python\\Python37\\site-packages\\ipykernel_launcher.py:7: RuntimeWarning: invalid value encountered in less\n",
      "  import sys\n"
     ]
    }
   ],
   "source": [
    "# vd8: Đọc 4 cột dữ liệu đầu tiên, và lọc các dòng có petalength(cột thứ 3)>1.5 và sepallength(cột thứ 1)<5.0\n",
    "import numpy as np\n",
    "\n",
    "# đọc dữ liệu\n",
    "iris_2d = np.genfromtxt(\"Iris.csv\", delimiter=\",\", dtype = \"float\", usecols = [0,1,2,3])\n",
    "# điều kieneh để lấy dữ liệu\n",
    "condition = (iris_2d[:,2] > 1.5) & (iris_2d[:,0] < 5.0)\n",
    "# Lấy dữ liệu\n",
    "out = iris_2d[condition]\n",
    "print(out)"
   ]
  },
  {
   "cell_type": "code",
   "execution_count": 2,
   "metadata": {},
   "outputs": [
    {
     "name": "stdout",
     "output_type": "stream",
     "text": [
      "nan\n"
     ]
    },
    {
     "ename": "ValueError",
     "evalue": "array must not contain infs or NaNs",
     "output_type": "error",
     "traceback": [
      "\u001b[1;31m---------------------------------------------------------------------------\u001b[0m",
      "\u001b[1;31mValueError\u001b[0m                                Traceback (most recent call last)",
      "\u001b[1;32m<ipython-input-2-5b02174b1dd2>\u001b[0m in \u001b[0;36m<module>\u001b[1;34m\u001b[0m\n\u001b[0;32m      9\u001b[0m \u001b[1;31m# c2: Dùng hàm pearsonr từ scipy\u001b[0m\u001b[1;33m\u001b[0m\u001b[1;33m\u001b[0m\u001b[1;33m\u001b[0m\u001b[0m\n\u001b[0;32m     10\u001b[0m \u001b[1;32mfrom\u001b[0m \u001b[0mscipy\u001b[0m\u001b[1;33m.\u001b[0m\u001b[0mstats\u001b[0m\u001b[1;33m.\u001b[0m\u001b[0mstats\u001b[0m \u001b[1;32mimport\u001b[0m \u001b[0mpearsonr\u001b[0m\u001b[1;33m\u001b[0m\u001b[1;33m\u001b[0m\u001b[0m\n\u001b[1;32m---> 11\u001b[1;33m \u001b[0mout2\u001b[0m \u001b[1;33m=\u001b[0m \u001b[0mpearsonr\u001b[0m\u001b[1;33m(\u001b[0m\u001b[0miris_2d\u001b[0m\u001b[1;33m[\u001b[0m\u001b[1;33m:\u001b[0m\u001b[1;33m,\u001b[0m\u001b[1;36m0\u001b[0m\u001b[1;33m]\u001b[0m\u001b[1;33m,\u001b[0m \u001b[0miris_2d\u001b[0m\u001b[1;33m[\u001b[0m\u001b[1;33m:\u001b[0m\u001b[1;33m,\u001b[0m\u001b[1;36m2\u001b[0m\u001b[1;33m]\u001b[0m\u001b[1;33m)\u001b[0m\u001b[1;33m[\u001b[0m\u001b[1;36m0\u001b[0m\u001b[1;33m]\u001b[0m\u001b[1;33m\u001b[0m\u001b[1;33m\u001b[0m\u001b[0m\n\u001b[0m\u001b[0;32m     12\u001b[0m \u001b[0mprint\u001b[0m\u001b[1;33m(\u001b[0m\u001b[0mout2\u001b[0m\u001b[1;33m)\u001b[0m\u001b[1;33m\u001b[0m\u001b[1;33m\u001b[0m\u001b[0m\n",
      "\u001b[1;32m~\\anaconda3\\lib\\site-packages\\scipy\\stats\\stats.py\u001b[0m in \u001b[0;36mpearsonr\u001b[1;34m(x, y)\u001b[0m\n\u001b[0;32m   3528\u001b[0m     \u001b[1;31m# scipy.linalg.norm(xm) does not overflow if xm is, for example,\u001b[0m\u001b[1;33m\u001b[0m\u001b[1;33m\u001b[0m\u001b[1;33m\u001b[0m\u001b[0m\n\u001b[0;32m   3529\u001b[0m     \u001b[1;31m# [-5e210, 5e210, 3e200, -3e200]\u001b[0m\u001b[1;33m\u001b[0m\u001b[1;33m\u001b[0m\u001b[1;33m\u001b[0m\u001b[0m\n\u001b[1;32m-> 3530\u001b[1;33m     \u001b[0mnormxm\u001b[0m \u001b[1;33m=\u001b[0m \u001b[0mlinalg\u001b[0m\u001b[1;33m.\u001b[0m\u001b[0mnorm\u001b[0m\u001b[1;33m(\u001b[0m\u001b[0mxm\u001b[0m\u001b[1;33m)\u001b[0m\u001b[1;33m\u001b[0m\u001b[1;33m\u001b[0m\u001b[0m\n\u001b[0m\u001b[0;32m   3531\u001b[0m     \u001b[0mnormym\u001b[0m \u001b[1;33m=\u001b[0m \u001b[0mlinalg\u001b[0m\u001b[1;33m.\u001b[0m\u001b[0mnorm\u001b[0m\u001b[1;33m(\u001b[0m\u001b[0mym\u001b[0m\u001b[1;33m)\u001b[0m\u001b[1;33m\u001b[0m\u001b[1;33m\u001b[0m\u001b[0m\n\u001b[0;32m   3532\u001b[0m \u001b[1;33m\u001b[0m\u001b[0m\n",
      "\u001b[1;32m~\\anaconda3\\lib\\site-packages\\scipy\\linalg\\misc.py\u001b[0m in \u001b[0;36mnorm\u001b[1;34m(a, ord, axis, keepdims, check_finite)\u001b[0m\n\u001b[0;32m    140\u001b[0m     \u001b[1;31m# Differs from numpy only in non-finite handling and the use of blas.\u001b[0m\u001b[1;33m\u001b[0m\u001b[1;33m\u001b[0m\u001b[1;33m\u001b[0m\u001b[0m\n\u001b[0;32m    141\u001b[0m     \u001b[1;32mif\u001b[0m \u001b[0mcheck_finite\u001b[0m\u001b[1;33m:\u001b[0m\u001b[1;33m\u001b[0m\u001b[1;33m\u001b[0m\u001b[0m\n\u001b[1;32m--> 142\u001b[1;33m         \u001b[0ma\u001b[0m \u001b[1;33m=\u001b[0m \u001b[0mnp\u001b[0m\u001b[1;33m.\u001b[0m\u001b[0masarray_chkfinite\u001b[0m\u001b[1;33m(\u001b[0m\u001b[0ma\u001b[0m\u001b[1;33m)\u001b[0m\u001b[1;33m\u001b[0m\u001b[1;33m\u001b[0m\u001b[0m\n\u001b[0m\u001b[0;32m    143\u001b[0m     \u001b[1;32melse\u001b[0m\u001b[1;33m:\u001b[0m\u001b[1;33m\u001b[0m\u001b[1;33m\u001b[0m\u001b[0m\n\u001b[0;32m    144\u001b[0m         \u001b[0ma\u001b[0m \u001b[1;33m=\u001b[0m \u001b[0mnp\u001b[0m\u001b[1;33m.\u001b[0m\u001b[0masarray\u001b[0m\u001b[1;33m(\u001b[0m\u001b[0ma\u001b[0m\u001b[1;33m)\u001b[0m\u001b[1;33m\u001b[0m\u001b[1;33m\u001b[0m\u001b[0m\n",
      "\u001b[1;32m~\\anaconda3\\lib\\site-packages\\numpy\\lib\\function_base.py\u001b[0m in \u001b[0;36masarray_chkfinite\u001b[1;34m(a, dtype, order)\u001b[0m\n\u001b[0;32m    497\u001b[0m     \u001b[1;32mif\u001b[0m \u001b[0ma\u001b[0m\u001b[1;33m.\u001b[0m\u001b[0mdtype\u001b[0m\u001b[1;33m.\u001b[0m\u001b[0mchar\u001b[0m \u001b[1;32min\u001b[0m \u001b[0mtypecodes\u001b[0m\u001b[1;33m[\u001b[0m\u001b[1;34m'AllFloat'\u001b[0m\u001b[1;33m]\u001b[0m \u001b[1;32mand\u001b[0m \u001b[1;32mnot\u001b[0m \u001b[0mnp\u001b[0m\u001b[1;33m.\u001b[0m\u001b[0misfinite\u001b[0m\u001b[1;33m(\u001b[0m\u001b[0ma\u001b[0m\u001b[1;33m)\u001b[0m\u001b[1;33m.\u001b[0m\u001b[0mall\u001b[0m\u001b[1;33m(\u001b[0m\u001b[1;33m)\u001b[0m\u001b[1;33m:\u001b[0m\u001b[1;33m\u001b[0m\u001b[1;33m\u001b[0m\u001b[0m\n\u001b[0;32m    498\u001b[0m         raise ValueError(\n\u001b[1;32m--> 499\u001b[1;33m             \"array must not contain infs or NaNs\")\n\u001b[0m\u001b[0;32m    500\u001b[0m     \u001b[1;32mreturn\u001b[0m \u001b[0ma\u001b[0m\u001b[1;33m\u001b[0m\u001b[1;33m\u001b[0m\u001b[0m\n\u001b[0;32m    501\u001b[0m \u001b[1;33m\u001b[0m\u001b[0m\n",
      "\u001b[1;31mValueError\u001b[0m: array must not contain infs or NaNs"
     ]
    }
   ],
   "source": [
    "# vd9: Tìm mối tương quan giữa Sepallength(cột thứ 1) và Petallength(cột thứ 3)\n",
    "import numpy as np\n",
    "\n",
    "# Đọc dữ liệu \n",
    "iris_2d = np.genfromtxt(\"Iris.csv\", delimiter=\",\", dtype=\"float\", usecols=[0,1,2,3])\n",
    "# C1: Dùng hàm corrcoef từ numpy \n",
    "out1 = np.corrcoef(iris_2d[:,0], iris_2d[:,2])[0,1]\n",
    "print(out1)\n",
    "# c2: Dùng hàm pearsonr từ scipy\n",
    "from scipy.stats.stats import pearsonr\n",
    "out2 = pearsonr(iris_2d[:,0], iris_2d[:,2])[0]\n",
    "print(out2)"
   ]
  },
  {
   "cell_type": "code",
   "execution_count": 4,
   "metadata": {},
   "outputs": [
    {
     "name": "stdout",
     "output_type": "stream",
     "text": [
      "(array([b'0.1', b'0.2', b'0.3', b'0.4', b'0.5', b'0.6', b'1.0', b'1.1',\n",
      "       b'1.2', b'1.3', b'1.4', b'1.5', b'1.6', b'1.7', b'1.8', b'1.9',\n",
      "       b'2.0', b'2.1', b'2.2', b'2.3', b'2.4', b'2.5', b'PetalWidthCm'],\n",
      "      dtype=object), array([ 6, 28,  7,  7,  1,  1,  7,  3,  5, 13,  8, 12,  4,  2, 12,  5,  6,\n",
      "        6,  3,  8,  3,  3,  1], dtype=int64))\n"
     ]
    }
   ],
   "source": [
    "# vd10: Tìm giá trị duy nhất và sô lượng các giá trị duy nhất trong cột species\n",
    "import numpy as np\n",
    "# đọc dữ liẹu\n",
    "iris = np.genfromtxt(\"Iris.csv\", delimiter=\",\", dtype=\"object\")\n",
    "# Dùng hàm unique\n",
    "out = np.unique(iris[:,4], return_counts= True)\n",
    "print(out)"
   ]
  },
  {
   "cell_type": "code",
   "execution_count": 5,
   "metadata": {},
   "outputs": [
    {
     "ename": "TypeError",
     "evalue": "data type \"o\" not understood",
     "output_type": "error",
     "traceback": [
      "\u001b[1;31m---------------------------------------------------------------------------\u001b[0m",
      "\u001b[1;31mTypeError\u001b[0m                                 Traceback (most recent call last)",
      "\u001b[1;32m~\\anaconda3\\lib\\site-packages\\numpy\\lib\\_iotools.py\u001b[0m in \u001b[0;36measy_dtype\u001b[1;34m(ndtype, names, defaultfmt, **validationargs)\u001b[0m\n\u001b[0;32m    922\u001b[0m     \u001b[1;32mtry\u001b[0m\u001b[1;33m:\u001b[0m\u001b[1;33m\u001b[0m\u001b[1;33m\u001b[0m\u001b[0m\n\u001b[1;32m--> 923\u001b[1;33m         \u001b[0mndtype\u001b[0m \u001b[1;33m=\u001b[0m \u001b[0mnp\u001b[0m\u001b[1;33m.\u001b[0m\u001b[0mdtype\u001b[0m\u001b[1;33m(\u001b[0m\u001b[0mndtype\u001b[0m\u001b[1;33m)\u001b[0m\u001b[1;33m\u001b[0m\u001b[1;33m\u001b[0m\u001b[0m\n\u001b[0m\u001b[0;32m    924\u001b[0m     \u001b[1;32mexcept\u001b[0m \u001b[0mTypeError\u001b[0m\u001b[1;33m:\u001b[0m\u001b[1;33m\u001b[0m\u001b[1;33m\u001b[0m\u001b[0m\n",
      "\u001b[1;31mTypeError\u001b[0m: data type \"oject\" not understood",
      "\nDuring handling of the above exception, another exception occurred:\n",
      "\u001b[1;31mTypeError\u001b[0m                                 Traceback (most recent call last)",
      "\u001b[1;32m<ipython-input-5-efcb9dab4442>\u001b[0m in \u001b[0;36m<module>\u001b[1;34m\u001b[0m\n\u001b[0;32m      3\u001b[0m \u001b[1;33m\u001b[0m\u001b[0m\n\u001b[0;32m      4\u001b[0m \u001b[1;31m# Đọc dữ liệu\u001b[0m\u001b[1;33m\u001b[0m\u001b[1;33m\u001b[0m\u001b[1;33m\u001b[0m\u001b[0m\n\u001b[1;32m----> 5\u001b[1;33m \u001b[0miris\u001b[0m \u001b[1;33m=\u001b[0m \u001b[0mnp\u001b[0m\u001b[1;33m.\u001b[0m\u001b[0mgenfromtxt\u001b[0m\u001b[1;33m(\u001b[0m\u001b[1;34m\"Iris.csv\"\u001b[0m\u001b[1;33m,\u001b[0m \u001b[0mdelimiter\u001b[0m\u001b[1;33m=\u001b[0m\u001b[1;34m\",\"\u001b[0m\u001b[1;33m,\u001b[0m \u001b[0mdtype\u001b[0m\u001b[1;33m=\u001b[0m\u001b[1;34m\"oject\"\u001b[0m\u001b[1;33m)\u001b[0m\u001b[1;33m\u001b[0m\u001b[1;33m\u001b[0m\u001b[0m\n\u001b[0m\u001b[0;32m      6\u001b[0m \u001b[1;31m# hàm np.digitize: trả về vị trí chỉ số của bin mà mỗi phần tử thuộc khoảng bin tương ứng\u001b[0m\u001b[1;33m\u001b[0m\u001b[1;33m\u001b[0m\u001b[1;33m\u001b[0m\u001b[0m\n\u001b[0;32m      7\u001b[0m \u001b[1;31m# chuyển đỗi mảng sang mảng bin tương ứng với bảng định nghĩa chuyển đôi\u001b[0m\u001b[1;33m\u001b[0m\u001b[1;33m\u001b[0m\u001b[1;33m\u001b[0m\u001b[0m\n",
      "\u001b[1;32m~\\anaconda3\\lib\\site-packages\\numpy\\lib\\npyio.py\u001b[0m in \u001b[0;36mgenfromtxt\u001b[1;34m(fname, dtype, comments, delimiter, skip_header, skip_footer, converters, missing_values, filling_values, usecols, names, excludelist, deletechars, replace_space, autostrip, case_sensitive, defaultfmt, unpack, usemask, loose, invalid_raise, max_rows, encoding)\u001b[0m\n\u001b[0;32m   1842\u001b[0m                                \u001b[0mdeletechars\u001b[0m\u001b[1;33m=\u001b[0m\u001b[0mdeletechars\u001b[0m\u001b[1;33m,\u001b[0m\u001b[1;33m\u001b[0m\u001b[1;33m\u001b[0m\u001b[0m\n\u001b[0;32m   1843\u001b[0m                                \u001b[0mcase_sensitive\u001b[0m\u001b[1;33m=\u001b[0m\u001b[0mcase_sensitive\u001b[0m\u001b[1;33m,\u001b[0m\u001b[1;33m\u001b[0m\u001b[1;33m\u001b[0m\u001b[0m\n\u001b[1;32m-> 1844\u001b[1;33m                                replace_space=replace_space)\n\u001b[0m\u001b[0;32m   1845\u001b[0m         \u001b[1;31m# Make sure the names is a list (for 2.5)\u001b[0m\u001b[1;33m\u001b[0m\u001b[1;33m\u001b[0m\u001b[1;33m\u001b[0m\u001b[0m\n\u001b[0;32m   1846\u001b[0m         \u001b[1;32mif\u001b[0m \u001b[0mnames\u001b[0m \u001b[1;32mis\u001b[0m \u001b[1;32mnot\u001b[0m \u001b[1;32mNone\u001b[0m\u001b[1;33m:\u001b[0m\u001b[1;33m\u001b[0m\u001b[1;33m\u001b[0m\u001b[0m\n",
      "\u001b[1;32m~\\anaconda3\\lib\\site-packages\\numpy\\lib\\_iotools.py\u001b[0m in \u001b[0;36measy_dtype\u001b[1;34m(ndtype, names, defaultfmt, **validationargs)\u001b[0m\n\u001b[0;32m    930\u001b[0m             \u001b[0mnames\u001b[0m \u001b[1;33m=\u001b[0m \u001b[0mnames\u001b[0m\u001b[1;33m.\u001b[0m\u001b[0msplit\u001b[0m\u001b[1;33m(\u001b[0m\u001b[1;34m\",\"\u001b[0m\u001b[1;33m)\u001b[0m\u001b[1;33m\u001b[0m\u001b[1;33m\u001b[0m\u001b[0m\n\u001b[0;32m    931\u001b[0m         \u001b[0mnames\u001b[0m \u001b[1;33m=\u001b[0m \u001b[0mvalidate\u001b[0m\u001b[1;33m(\u001b[0m\u001b[0mnames\u001b[0m\u001b[1;33m,\u001b[0m \u001b[0mnbfields\u001b[0m\u001b[1;33m=\u001b[0m\u001b[0mnbfields\u001b[0m\u001b[1;33m,\u001b[0m \u001b[0mdefaultfmt\u001b[0m\u001b[1;33m=\u001b[0m\u001b[0mdefaultfmt\u001b[0m\u001b[1;33m)\u001b[0m\u001b[1;33m\u001b[0m\u001b[1;33m\u001b[0m\u001b[0m\n\u001b[1;32m--> 932\u001b[1;33m         \u001b[0mndtype\u001b[0m \u001b[1;33m=\u001b[0m \u001b[0mnp\u001b[0m\u001b[1;33m.\u001b[0m\u001b[0mdtype\u001b[0m\u001b[1;33m(\u001b[0m\u001b[0mdict\u001b[0m\u001b[1;33m(\u001b[0m\u001b[0mformats\u001b[0m\u001b[1;33m=\u001b[0m\u001b[0mndtype\u001b[0m\u001b[1;33m,\u001b[0m \u001b[0mnames\u001b[0m\u001b[1;33m=\u001b[0m\u001b[0mnames\u001b[0m\u001b[1;33m)\u001b[0m\u001b[1;33m)\u001b[0m\u001b[1;33m\u001b[0m\u001b[1;33m\u001b[0m\u001b[0m\n\u001b[0m\u001b[0;32m    933\u001b[0m     \u001b[1;32melse\u001b[0m\u001b[1;33m:\u001b[0m\u001b[1;33m\u001b[0m\u001b[1;33m\u001b[0m\u001b[0m\n\u001b[0;32m    934\u001b[0m         \u001b[1;31m# Explicit names\u001b[0m\u001b[1;33m\u001b[0m\u001b[1;33m\u001b[0m\u001b[1;33m\u001b[0m\u001b[0m\n",
      "\u001b[1;31mTypeError\u001b[0m: data type \"o\" not understood"
     ]
    }
   ],
   "source": [
    "# vd11: Chuyển đổi cột 3 petallength thành 3 mảng như sau\n",
    "import numpy as np\n",
    "\n",
    "# Đọc dữ liệu\n",
    "iris = np.genfromtxt(\"Iris.csv\", delimiter=\",\", dtype=\"oject\")\n",
    "# hàm np.digitize: trả về vị trí chỉ số của bin mà mỗi phần tử thuộc khoảng bin tương ứng\n",
    "# chuyển đỗi mảng sang mảng bin tương ứng với bảng định nghĩa chuyển đôi\n",
    "bin_petal_length = np.digitize(iris[:,2].astype(float), [0,3,5,10])\n",
    "# ánh xạ bảng bin thành văn bản tương ứng\n",
    "label_map = {1:\"small\", 2:\"medium\", 3:\"large\", 4:np.nan}\n",
    "map_bin_petallength = [label_map[x] for x in bin_petal_length]\n",
    "# in 4 phần tử đầu tiên\n",
    "print(map_bin_petallength[:4])"
   ]
  },
  {
   "cell_type": "code",
   "execution_count": 2,
   "metadata": {},
   "outputs": [
    {
     "ename": "ValueError",
     "evalue": "could not convert string to float: b'Id'",
     "output_type": "error",
     "traceback": [
      "\u001b[1;31m---------------------------------------------------------------------------\u001b[0m",
      "\u001b[1;31mValueError\u001b[0m                                Traceback (most recent call last)",
      "\u001b[1;32m<ipython-input-2-6ff2f03d5838>\u001b[0m in \u001b[0;36m<module>\u001b[1;34m\u001b[0m\n\u001b[0;32m      6\u001b[0m \u001b[1;33m\u001b[0m\u001b[0m\n\u001b[0;32m      7\u001b[0m \u001b[1;31m# Rút trích xuất cột petallength * sepal_length\u001b[0m\u001b[1;33m\u001b[0m\u001b[1;33m\u001b[0m\u001b[1;33m\u001b[0m\u001b[0m\n\u001b[1;32m----> 8\u001b[1;33m \u001b[0msepallength\u001b[0m \u001b[1;33m=\u001b[0m \u001b[0miris_2d\u001b[0m\u001b[1;33m[\u001b[0m\u001b[1;33m:\u001b[0m\u001b[1;33m,\u001b[0m\u001b[1;36m0\u001b[0m\u001b[1;33m]\u001b[0m\u001b[1;33m.\u001b[0m\u001b[0mastype\u001b[0m\u001b[1;33m(\u001b[0m\u001b[1;34m'float'\u001b[0m\u001b[1;33m)\u001b[0m\u001b[1;33m\u001b[0m\u001b[1;33m\u001b[0m\u001b[0m\n\u001b[0m\u001b[0;32m      9\u001b[0m \u001b[0mpetallength\u001b[0m \u001b[1;33m=\u001b[0m \u001b[0miris_2d\u001b[0m\u001b[1;33m[\u001b[0m\u001b[1;33m:\u001b[0m\u001b[1;33m,\u001b[0m\u001b[1;36m2\u001b[0m\u001b[1;33m]\u001b[0m\u001b[1;33m.\u001b[0m\u001b[0mastype\u001b[0m\u001b[1;33m(\u001b[0m\u001b[1;34m'float'\u001b[0m\u001b[1;33m)\u001b[0m\u001b[1;33m\u001b[0m\u001b[1;33m\u001b[0m\u001b[0m\n\u001b[0;32m     10\u001b[0m \u001b[0mnew_col\u001b[0m \u001b[1;33m=\u001b[0m \u001b[1;33m(\u001b[0m\u001b[0mpetallength\u001b[0m \u001b[1;33m+\u001b[0m \u001b[0msepallength\u001b[0m\u001b[1;33m)\u001b[0m\u001b[1;33m/\u001b[0m\u001b[1;36m2\u001b[0m\u001b[1;33m\u001b[0m\u001b[1;33m\u001b[0m\u001b[0m\n",
      "\u001b[1;31mValueError\u001b[0m: could not convert string to float: b'Id'"
     ]
    }
   ],
   "source": [
    "# vd12: Tạo 1 cột mới, trong đó giá trị mỗi phần tử là: (petallength + sepal_length) / 2\n",
    "import numpy as np\n",
    "\n",
    "# Đọc dữ liệu \n",
    "iris_2d = np.genfromtxt('Iris.csv', delimiter = ',', dtype = 'object')\n",
    "\n",
    "# Rút trích xuất cột petallength * sepal_length\n",
    "sepallength = iris_2d[:,0].astype('float')\n",
    "petallength = iris_2d[:,2].astype('float')\n",
    "new_col = (petallength + sepallength)/2\n",
    "\n",
    "# Định dạng cột mới cùng số chiều với iris_2d\n",
    "print(new_col.shape)\n",
    "new_col = new_col[:, np.newaxis]\n",
    "print(new_col.shape)\n",
    "\n",
    "# Thêm côt mới vào iris_2d dùng hàm hstack\n",
    "out = np.hstack([iris_2d,new_col])\n",
    "print(out.shape)"
   ]
  },
  {
   "cell_type": "code",
   "execution_count": 5,
   "metadata": {},
   "outputs": [
    {
     "name": "stdout",
     "output_type": "stream",
     "text": [
      "(0, 6)\n"
     ]
    },
    {
     "ename": "IndexError",
     "evalue": "index -1 is out of bounds for axis 0 with size 0",
     "output_type": "error",
     "traceback": [
      "\u001b[1;31m---------------------------------------------------------------------------\u001b[0m",
      "\u001b[1;31mIndexError\u001b[0m                                Traceback (most recent call last)",
      "\u001b[1;32m<ipython-input-5-e5cb4ebf0b97>\u001b[0m in \u001b[0;36m<module>\u001b[1;34m\u001b[0m\n\u001b[0;32m     12\u001b[0m \u001b[1;33m\u001b[0m\u001b[0m\n\u001b[0;32m     13\u001b[0m \u001b[1;31m#Lấy giá trị lớn thứ 2 của mảng\u001b[0m\u001b[1;33m\u001b[0m\u001b[1;33m\u001b[0m\u001b[1;33m\u001b[0m\u001b[0m\n\u001b[1;32m---> 14\u001b[1;33m \u001b[0mout\u001b[0m \u001b[1;33m=\u001b[0m \u001b[0mnp\u001b[0m\u001b[1;33m.\u001b[0m\u001b[0munique\u001b[0m\u001b[1;33m(\u001b[0m\u001b[0mnp\u001b[0m\u001b[1;33m.\u001b[0m\u001b[0msort\u001b[0m\u001b[1;33m(\u001b[0m\u001b[0mpetal_length_setosa\u001b[0m\u001b[1;33m)\u001b[0m\u001b[1;33m)\u001b[0m\u001b[1;33m[\u001b[0m\u001b[1;33m-\u001b[0m\u001b[1;36m1\u001b[0m\u001b[1;33m]\u001b[0m\u001b[1;33m\u001b[0m\u001b[1;33m\u001b[0m\u001b[0m\n\u001b[0m\u001b[0;32m     15\u001b[0m \u001b[0mprint\u001b[0m\u001b[1;33m(\u001b[0m\u001b[0mout\u001b[0m\u001b[1;33m)\u001b[0m\u001b[1;33m\u001b[0m\u001b[1;33m\u001b[0m\u001b[0m\n",
      "\u001b[1;31mIndexError\u001b[0m: index -1 is out of bounds for axis 0 with size 0"
     ]
    }
   ],
   "source": [
    "# vd14: Tìm giá trị thứ 2 của petallength trong nhóm setosa\n",
    "import numpy as np\n",
    "# Đọc dữ liệu\n",
    "iris = np.genfromtxt('Iris.csv',delimiter = ',', dtype='object')\n",
    "\n",
    "# Tạo mảng mới nhóm bởi giá trị setosa\n",
    "setosa = iris[iris[:,4] == b'Iris-setosa']\n",
    "print(setosa.shape)\n",
    "\n",
    "# Chỉ lấy cột 2 rồi chuyển thành kiểu float\n",
    "petal_length_setosa = setosa[:,2].astype(float)\n",
    "\n",
    "#Lấy giá trị lớn thứ 2 của mảng\n",
    "out = np.unique(np.sort(petal_length_setosa))[-2]\n",
    "print(out)"
   ]
  },
  {
   "cell_type": "code",
   "execution_count": 7,
   "metadata": {},
   "outputs": [
    {
     "ename": "SyntaxError",
     "evalue": "invalid syntax (<ipython-input-7-5b9a70f509e3>, line 9)",
     "output_type": "error",
     "traceback": [
      "\u001b[1;36m  File \u001b[1;32m\"<ipython-input-7-5b9a70f509e3>\"\u001b[1;36m, line \u001b[1;32m9\u001b[0m\n\u001b[1;33m    print(out[:5])\u001b[0m\n\u001b[1;37m        ^\u001b[0m\n\u001b[1;31mSyntaxError\u001b[0m\u001b[1;31m:\u001b[0m invalid syntax\n"
     ]
    }
   ],
   "source": [
    "# vd15: Sắp xếp tập dữ liệu iris dựa trên cột sepallength\n",
    "import numpy as np\n",
    "\n",
    "# Đọc dữ liệu \n",
    "iris = np.genfromtxt(\"Iris.csv\",delimiter = ',', dtype='object')\n",
    "\n",
    "# Sắp xếp cột 0( Sepallength)\n",
    "out = iris[iris[:0,0].argsort()\n",
    "print(out[:5])"
   ]
  },
  {
   "cell_type": "code",
   "execution_count": 8,
   "metadata": {},
   "outputs": [
    {
     "name": "stdout",
     "output_type": "stream",
     "text": [
      "[b'0.2' b'1' b'1.4' b'3.5' b'5.1' b'Id' b'Iris-setosa' b'PetalLengthCm'\n",
      " b'PetalWidthCm' b'SepalLengthCm' b'SepalWidthCm' b'Species']\n",
      "[1 1 1 1 1 1 1 1 1 1 1 1]\n"
     ]
    }
   ],
   "source": [
    "# vd15: Tìm giá trị xuất hiện nhiều nhất trong cột petallength(cột thứ 3) trong\n",
    "# tập dữ liệu iris. Lấy các phần tử duy nhất và số lượng mỗi phần tử\n",
    "import numpy as np\n",
    "\n",
    "# Đọc dữ liệu\n",
    "iris = np.genfromtxt(\"Iris.csv\",delimiter=',',dtype='object')\n",
    "\n",
    "values , counts = np.unique(iris[:2],return_counts = True)\n",
    "print(values)\n",
    "print(counts)\n",
    "\n",
    "# Dùng hàm np.argmax để tìm vị trí của phần tử xuất hiện nhiều nhất\n",
    "# print(values[np.argmax(counts)], np.argmax(counts))"
   ]
  },
  {
   "cell_type": "code",
   "execution_count": 9,
   "metadata": {},
   "outputs": [
    {
     "name": "stdout",
     "output_type": "stream",
     "text": [
      "[[b'Id' b'SepalLengthCm' b'SepalWidthCm' b'PetalLengthCm' b'PetalWidthCm'\n",
      "  b'Species']\n",
      " [b'1' b'5.1' b'3.5' b'1.4' b'0.2' b'Iris-setosa']\n",
      " [b'2' b'4.9' b'3.0' b'1.4' b'0.2' b'Iris-setosa']\n",
      " [b'3' b'4.7' b'3.2' b'1.3' b'0.2' b'Iris-setosa']\n",
      " [b'4' b'4.6' b'3.1' b'1.5' b'0.2' b'Iris-setosa']\n",
      " [b'5' b'5.0' b'3.6' b'1.4' b'0.2' b'Iris-setosa']\n",
      " [b'6' b'5.4' b'3.9' b'1.7' b'0.4' b'Iris-setosa']\n",
      " [b'7' b'4.6' b'3.4' b'1.4' b'0.3' b'Iris-setosa']\n",
      " [b'8' b'5.0' b'3.4' b'1.5' b'0.2' b'Iris-setosa']\n",
      " [b'9' b'4.4' b'2.9' b'1.4' b'0.2' b'Iris-setosa']\n",
      " [b'10' b'4.9' b'3.1' b'1.5' b'0.1' b'Iris-setosa']\n",
      " [b'11' b'5.4' b'3.7' b'1.5' b'0.2' b'Iris-setosa']\n",
      " [b'12' b'4.8' b'3.4' b'1.6' b'0.2' b'Iris-setosa']\n",
      " [b'13' b'4.8' b'3.0' b'1.4' b'0.1' b'Iris-setosa']]\n"
     ]
    },
    {
     "ename": "ValueError",
     "evalue": "could not convert string to float: b'PetalLengthCm'",
     "output_type": "error",
     "traceback": [
      "\u001b[1;31m---------------------------------------------------------------------------\u001b[0m",
      "\u001b[1;31mValueError\u001b[0m                                Traceback (most recent call last)",
      "\u001b[1;32m<ipython-input-9-35ec6f946757>\u001b[0m in \u001b[0;36m<module>\u001b[1;34m\u001b[0m\n\u001b[0;32m      7\u001b[0m \u001b[1;33m\u001b[0m\u001b[0m\n\u001b[0;32m      8\u001b[0m \u001b[1;31m# Lấy cột thứ 4 petalwidth và định dạng kiểu float thỏa mã lớn hown1.0\u001b[0m\u001b[1;33m\u001b[0m\u001b[1;33m\u001b[0m\u001b[1;33m\u001b[0m\u001b[0m\n\u001b[1;32m----> 9\u001b[1;33m \u001b[0mpetalwidth\u001b[0m \u001b[1;33m=\u001b[0m \u001b[0miris\u001b[0m\u001b[1;33m[\u001b[0m\u001b[1;33m:\u001b[0m\u001b[1;33m,\u001b[0m\u001b[1;36m3\u001b[0m\u001b[1;33m]\u001b[0m\u001b[1;33m.\u001b[0m\u001b[0mastype\u001b[0m\u001b[1;33m(\u001b[0m\u001b[1;34m'float'\u001b[0m\u001b[1;33m)\u001b[0m \u001b[1;33m>\u001b[0m \u001b[1;36m1.0\u001b[0m\u001b[1;33m\u001b[0m\u001b[1;33m\u001b[0m\u001b[0m\n\u001b[0m\u001b[0;32m     10\u001b[0m \u001b[1;33m\u001b[0m\u001b[0m\n\u001b[0;32m     11\u001b[0m \u001b[1;31m# Hàm argwhere lấy index của mảng thỏa mãn đk cho trc\u001b[0m\u001b[1;33m\u001b[0m\u001b[1;33m\u001b[0m\u001b[1;33m\u001b[0m\u001b[0m\n",
      "\u001b[1;31mValueError\u001b[0m: could not convert string to float: b'PetalLengthCm'"
     ]
    }
   ],
   "source": [
    "# vd17: Tìm vị trí xuất hiện đầu tiên của 1 giá trị lớn hơn 1.0 trong cột thứ 4(petalwwidth)\n",
    "import numpy as np\n",
    "\n",
    "# đọc dữ liệu\n",
    "iris = np.genfromtxt(\"Iris.csv\", delimiter=',', dtype='object')\n",
    "print(iris[:14])\n",
    "\n",
    "# Lấy cột thứ 4 petalwidth và định dạng kiểu float thỏa mã lớn hown1.0\n",
    "petalwidth = iris[:,3].astype('float') > 1.0\n",
    "\n",
    "# Hàm argwhere lấy index của mảng thỏa mãn đk cho trc\n",
    "index = np.argwhere(petalwidth)[0]\n",
    "print(index)"
   ]
  },
  {
   "cell_type": "code",
   "execution_count": 10,
   "metadata": {},
   "outputs": [
    {
     "ename": "IndentationError",
     "evalue": "unexpected indent (<ipython-input-10-cb3dced7c5e5>, line 9)",
     "output_type": "error",
     "traceback": [
      "\u001b[1;36m  File \u001b[1;32m\"<ipython-input-10-cb3dced7c5e5>\"\u001b[1;36m, line \u001b[1;32m9\u001b[0m\n\u001b[1;33m    for val in np.unique(species)\u001b[0m\n\u001b[1;37m    ^\u001b[0m\n\u001b[1;31mIndentationError\u001b[0m\u001b[1;31m:\u001b[0m unexpected indent\n"
     ]
    }
   ],
   "source": [
    "# vd18: Tạo 1 id nhóm dựa trên 1 biến phân loại cho trc, dùng cột species từ mảng iris/\n",
    "import numpy as np\n",
    "\n",
    "# Đọc dữ liệu\n",
    "species = np.genfromtxt('iris.csv', delimiter=',',dtype='float',usecols=4)\n",
    "\n",
    "# c1: \n",
    "output1 = [np.argwhere(np.unique(species) == s).tolist()[0][0]]\n",
    "            for val in np.unique(species)\n",
    "            for s in species[species == val]\n",
    "print(output1)\n",
    "# c2: dùng for\n",
    "for val in uniqs:\n",
    "#     Tìm mỗi phần tử trong mảng\n",
    "    for s in species[species==val]\n",
    "        groupid = np.argwher(nuiqs == s).tolist()[0][0]\n",
    "        # chèn vào mảng kết quả\n",
    "        output2.append(groupid)\n",
    "print(output2)"
   ]
  }
 ],
 "metadata": {
  "kernelspec": {
   "display_name": "Python 3",
   "language": "python",
   "name": "python3"
  },
  "language_info": {
   "codemirror_mode": {
    "name": "ipython",
    "version": 3
   },
   "file_extension": ".py",
   "mimetype": "text/x-python",
   "name": "python",
   "nbconvert_exporter": "python",
   "pygments_lexer": "ipython3",
   "version": "3.7.6"
  }
 },
 "nbformat": 4,
 "nbformat_minor": 4
}
