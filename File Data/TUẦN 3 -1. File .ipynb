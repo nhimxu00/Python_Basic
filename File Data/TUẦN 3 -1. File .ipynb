{
 "cells": [
  {
   "cell_type": "code",
   "execution_count": 21,
   "metadata": {},
   "outputs": [
    {
     "name": "stdout",
     "output_type": "stream",
     "text": [
      "hello word!\n"
     ]
    }
   ],
   "source": [
    " Cách gọi 1 file .txt dưới dạng đọc \"r\" and viết \"w\"\n",
    "# a = open(\"hello123.txt\",\"r\")\n",
    "# print(a.read())\n",
    "# a.close()\n",
    "# a = open(\"hello123.txt\",\"w\")\n",
    "# a.write(\"hello word!\")\n",
    "# print(a.write())\n",
    "# a.close()"
   ]
  },
  {
   "cell_type": "code",
   "execution_count": 22,
   "metadata": {},
   "outputs": [
    {
     "name": "stdout",
     "output_type": "stream",
     "text": [
      " Hello123.txt có tồn tại hay không ? True\n"
     ]
    }
   ],
   "source": [
    "# Kiểm tra xem 1 file có tồn tại hay không \n",
    "import os\n",
    "file_path1 = \"hello123.txt\"\n",
    "check1 = os.path.exists(file_path1)\n",
    "print(\" Hello123.txt có tồn tại hay không ?\",check1)"
   ]
  },
  {
   "cell_type": "code",
   "execution_count": 28,
   "metadata": {},
   "outputs": [
    {
     "name": "stdout",
     "output_type": "stream",
     "text": [
      "john\n"
     ]
    }
   ],
   "source": [
    "#  Hàm split : tách  các chuỗi theo í muốn\n",
    "line = \"001,john,12-06-1999\"\n",
    "infor = line.split(\",\")\n",
    "print(infor[1])"
   ]
  },
  {
   "cell_type": "code",
   "execution_count": 30,
   "metadata": {},
   "outputs": [
    {
     "name": "stdout",
     "output_type": "stream",
     "text": [
      "001,join,12-06-1999\n"
     ]
    }
   ],
   "source": [
    "# Hàm Join giúp việc ghi dữ liệu có format ( mỗi thuộc tính ngăn cách với nhau 1 kí hiệu quy định trước)\n",
    "# Thông thường kiểu dữ liệu sau khi thu thập để ghi vào file là phải 1 kiểu chuỗi. Vì vậy khi chuyển các \n",
    "# thuộc tính và viêt ngăn cách nahu 1 kí hiệu bất kì , thì cần chuyển về dạng chuỗi\n",
    "infor = ['001','join','12-06-1999']\n",
    "st= (',').join(infor)\n",
    "print(st)"
   ]
  },
  {
   "cell_type": "code",
   "execution_count": 32,
   "metadata": {},
   "outputs": [
    {
     "name": "stdout",
     "output_type": "stream",
     "text": [
      "Id,SepalLengthCm,SepalWidthCm,PetalLengthCm,PetalWidthCm,Species\n",
      "\n",
      "1,5.1,3.5,1.4,0.2,Iris-setosa\n",
      "\n",
      "2,4.9,3.0,1.4,0.2,Iris-setosa\n",
      "\n",
      "3,4.7,3.2,1.3,0.2,Iris-setosa\n",
      "\n",
      "4,4.6,3.1,1.5,0.2,Iris-setosa\n",
      "\n",
      "5,5.0,3.6,1.4,0.2,Iris-setosa\n",
      "\n",
      "6,5.4,3.9,1.7,0.4,Iris-setosa\n",
      "\n",
      "7,4.6,3.4,1.4,0.3,Iris-setosa\n",
      "\n",
      "8,5.0,3.4,1.5,0.2,Iris-setosa\n",
      "\n",
      "9,4.4,2.9,1.4,0.2,Iris-setosa\n",
      "\n"
     ]
    }
   ],
   "source": [
    "# Đọc file Iris.csv và hiển thị 10 dòng đầu \n",
    "file = open(\"Iris.csv\",\"r\")\n",
    "# readlines giúp việc đọc fiel theo từng dòng, mỗi dòng là 1 chuỗi \n",
    "lines = file.readlines()\n",
    "\n",
    "# in 10 dòng đầu \n",
    "for i in range(10):\n",
    "    print(lines[i])\n",
    "    \n",
    "file.close()"
   ]
  },
  {
   "cell_type": "code",
   "execution_count": 42,
   "metadata": {},
   "outputs": [
    {
     "name": "stdout",
     "output_type": "stream",
     "text": [
      "Id; SepalLengthCm; SepalWidthCm; PetalLengthCm; PetalWidthCm, Species\n",
      "\n",
      "1; 5.1; 3.5; 1.4; 0.2, Iris-setosa\n",
      "\n",
      "2; 4.9; 3.0; 1.4; 0.2, Iris-setosa\n",
      "\n",
      "3; 4.7; 3.2; 1.3; 0.2, Iris-setosa\n",
      "\n",
      "4; 4.6; 3.1; 1.5; 0.2, Iris-setosa\n",
      "\n",
      "5; 5.0; 3.6; 1.4; 0.2, Iris-setosa\n",
      "\n",
      "6; 5.4; 3.9; 1.7; 0.4, Iris-setosa\n",
      "\n",
      "7; 4.6; 3.4; 1.4; 0.3, Iris-setosa\n",
      "\n",
      "8; 5.0; 3.4; 1.5; 0.2, Iris-setosa\n",
      "\n",
      "9; 4.4; 2.9; 1.4; 0.2, Iris-setosa\n",
      "\n"
     ]
    }
   ],
   "source": [
    "# Thêm hàm split() để phân tách các cột giá trị như sau\n",
    "file = open(\"Iris.csv\",\"r\")\n",
    "lines = file.readlines()\n",
    "\n",
    "for i in range(0,10):\n",
    "    string = lines[i].split(',')\n",
    "    print('%s; %s; %s; %s; %s, %s' %\n",
    "           (string[0], string[1], string[2], string[3], string[4], string[5]) )\n",
    "    \n",
    "file.close()\n",
    "    "
   ]
  },
  {
   "cell_type": "code",
   "execution_count": 45,
   "metadata": {},
   "outputs": [
    {
     "name": "stdout",
     "output_type": "stream",
     "text": [
      "5.1; 3.5; 1.4; 0.2; 0\n",
      "4.9; 3.0; 1.4; 0.2; 0\n",
      "4.7; 3.2; 1.3; 0.2; 0\n",
      "4.6; 3.1; 1.5; 0.2; 0\n",
      "5.0; 3.6; 1.4; 0.2; 0\n",
      "5.4; 3.9; 1.7; 0.4; 0\n",
      "4.6; 3.4; 1.4; 0.3; 0\n",
      "5.0; 3.4; 1.5; 0.2; 0\n",
      "4.4; 2.9; 1.4; 0.2; 0\n"
     ]
    }
   ],
   "source": [
    "# Bỏ cột Id, chuyển đỗi 4 đặc trưng sang kiểu float và chuyển kiểu dữ liệu của 1 species từ string sang int\n",
    "file = open(\"Iris.csv\",\"r\")\n",
    "lines = file.readlines()\n",
    "for i in range(1,10):\n",
    "    string = lines[i].split(\",\")\n",
    "    \n",
    "    speal_length = float(string[1].strip())\n",
    "    speal_width  = float(string[2].strip())\n",
    "    pedal_length = float(string[3].strip())\n",
    "    pedal_width  = float(string[4].strip())\n",
    "    \n",
    "    species = 0\n",
    "    if string[5].strip() == 'Iris-verdicolor':\n",
    "        species = 1\n",
    "    elif string[5].strip() == 'Iris-virginica':\n",
    "        species = 2\n",
    "    \n",
    "    print(\"%s; %s; %s; %s; %s\" %\n",
    "          (speal_length,speal_width,pedal_length,pedal_width,species))\n",
    "    \n",
    "file.close()"
   ]
  },
  {
   "cell_type": "code",
   "execution_count": 55,
   "metadata": {},
   "outputs": [
    {
     "name": "stdout",
     "output_type": "stream",
     "text": [
      "[5.1, 3.5, 1.4, 0.2, 0]\n",
      "[7.0, 3.2, 4.7, 1.4, 1]\n",
      "[6.3, 3.3, 6.0, 2.5, 2]\n"
     ]
    }
   ],
   "source": [
    "# Cuối cùng ta lưu mẫu dữ liệu thành 1 lít , và lưu list này trong list_data\n",
    "file = open(\"Iris.csv\",\"r\")\n",
    "lines = file.readlines()\n",
    "data = []\n",
    "for i in range(1, len(lines)):\n",
    "    string = lines[i].split(',')\n",
    "    \n",
    "    sepal_length = float(string[1].strip())\n",
    "    sepal_width  = float(string[2].strip())\n",
    "    pedal_length = float(string[3].strip())\n",
    "    pedal_width  = float(string[4].strip())\n",
    "    \n",
    "    species = 0\n",
    "    if string[5].strip() == 'Iris-versicolor':\n",
    "        species = 1\n",
    "    elif string[5].strip() == 'Iris-virginica':\n",
    "        species = 2\n",
    "        \n",
    "    data.append([sepal_length, sepal_width, pedal_length, pedal_width, species])\n",
    "    \n",
    "file.close()\n",
    "\n",
    "print(data[0])\n",
    "print(data[50])\n",
    "print(data[100])"
   ]
  },
  {
   "cell_type": "code",
   "execution_count": null,
   "metadata": {},
   "outputs": [],
   "source": []
  }
 ],
 "metadata": {
  "kernelspec": {
   "display_name": "Python 3",
   "language": "python",
   "name": "python3"
  },
  "language_info": {
   "codemirror_mode": {
    "name": "ipython",
    "version": 3
   },
   "file_extension": ".py",
   "mimetype": "text/x-python",
   "name": "python",
   "nbconvert_exporter": "python",
   "pygments_lexer": "ipython3",
   "version": "3.7.6"
  }
 },
 "nbformat": 4,
 "nbformat_minor": 4
}
