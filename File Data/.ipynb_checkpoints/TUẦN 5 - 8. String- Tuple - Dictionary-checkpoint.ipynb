{
 "cells": [
  {
   "cell_type": "code",
   "execution_count": 5,
   "metadata": {},
   "outputs": [
    {
     "name": "stdout",
     "output_type": "stream",
     "text": [
      "True\n",
      "False\n",
      "False\n",
      "True\n",
      "True\n",
      "False\n",
      "False\n",
      "True\n",
      "True\n",
      "False\n",
      "False\n",
      "False\n",
      "True\n",
      "True\n",
      "False\n",
      "2\n",
      "0\n",
      "11\n"
     ]
    }
   ],
   "source": [
    "# String \n",
    "# 1: Các phương thức truy vấn thông tin cho 1 string . Một số hàm được xây dựng sẵn\n",
    "# isdigit(), isalpha(), islower(), isupper(), istitle(), itspace()\n",
    "# - isdigit(): Kiểm tra xem string gồm các kí tự\n",
    "print('10'.isdigit())\n",
    "print('i'.isdigit())\n",
    "# - isalpha(): Kiểm tra xem string chỉ được tạo từ các kí tự chữ cái\n",
    "print('10'.isalpha())\n",
    "print('abc'.isalpha())\n",
    "# - islower(): Kiểm tra xem string với tất cả các kí tư ở dạng chữ tg\n",
    "print('ab'.islower())\n",
    "print('Ab'.islower())\n",
    "# - issupper(): Kiểm tra xem string với tất cả các kí tự ở dạng chữ hoa\n",
    "print('Ab'.isupper())\n",
    "print('AB'.isupper())\n",
    "# - istitle(): Kiểm tra xem string có bắt đầu bằng chữ hoa\n",
    "print('Hello'.istitle())\n",
    "print('HELLO'.istitle())\n",
    "print('hello'.istitle())\n",
    "# - isspace() : Kiểm tra xem string chỉ là khoảng trắng\n",
    "print(''.isspace())\n",
    "print(' '.isspace())\n",
    "print('   '.isspace())\n",
    "print('   abcd   '.isspace())\n",
    "# Chúng ta có thể dùng hàm count để đếm số kí tự xuất hiện trong 1 string , và hàm len tính chiều dài kí tưh\n",
    "s = \"AI VIET NAM\"\n",
    "print(s.count('A'))\n",
    "print(s.count('a'))\n",
    "print(len(s))"
   ]
  },
  {
   "cell_type": "code",
   "execution_count": 24,
   "metadata": {},
   "outputs": [
    {
     "data": {
      "text/plain": [
       "('Đây là bài học đầu tiên ', 'của', ' AI Viet Nam')"
      ]
     },
     "execution_count": 24,
     "metadata": {},
     "output_type": "execute_result"
    }
   ],
   "source": [
    "# Các phương thức biến đổi của chuỗi\n",
    "# Chuyển đổi kí tự đầu từng từ trong 1 chuỗi thành kí tự hoa\n",
    "mystr = \"Đây là bài học đầu tiên của AI VIET NAM\"\n",
    "mystr.title()\n",
    "# - capitalize() : Chuyển đỗi chữ cái đầu tiên của mỗi chuỗi thành chữ hoa và các kí tự sau thành chữ thường\n",
    "s = \"Đây là bài học đầu tiên của AI Viet Nam\"\n",
    "s.capitalize()\n",
    "# - upper(): Chuyển đỗi tất cả các kí tự trong chuỗi thành chữ hoa\n",
    "s.upper()\n",
    "# - lower(): Chuyển đổi sang hết chữ thường\n",
    "s.lower()\n",
    "# - swapcase(): Chuyển chữ hoa sang  chũ thường và ngược lại\n",
    "s.swapcase()\n",
    "# - center(): Chỉnh chuỗi ở trung tâm và chiều dài của chuỗi là 40\n",
    "s.center(50,'-')\n",
    "# - ljust(): Chỉnh chuỗi sang trái, và chiều dài của chuỗi là 40\n",
    "s.ljust(50)\n",
    "# - rjust(): Chỉnh chuỗi sang phải, và chiều dài của chuỗi là 40\n",
    "s.rjust(50)\n",
    "# strip(): Loại bỏ khoảng trắng ở cả 2 đầu của chuỗi\n",
    "s.strip()\n",
    "# rstrip(): Loại bỏ khoảng trắng ở bên phải của chuỗi\n",
    "s.rstrip()\n",
    "# lstrip(): Loại bỏ khoảng trắng ở bên trái của chuỗi\n",
    "s.lstrip()\n",
    "# - replace(): Thay thế chuỗi\n",
    "s.replace('AI Viet Nam',\"AIVN\")\n",
    "# - partition(): Tách chuỗi\n",
    "s.partition('của')\n"
   ]
  },
  {
   "cell_type": "code",
   "execution_count": 30,
   "metadata": {},
   "outputs": [
    {
     "name": "stdout",
     "output_type": "stream",
     "text": [
      "True\n",
      "False\n",
      "True\n",
      "False\n",
      "11\n",
      "-1\n",
      "11\n"
     ]
    },
    {
     "ename": "ValueError",
     "evalue": "substring not found",
     "output_type": "error",
     "traceback": [
      "\u001b[1;31m---------------------------------------------------------------------------\u001b[0m",
      "\u001b[1;31mValueError\u001b[0m                                Traceback (most recent call last)",
      "\u001b[1;32m<ipython-input-30-98e72ddd3759>\u001b[0m in \u001b[0;36m<module>\u001b[1;34m\u001b[0m\n\u001b[0;32m     12\u001b[0m \u001b[1;31m# index(): Tìm vị trí xuất hiện của string s1 trong s2 . Loixi valueERRor được trả về trong th ko tìm thấy s2\u001b[0m\u001b[1;33m\u001b[0m\u001b[1;33m\u001b[0m\u001b[1;33m\u001b[0m\u001b[0m\n\u001b[0;32m     13\u001b[0m \u001b[0mprint\u001b[0m\u001b[1;33m(\u001b[0m\u001b[0ms\u001b[0m\u001b[1;33m.\u001b[0m\u001b[0mindex\u001b[0m\u001b[1;33m(\u001b[0m\u001b[1;34m'học'\u001b[0m\u001b[1;33m)\u001b[0m\u001b[1;33m)\u001b[0m\u001b[1;33m\u001b[0m\u001b[1;33m\u001b[0m\u001b[0m\n\u001b[1;32m---> 14\u001b[1;33m \u001b[0mprint\u001b[0m\u001b[1;33m(\u001b[0m\u001b[0ms\u001b[0m\u001b[1;33m.\u001b[0m\u001b[0mindex\u001b[0m\u001b[1;33m(\u001b[0m\u001b[1;34m'hello'\u001b[0m\u001b[1;33m)\u001b[0m\u001b[1;33m)\u001b[0m\u001b[1;33m\u001b[0m\u001b[1;33m\u001b[0m\u001b[0m\n\u001b[0m",
      "\u001b[1;31mValueError\u001b[0m: substring not found"
     ]
    }
   ],
   "source": [
    "#  Phương thức endswith(), startswith(),find() và index(), giúp tìm kiếm vị trí của 1 string trong 1 string khác\n",
    "# - endswith(): Kiểm tra phần kết thúc của 1 string\n",
    "s = 'Đây là bài học của AI VIET NAM'\n",
    "print(s.endswith('VIET NAM'))\n",
    "print(s.endswith('bài học'))\n",
    "# - startswith(): Kiểm tra phần đầu của 1 string\n",
    "print(s.startswith('Đây'))\n",
    "print(s.startswith('AI'))\n",
    "# find(): Tìm vị trí xuất hiện của string s1 trong string s2. Giá trị -1 được trả về trong TH ko s1 ko thấy s2\n",
    "print(s.find('học'))\n",
    "print(s.find('hello'))\n",
    "# index(): Tìm vị trí xuất hiện của string s1 trong s2 . Loixi valueERRor được trả về trong th ko tìm thấy s2\n",
    "print(s.index('học'))\n",
    "# print(s.index('hello'))"
   ]
  },
  {
   "cell_type": "code",
   "execution_count": 6,
   "metadata": {},
   "outputs": [
    {
     "name": "stdout",
     "output_type": "stream",
     "text": [
      "1 2 3\n",
      "(1, 2)\n",
      "(1,)\n",
      "(1, 1, 1, 1, 1)\n",
      "(1, 0)\n",
      "(1, 0, 2)\n"
     ]
    }
   ],
   "source": [
    "# Tuple \n",
    "# 1: Tạo 1 tuples\n",
    "t = (1,2,3)\n",
    "k = 1, 2\n",
    "print(t[0],t[1],t[2])\n",
    "print(k)\n",
    "# Nếu bạn muốn tạo tuple với 1 phần tử duy nhất, bạn sử dụng dấu phấy\n",
    "q = (1,)\n",
    "print(q)\n",
    "# Bạn có thể lặp lại 1 tuple bằng cách nhân 1 tuple với 1 số\n",
    "t = (1,)*5\n",
    "print(t)\n",
    "# Có thể nối các bộ dữ liệu bằng cách sử dụng phép gán tăng giá trị (*=,+=)\n",
    "t1 = (1,0)\n",
    "print(t1)\n",
    "t1 += (2,)\n",
    "print(t1)"
   ]
  },
  {
   "cell_type": "code",
   "execution_count": 19,
   "metadata": {},
   "outputs": [
    {
     "name": "stdout",
     "output_type": "stream",
     "text": [
      "2\n",
      "1\n",
      "1\n",
      "2\n",
      "3\n",
      "a a 0\n",
      "4\n",
      "(3, 4, 5)\n",
      "(1, 2, [3, 4])\n"
     ]
    }
   ],
   "source": [
    "# Các hàm trong Tuple :Index, để tìm sự xuất hiện của 1 giá trị, count: đếm tuần suất của 1 giá trị\n",
    "t = (1,2,3,1)\n",
    "count = t.count(1)\n",
    "index = t.index(2)\n",
    "print(count)\n",
    "print(index)\n",
    "# Xây dựng dictionary từ tuple\n",
    "d = dict([('jan',1),('feb',2),('march',3)])\n",
    "print(d['jan'])\n",
    "print(d['feb'])\n",
    "print(d['march'])\n",
    "# Nhận giá trị từ tuple\n",
    "x1,y1,z1 = ('a','b','c')\n",
    "(x2,y2,z2) = ('a','b','c')\n",
    "(x3,y3,z3) = range(3)\n",
    "print(x1,x2,x3)\n",
    "# Tìm chiều dài cảu 1 tuple, bạn nên dùng len()\n",
    "t = (1,2,3,4)\n",
    "print(len(t))\n",
    "# Kỹ thuật slicing cho 1 tuple\n",
    "t = (1,2,3,4,5)\n",
    "print(t[2:])\n",
    "newt = t\n",
    "# t = (1,2,3,4,5)\n",
    "# t[2] = 9\n",
    "# t[2] = (1,2,[3,10])\n",
    "# t[2] = [2,3,4]\n",
    "t = (1,2, [3,10])\n",
    "t[2][1] = 4\n",
    "print(t)"
   ]
  },
  {
   "cell_type": "code",
   "execution_count": 22,
   "metadata": {},
   "outputs": [
    {
     "name": "stdout",
     "output_type": "stream",
     "text": [
      "1\n",
      "5\n",
      "15\n",
      "[3, 4, 6, 7, 9]\n",
      "(1, 2, 3, 4, 5) ('a', 'b', 'c', 'd', 'e')\n",
      "1 a\n",
      "2 b\n",
      "3 c\n",
      "4 d\n",
      "5 e\n"
     ]
    }
   ],
   "source": [
    "# Lấy giá trị Min và Max của tuple\n",
    "t = (1,2,3,4,5)\n",
    "print(min(t))\n",
    "print(max(t))\n",
    "print(sum(t))\n",
    "# Sắp xếp các giá trị trong 1 tuple\n",
    "t  = (4,7,3,9,6)\n",
    "t_s = sorted(t)\n",
    "print(t_s)\n",
    "# Dùng hàm zip() cho tuple\n",
    "t1 = (1,2,3,4,5)\n",
    "t2 = ('a','b','c','d','e')\n",
    "print(t1,t2)\n",
    "t3 = zip(t1,t2)\n",
    "for x,y in t3:\n",
    "    print(x,y)"
   ]
  },
  {
   "cell_type": "code",
   "execution_count": 18,
   "metadata": {},
   "outputs": [
    {
     "name": "stdout",
     "output_type": "stream",
     "text": [
      "dict_keys(['first', 'second'])\n",
      "dict_values(['string value', [1, 2]])\n",
      "string value [1, 2]\n",
      "items: dict_items([('first', 'string value'), ('second', [1, 2])])\n",
      "first string value\n",
      "second [1, 2]\n",
      "string value\n",
      "{'first': 'string value', 'second': [1, 2]}\n",
      "string value\n",
      "{'second': [1, 2]}\n",
      "('4', 'value4')\n",
      "{'1': 'value1', '2': 'value2', '3': 'value3'}\n",
      "d1: {'a': [1, 2]}\n",
      "d2: {'a': [1, 2]}\n",
      "d1: {'a': [3, 4]}\n",
      "d2: {'a': [3, 4]}\n",
      "d1 {'a': [1, 2], 'b': 5}\n",
      "d2 {'a': [3, 4], 'b': 5}\n",
      "{'a': [1, 2], 'b': 5}\n",
      "{}\n",
      "{'a': [1, 2], 'b': 5}\n",
      "{'b': 5}\n",
      "d1: {'a': 1}\n",
      "d2: {'b': 2, 'c': 3}\n",
      "{'b': 2, 'c': 3}\n",
      "{('b', 2), ('a', 1), ('e', 4), ('d', 3)}\n"
     ]
    }
   ],
   "source": [
    "#  Dictionary : là danh sách các phần tử. Mỗi phần tử là 1 cặp key-value\n",
    "d = {'first':'string value','second':[1,2]}\n",
    "keys = d.keys()\n",
    "values = d.values()\n",
    "print(keys)\n",
    "print(values) \n",
    "# Có thể lấy values dựa vào key như sau\n",
    "print(d['first'],d['second'])\n",
    "# Dùng items để lấy ds các tuple(key,value) nư sau\n",
    "items = d.items()\n",
    "print('items:',items)\n",
    "for x,y in items:\n",
    "    print(x,y)\n",
    "# Để lấy giá trị tương ứng với 1 từ khóa cụ thể, dùng get() hoặc pop().\n",
    "# Sự khác biệt giữa 2 hàm pop() xóa phần tử được lấy từ dictionary\n",
    "value = d.get('first')\n",
    "print(value)\n",
    "print(d)\n",
    "values = d.pop('first')\n",
    "print(values)\n",
    "print(d)\n",
    "# Chúng ta có thể lấy ra 1 phần tử với hàm popitem()\n",
    "d = {'1':'value1', '2':'value2', '3':'value3', '4':'value4'}\n",
    "item = d.popitem()\n",
    "print(item)\n",
    "print(d)\n",
    "d1 = {'a':[1,2]}\n",
    "d2 = d1.copy()\n",
    "print('d1:',d1)\n",
    "print('d2:',d2)\n",
    "# Hàm copy chỉ sao chép kiểu shallow, thay đổi giá trị của dictionary sẽ thay đổi theo các bản sao chép của nó\n",
    "# Thay đổi d2 sẽ ảnh hưởng đến d1\n",
    "d2['a'][0] = 3\n",
    "d2['a'][1] = 4\n",
    "print('d1:',d1)\n",
    "print('d2:',d2)\n",
    "# Tạo một bản sao độc lập hoàn toàn với bản gốc, chúng ý sử dụng hàm deepcopy() trong module copy như sau\n",
    "import copy\n",
    "d1 = {'a':[1,2], 'b':5}\n",
    "d2 = copy.deepcopy(d1)\n",
    "d2['a'][0] = 3\n",
    "d2['a'][1] = 4\n",
    "print('d1',d1)\n",
    "print('d2',d2)\n",
    "# Xóa tất cả các phần tử của 1 dictionary bằng hàm clear()\n",
    "d = {'a':[1,2], 'b': 5}\n",
    "print(d)\n",
    "d.clear()\n",
    "print(d)\n",
    "# Xóa từ khóa del có thể được sử dụng để xóa 1 phần tử trong dictionary, del có thể xóa 1 dictionary.\n",
    "d = {'a':[1,2], 'b': 5}\n",
    "print(d)\n",
    "del d['a']\n",
    "print(d)\n",
    "del d\n",
    "# print(d)\n",
    "# Chúng ta có thể dùng hàm update() để kết hợp 2 dictionary\n",
    "d1 = {'a':1}\n",
    "d2 = {'b':2, 'c':3}\n",
    "print('d1:',d1)\n",
    "print('d2:',d2)\n",
    "d1.update(d2)\n",
    "print(d2)\n",
    "l_keys = ['a','b','d','e']\n",
    "l_values = [1,2,3,4,5]\n",
    "d = {(x,y) for (x,y) in zip(l_keys, l_values)}\n",
    "print(d)"
   ]
  },
  {
   "cell_type": "code",
   "execution_count": null,
   "metadata": {},
   "outputs": [],
   "source": []
  }
 ],
 "metadata": {
  "kernelspec": {
   "display_name": "Python 3",
   "language": "python",
   "name": "python3"
  },
  "language_info": {
   "codemirror_mode": {
    "name": "ipython",
    "version": 3
   },
   "file_extension": ".py",
   "mimetype": "text/x-python",
   "name": "python",
   "nbconvert_exporter": "python",
   "pygments_lexer": "ipython3",
   "version": "3.7.6"
  }
 },
 "nbformat": 4,
 "nbformat_minor": 4
}
