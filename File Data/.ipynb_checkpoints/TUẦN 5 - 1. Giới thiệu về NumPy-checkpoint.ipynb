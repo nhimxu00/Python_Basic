{
 "cells": [
  {
   "cell_type": "code",
   "execution_count": 1,
   "metadata": {},
   "outputs": [
    {
     "name": "stdout",
     "output_type": "stream",
     "text": [
      "[1 2 3]\n",
      "1\n",
      "2\n"
     ]
    }
   ],
   "source": [
    "# 1: Tạo mảng numpy( ndarray)\n",
    "import numpy as np\n",
    "# tao list\n",
    "l = list(range(1,4))\n",
    "# tao ndarray\n",
    "data = np.array(l)\n",
    "print(data)\n",
    "print(data[0])\n",
    "print(data[1])"
   ]
  },
  {
   "cell_type": "code",
   "execution_count": 2,
   "metadata": {},
   "outputs": [
    {
     "name": "stdout",
     "output_type": "stream",
     "text": [
      "[1 2 3]\n",
      "<class 'numpy.ndarray'>\n",
      "<class 'numpy.int32'>\n",
      "(3,)\n"
     ]
    }
   ],
   "source": [
    "# 2: Sử dụng thuộc tính shape và hàm type() cho mảng numpy\n",
    "import numpy as np\n",
    "l =list(range(1,4))\n",
    "data = np.array(l)\n",
    "print(data)\n",
    "print(type(data))\n",
    "print(type(data[0]))\n",
    "print(data.shape)\n"
   ]
  },
  {
   "cell_type": "code",
   "execution_count": 3,
   "metadata": {},
   "outputs": [
    {
     "name": "stdout",
     "output_type": "stream",
     "text": [
      "(12,)\n",
      "(3, 4)\n"
     ]
    }
   ],
   "source": [
    "# 3: Thay đổi shape của 1 mảng\n",
    "import numpy as np\n",
    "arr1 = np.arange(12)\n",
    "print(arr1.shape)\n",
    "arr2 = arr1.reshape((3,4))\n",
    "print(arr2.shape)"
   ]
  },
  {
   "cell_type": "code",
   "execution_count": 4,
   "metadata": {},
   "outputs": [
    {
     "name": "stdout",
     "output_type": "stream",
     "text": [
      "int32\n",
      "float64\n",
      "int64\n"
     ]
    }
   ],
   "source": [
    "import numpy as np\n",
    "arr1 = np.array([1,2])\n",
    "print(arr1.dtype)\n",
    "arr2 = np.array([1.0, 2.0])\n",
    "print(arr2.dtype)\n",
    "arr3 = np.array([1,2], dtype=np.int64)\n",
    "print(arr3.dtype)"
   ]
  },
  {
   "cell_type": "code",
   "execution_count": 5,
   "metadata": {},
   "outputs": [
    {
     "name": "stdout",
     "output_type": "stream",
     "text": [
      "[1 2 3]\n",
      "[8 2 3]\n"
     ]
    }
   ],
   "source": [
    "# 4: Thay đổi giá trị của 1 phần tử\n",
    "import numpy as np\n",
    "# tạo list\n",
    "l = list(range(1,4))\n",
    "# tạo ndarray\n",
    "data = np.array(l)\n",
    "print(data)\n",
    "data[0] = 8\n",
    "print(data)"
   ]
  },
  {
   "cell_type": "code",
   "execution_count": 6,
   "metadata": {},
   "outputs": [
    {
     "name": "stdout",
     "output_type": "stream",
     "text": [
      "[[0. 0. 0.]\n",
      " [0. 0. 0.]]\n"
     ]
    }
   ],
   "source": [
    "# 5: Tạo ndarray với hàm zeros\n",
    "import numpy as np\n",
    "# shpae: 2 dòng, 3 cột\n",
    "arr = np.zeros((2,3))\n",
    "print(arr)"
   ]
  },
  {
   "cell_type": "code",
   "execution_count": 7,
   "metadata": {},
   "outputs": [
    {
     "name": "stdout",
     "output_type": "stream",
     "text": [
      "[[1. 1. 1.]\n",
      " [1. 1. 1.]]\n"
     ]
    }
   ],
   "source": [
    "# 6: Tạo ndarray với hàm ones\n",
    "import numpy as np\n",
    "# numpy.ones(shape, dtype = None, order = \"C\")\n",
    "# shape: 2 dong, 3 cot\n",
    "arr = np.ones((2,3))\n",
    "print(arr)"
   ]
  },
  {
   "cell_type": "code",
   "execution_count": 12,
   "metadata": {},
   "outputs": [
    {
     "name": "stdout",
     "output_type": "stream",
     "text": [
      "[[9 9 9]\n",
      " [9 9 9]]\n"
     ]
    }
   ],
   "source": [
    "# 7: Tạo ndarray với hàm full\n",
    "import numpy as np\n",
    "# numpy.full(shape, fill_value, dtype = None, order = \"C\")\n",
    "# shape: 2 dong, 3 cot\n",
    "arr = np.full((2,3),9)\n",
    "print(arr)"
   ]
  },
  {
   "cell_type": "code",
   "execution_count": 11,
   "metadata": {},
   "outputs": [
    {
     "name": "stdout",
     "output_type": "stream",
     "text": [
      "[[1. 0. 0.]\n",
      " [0. 1. 0.]\n",
      " [0. 0. 1.]]\n"
     ]
    }
   ],
   "source": [
    "# 8: Tạo ma trận đường chéo\n",
    "import numpy as np\n",
    "# nuimpy.eye(N, M=None, k=0, dtype=<class\"float\">, order = \"C\")\n",
    "# shape: 2 dong , 3 cot\n",
    "arr = np.eye(3)\n",
    "print(arr)\n"
   ]
  },
  {
   "cell_type": "code",
   "execution_count": 13,
   "metadata": {},
   "outputs": [
    {
     "name": "stdout",
     "output_type": "stream",
     "text": [
      "[[0.3193574  0.7933697  0.57970367]\n",
      " [0.26521142 0.84516228 0.39265406]]\n"
     ]
    }
   ],
   "source": [
    "# 9: Tạo numpy array với giá trị ngẫu nhiên\n",
    "import numpy as np\n",
    "# numpy.random.random(size = None)\n",
    "# shape: 2 dòng, 3 cột: với phần tử có giá trị ngẫu nhiên\n",
    "arr = np.random.random((2,3))\n",
    "print(arr)\n"
   ]
  },
  {
   "cell_type": "code",
   "execution_count": 14,
   "metadata": {},
   "outputs": [
    {
     "name": "stdout",
     "output_type": "stream",
     "text": [
      "[0 1 2 3 4 5 6 7 8 9]\n",
      "[ 0  1  2  3  4 50 60 70 80 90]\n"
     ]
    }
   ],
   "source": [
    "# 10: Điều kiện cho mảng numpy\n",
    "import numpy as np\n",
    "arr = np.arange(10)\n",
    "print(arr)\n",
    "out = np.where(arr < 5, arr, 10*arr)\n",
    "print(out)"
   ]
  },
  {
   "cell_type": "code",
   "execution_count": 15,
   "metadata": {},
   "outputs": [
    {
     "name": "stdout",
     "output_type": "stream",
     "text": [
      "[[1 2]\n",
      " [3 4]]\n",
      "[1 2 3 4]\n"
     ]
    }
   ],
   "source": [
    "# 11: Chuyển về mảng 1 chiều\n",
    "import numpy as np\n",
    "arr = np.array([[1,2],[3,4]])\n",
    "out = arr.flatten()\n",
    "print(arr)\n",
    "print(out)"
   ]
  },
  {
   "cell_type": "code",
   "execution_count": 17,
   "metadata": {},
   "outputs": [
    {
     "name": "stdout",
     "output_type": "stream",
     "text": [
      "A: [[1 2 3]\n",
      " [5 6 7]]\n",
      "[[2 3]\n",
      " [6 7]]\n"
     ]
    }
   ],
   "source": [
    "# Array Indexing : Numpy cung cấp 1 số cách để truy xuất phần tử trong mảng. Truy xuất phần tử dùng \n",
    "# kỹ thuật slicing tương tự như danh sách(list) trong python\n",
    "# vd1: Lấy các phần tử từ mảng 2 chiều như sau:\n",
    "import numpy as np\n",
    "# Khởi tọa numpy aray có shape = (2,3)  có giá trị như sau:\n",
    "# [[1,2,3]\n",
    "#  [5,6,7]]\n",
    "a_array = np.array([[1,2,3],[5,6,7]])\n",
    "print(\"A:\", a_array)\n",
    "b_array = a_array[:,1:3]\n",
    "print(b_array)\n"
   ]
  },
  {
   "cell_type": "code",
   "execution_count": 20,
   "metadata": {},
   "outputs": [
    {
     "name": "stdout",
     "output_type": "stream",
     "text": [
      "A: [[1 2 3]\n",
      " [5 6 7]]\n",
      "B: [[2 3]\n",
      " [6 7]]\n",
      "Before changing:  2\n",
      "After changing:  99\n"
     ]
    }
   ],
   "source": [
    "# Việc 1 mảng mới được tạo từ slicing sẽ có cùng địa chỉ với mảng gốc. Nếu thay đổi 1 \n",
    "# trong 2 mảng này thì mảng còn lại cũng thay đổi theo\n",
    "a_arr = np.array([[1,2,3],[5,6,7]])\n",
    "print(\"A:\",a_arr)\n",
    "b_arr = a_arr[:,1:3]\n",
    "print(\"B:\",b_arr)\n",
    "print(\"Before changing: \",a_arr[0,1])\n",
    "b_arr[0,0] = 99\n",
    "print(\"After changing: \",a_arr[0,1])"
   ]
  },
  {
   "cell_type": "code",
   "execution_count": 21,
   "metadata": {},
   "outputs": [
    {
     "name": "stdout",
     "output_type": "stream",
     "text": [
      "[5 6 7] (3,)\n",
      "[[5 6 7]] (1, 3)\n"
     ]
    }
   ],
   "source": [
    "# vd2: Lấy một dòng dữ liệu\n",
    "import numpy as np\n",
    "arr = np.array([[1,2,3],[5,6,7],[9,10,11]])\n",
    "# Hai cách truy cập dữ liệu ở hàng giữa của mảng\n",
    "# Dùng kết hợp chỉ số và slice -> được array mới có số chiều thấp hơn \n",
    "# Nếu chỉ dùng slice ta sẽ có array mới có cùng số chiều với array gốc \n",
    "\n",
    "# c1: số chiều giảm\n",
    "row_r1 = arr[1, :]\n",
    "# c2: số chiều được giữ nguyên\n",
    "row_r2 = arr[1:2, :]\n",
    "print(row_r1, row_r1.shape)\n",
    "print(row_r2, row_r2.shape)"
   ]
  },
  {
   "cell_type": "code",
   "execution_count": 22,
   "metadata": {},
   "outputs": [
    {
     "name": "stdout",
     "output_type": "stream",
     "text": [
      "[ 2  6 10] (3,)\n",
      "[[ 2]\n",
      " [ 6]\n",
      " [10]] (3, 1)\n"
     ]
    }
   ],
   "source": [
    "# Vd3: Lấy một cột dữ liệu\n",
    "import numpy\n",
    "arr = np.array([[1,2,3],[5,6,7],[9,10,11]])\n",
    "# c1: số chiều giảm\n",
    "col_r1 = arr[:,1]\n",
    "# c2: số chiều được giữ nguyên\n",
    "col_r2 = arr[:,1:2]\n",
    "print(col_r1, col_r1.shape)\n",
    "print(col_r2, col_r2.shape)"
   ]
  },
  {
   "cell_type": "code",
   "execution_count": 26,
   "metadata": {},
   "outputs": [
    {
     "name": "stdout",
     "output_type": "stream",
     "text": [
      "[[1 2]\n",
      " [3 4]\n",
      " [5 6]]\n",
      "1: [1 4 5]\n",
      "2: [1 4 5]\n",
      "3: [2 2]\n"
     ]
    }
   ],
   "source": [
    "# Khi bạn truy xuất mảng dùng slincing, kết quả trả về sễ là mảng con của mảng ban đầu\n",
    "# Nếu sử dụng chỉ số mảng(index), chúng ta có thể xây dựng mảng tùy ý từng mảng khác\n",
    "import numpy as np\n",
    "arr = np.array([[1,2],[3,4],[5,6]])\n",
    "print(arr)\n",
    "# Một số ví dụ của truy xuất mảng dùng chỉ số index\n",
    "\n",
    "# Kết quả thu được là 1 mảng có shape(3,)\n",
    "print(\"1:\", arr[[0,1,2],[0,1,0]])\n",
    "# Sẽ thu được kết quả tương đương như tren với cách viết này:\n",
    "print(\"2:\", np.array([arr[0,0], arr[1,1], arr[2,0]]))\n",
    "# Khi sử dụng index, bạn được phép truy xuất tới 1 phần tử nhiều hơn 1 lần\n",
    "print(\"3:\", arr[[0,0],[1,1]])"
   ]
  },
  {
   "cell_type": "code",
   "execution_count": 27,
   "metadata": {},
   "outputs": [
    {
     "name": "stdout",
     "output_type": "stream",
     "text": [
      "[[1 2]\n",
      " [3 4]\n",
      " [5 6]]\n",
      "[[False False]\n",
      " [ True  True]\n",
      " [ True  True]]\n"
     ]
    }
   ],
   "source": [
    "# Boolean Indexing: cho phép chúng ta chọn ra các phần tử tùy ý của 1 mảng. Kiểu truy\n",
    "# xuất này thường được sử dụng để chọn ra các phần tử thoản mãn dk đó \n",
    "import numpy as np\n",
    "a_arr = np.array([[1,2],[3,4],[5,6]])\n",
    "print(a_arr)\n",
    "# Tìm các phần tử lớn hơn 2\n",
    "# Trả về 1 mảng boolean có sô chiều như mảng a_arr\n",
    "# và giá trị tại mỗi phần tử là\n",
    "# True nếu phần tử của a tại đó > 2\n",
    "# Flase cho trường hơp ngược lại\n",
    "\n",
    "bool_idx = (a_arr > 2)\n",
    "print(bool_idx)"
   ]
  },
  {
   "cell_type": "code",
   "execution_count": 28,
   "metadata": {},
   "outputs": [
    {
     "name": "stdout",
     "output_type": "stream",
     "text": [
      "[[1 2]\n",
      " [3 4]\n",
      " [5 6]]\n",
      "A: [[False False]\n",
      " [ True  True]\n",
      " [ True  True]]\n",
      "B: [3 4 5 6]\n",
      "C: [3 4 5 6]\n"
     ]
    }
   ],
   "source": [
    "# vd5: Tìm các phần tử thỏa mãn điều kiện và lấy các phần tử tương ứng\n",
    "import numpy as np\n",
    "a_array = np.array([[1,2],[3,4],[5,6]])\n",
    "print(a_arr)\n",
    "\n",
    "bool_idx = (a_arr > 2)\n",
    "print(\"A:\",bool_idx)\n",
    "out = a_arr[bool_idx]\n",
    "print(\"B:\",out)\n",
    "print(\"C:\",a_arr[a_arr > 2])"
   ]
  },
  {
   "cell_type": "code",
   "execution_count": 29,
   "metadata": {},
   "outputs": [
    {
     "name": "stdout",
     "output_type": "stream",
     "text": [
      "A: [1. 2. 3. 4.]\n",
      "B: [5. 6. 7. 8.]\n",
      "C: [ 6.  8. 10. 12.]\n",
      "D: [ 6.  8. 10. 12.]\n"
     ]
    }
   ],
   "source": [
    "# CÁC PHÉP TOÁN TREN MẢNG\n",
    "# 1: Phép cộng giữa 2 mảng\n",
    "import numpy as np\n",
    "x = np.array([1,2,3,4], dtype= np.float64)\n",
    "y = np.array([5,6,7,8], dtype= np.float64)\n",
    "print(\"A:\",x)\n",
    "print(\"B:\",y)\n",
    "# Tổng của 2 mảng, cả 2 cách cho cùng 1 kết quả\n",
    "print(\"C:\",x+y)\n",
    "print(\"D:\",np.add(x,y))"
   ]
  },
  {
   "cell_type": "code",
   "execution_count": 30,
   "metadata": {},
   "outputs": [
    {
     "name": "stdout",
     "output_type": "stream",
     "text": [
      "A: [1. 2. 3. 4.]\n",
      "B: [5. 6. 7. 8.]\n",
      "C: [-4. -4. -4. -4.]\n",
      "D: [-4. -4. -4. -4.]\n"
     ]
    }
   ],
   "source": [
    "# 2: Phép trừ giữa 2 mảng\n",
    "import numpy as np\n",
    "x = np.array([1,2,3,4], dtype = np.float64)\n",
    "y = np.array([5,6,7,8], dtype = np.float64)\n",
    "print(\"A:\",x)\n",
    "print(\"B:\",y)\n",
    "# Hiệu của 2 mảng\n",
    "print(\"C:\",x-y)\n",
    "print(\"D:\",np.subtract(x,y))"
   ]
  },
  {
   "cell_type": "code",
   "execution_count": 31,
   "metadata": {},
   "outputs": [
    {
     "name": "stdout",
     "output_type": "stream",
     "text": [
      "A: [1. 2. 3. 4.]\n",
      "B: [5. 6. 7. 8.]\n",
      "C: [ 5. 12. 21. 32.]\n",
      "D: [ 5. 12. 21. 32.]\n"
     ]
    }
   ],
   "source": [
    "# 3: Phép nhân giữa 2 mảng\n",
    "import numpy as np\n",
    "x = np.array([1,2,3,4], dtype=np.float64)\n",
    "y = np.array([5,6,7,8], dtype=np.float64)\n",
    "print(\"A:\",x)\n",
    "print(\"B:\",y)\n",
    "# Tính tích từng phần tử của x nhân với từng phần tử của y\n",
    "print(\"C:\",x*y)\n",
    "print(\"D:\",np.multiply(x,y))"
   ]
  },
  {
   "cell_type": "code",
   "execution_count": 33,
   "metadata": {},
   "outputs": [
    {
     "name": "stdout",
     "output_type": "stream",
     "text": [
      "A: [1. 2. 3. 4.]\n",
      "B: [5. 6. 7. 8.]\n",
      "C: [0.2        0.33333333 0.42857143 0.5       ]\n",
      "D: [0.2        0.33333333 0.42857143 0.5       ]\n"
     ]
    }
   ],
   "source": [
    "# 4: Phép chia giữa 2 mảng\n",
    "import numpy as np\n",
    "x = np.array([1,2,3,4], dtype=np.float64)\n",
    "y = np.array([5,6,7,8], dtype=np.float64)\n",
    "print(\"A:\",x)\n",
    "print(\"B:\",y)\n",
    "# Phép chia của từng phần tử x  chia với từng phần tử y\n",
    "print(\"C:\",x/y)\n",
    "print(\"D:\",np.divide(x,y))"
   ]
  },
  {
   "cell_type": "code",
   "execution_count": 34,
   "metadata": {},
   "outputs": [
    {
     "name": "stdout",
     "output_type": "stream",
     "text": [
      "A: [1. 2. 3. 4.]\n",
      "B: [5. 6. 7. 8.]\n",
      "C: [1.         1.41421356 1.73205081 2.        ]\n"
     ]
    }
   ],
   "source": [
    "# 5: Tính căn bậc 2 cho từng phần tử\n",
    "import numpy as np\n",
    "x = np.array([1,2,3,4], dtype=np.float64)\n",
    "y = np.array([5,6,7,8], dtype=np.float64)\n",
    "print(\"A:\",x)\n",
    "print(\"B:\",y)\n",
    "# Căn bậc 2 từng phần tử trong x\n",
    "print(\"C:\",np.sqrt(x))"
   ]
  },
  {
   "cell_type": "code",
   "execution_count": 35,
   "metadata": {},
   "outputs": [
    {
     "name": "stdout",
     "output_type": "stream",
     "text": [
      "A: 8\n",
      "B: 8\n"
     ]
    }
   ],
   "source": [
    "# 6: Phép nhân giữa 2 vector(inner product)\n",
    "import numpy as np\n",
    "v = np.array([1,2])\n",
    "w = np.array([2,3])\n",
    "# Tính innear product giữa 2 vector\n",
    "print(\"A:\",v.dot(w))\n",
    "print(\"B:\",np.dot(v,w))"
   ]
  },
  {
   "cell_type": "code",
   "execution_count": 36,
   "metadata": {},
   "outputs": [
    {
     "name": "stdout",
     "output_type": "stream",
     "text": [
      "A: [[1 2]\n",
      " [4 3]]\n",
      "B: [1 2]\n",
      "C: [ 5 10]\n",
      "C: [9 8]\n",
      "C: [ 5 10]\n",
      "C: [9 8]\n"
     ]
    }
   ],
   "source": [
    "# 7: Phép nhân giữa vector và matran\n",
    "import numpy as np\n",
    "x = np.array([[1,2],[4,3]])\n",
    "v = np.array([1,2])\n",
    "print(\"A:\",x)\n",
    "print(\"B:\",v)\n",
    "# Phép nhân giữa ma trận và vector\n",
    "print(\"C:\",x.dot(v))\n",
    "print(\"C:\",v.dot(x))\n",
    "print(\"C:\",np.dot(x,v))\n",
    "print(\"C:\",np.dot(v,x))"
   ]
  },
  {
   "cell_type": "code",
   "execution_count": 37,
   "metadata": {},
   "outputs": [
    {
     "name": "stdout",
     "output_type": "stream",
     "text": [
      "A: [[1 2]\n",
      " [4 3]]\n",
      "B: [[2 3]\n",
      " [2 1]]\n",
      "c: [[ 6  5]\n",
      " [14 15]]\n",
      "C: [[ 6  5]\n",
      " [14 15]]\n"
     ]
    }
   ],
   "source": [
    "# 8: Nhân giữa 2 ma trận\n",
    "import numpy as np\n",
    "x = np.array([[1,2],[4,3]])\n",
    "y = np.array([[2,3],[2,1]])\n",
    "\n",
    "print(\"A:\",x)\n",
    "print(\"B:\",y)\n",
    "# phép nhân giữa 2 ma trận\n",
    "print(\"c:\",x.dot(y))\n",
    "print(\"C:\",np.dot(x,y))"
   ]
  },
  {
   "cell_type": "code",
   "execution_count": 38,
   "metadata": {},
   "outputs": [
    {
     "name": "stdout",
     "output_type": "stream",
     "text": [
      "10\n",
      "[4 6]\n",
      "[3 7]\n"
     ]
    }
   ],
   "source": [
    "# 9: Tính tổng cho 1 mảng numpy\n",
    "import numpy as np\n",
    "x = np.array([[1,2],[3,4]])\n",
    "# Tổng các phần tử của mảng\n",
    "print(np.sum(x))\n",
    "print(np.sum(x,axis=0))\n",
    "print(np.sum(x,axis=1))"
   ]
  },
  {
   "cell_type": "code",
   "execution_count": 39,
   "metadata": {},
   "outputs": [
    {
     "name": "stdout",
     "output_type": "stream",
     "text": [
      "[[1 2]\n",
      " [3 4]]\n",
      "[[1 3]\n",
      " [2 4]]\n"
     ]
    }
   ],
   "source": [
    "# 10: Chuyển vị cho 1 ma trân\n",
    "import numpy as np\n",
    "x = np.array([[1,2],[3,4]])\n",
    "print(x)\n",
    "# chuyển vị\n",
    "print(x.T)"
   ]
  },
  {
   "cell_type": "code",
   "execution_count": 46,
   "metadata": {},
   "outputs": [
    {
     "name": "stdout",
     "output_type": "stream",
     "text": [
      "A [[ 1  2  3]\n",
      " [ 4  5  6]\n",
      " [ 7  8  9]\n",
      " [10 11 12]]\n",
      "B [1 0 1]\n",
      "C [[ 2  2  4]\n",
      " [ 5  5  7]\n",
      " [ 8  8 10]\n",
      " [11 11 13]]\n"
     ]
    }
   ],
   "source": [
    "# Broadcasting: cho phép thực thi các phép toán trên các mảng có kích thước khác nhau\n",
    "# VD: Chúng ta muốn cộng vector cho 1 hàng của ma tran. chúng ta có thể làm như sau\n",
    "import numpy as np\n",
    "x = np.array([[1,2,3],[4,5,6],[7,8,9],[10,11,12]])\n",
    "v = np.array([1,0,1])\n",
    "y = np.empty_like(x)\n",
    "# c1: Thếm vector v vào mỗi hàng của ma trận X bằng 1 vòng lặp\n",
    "for i in range(4):\n",
    "    y[i, :] = x[i, :]+v\n",
    "\n",
    "print(\"A\",x)\n",
    "print(\"B\",v)\n",
    "print(\"C\",y)"
   ]
  },
  {
   "cell_type": "code",
   "execution_count": 47,
   "metadata": {},
   "outputs": [
    {
     "name": "stdout",
     "output_type": "stream",
     "text": [
      "A: [[ 1  2  3]\n",
      " [ 4  5  6]\n",
      " [ 7  8  9]\n",
      " [10 11 12]]\n",
      "B: [1 0 1]\n",
      "C: [[1 0 1]\n",
      " [1 0 1]\n",
      " [1 0 1]\n",
      " [1 0 1]]\n",
      "D: [[ 2  2  4]\n",
      " [ 5  5  7]\n",
      " [ 8  8 10]\n",
      " [11 11 13]]\n"
     ]
    }
   ],
   "source": [
    "# Cách này hoạt động bt với ma trân X nhỏ. Khi matran X lớn, việc sử dụng vòng lắp\n",
    "# sẽ rất chậm\n",
    "import numpy as np\n",
    "x = np.array([[1,2,3],[4,5,6],[7,8,9],[10,11,12]])\n",
    "v = np.array([1,0,1])\n",
    "# Sếp chồng 4 bản sao của v lên nhau\n",
    "V_t = np.tile(v,(4,1))\n",
    "# Thực hiện phéo +\n",
    "Y = x + V_t\n",
    "print(\"A:\",x)\n",
    "print(\"B:\",v)\n",
    "print(\"C:\",V_t)\n",
    "print(\"D:\",Y)\n"
   ]
  },
  {
   "cell_type": "code",
   "execution_count": 48,
   "metadata": {},
   "outputs": [
    {
     "name": "stdout",
     "output_type": "stream",
     "text": [
      "[[ 2  2  4]\n",
      " [ 5  5  7]\n",
      " [ 8  8 10]\n",
      " [11 11 13]]\n"
     ]
    }
   ],
   "source": [
    "#  Numpy broadcasting cho phép chúng ta thực thi tính toán này mà không cần phải làm thêm các bước thêm vào\n",
    "import numpy as np\n",
    "x = np.array([[1,2,3],[4,5,6],[7,8,9],[10,11,12]])\n",
    "v = np.array([1,0,1])\n",
    "y = x + v\n",
    "print(y)"
   ]
  },
  {
   "cell_type": "code",
   "execution_count": null,
   "metadata": {},
   "outputs": [],
   "source": []
  }
 ],
 "metadata": {
  "kernelspec": {
   "display_name": "Python 3",
   "language": "python",
   "name": "python3"
  },
  "language_info": {
   "codemirror_mode": {
    "name": "ipython",
    "version": 3
   },
   "file_extension": ".py",
   "mimetype": "text/x-python",
   "name": "python",
   "nbconvert_exporter": "python",
   "pygments_lexer": "ipython3",
   "version": "3.7.6"
  }
 },
 "nbformat": 4,
 "nbformat_minor": 4
}
