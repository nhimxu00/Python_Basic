{
 "cells": [
  {
   "cell_type": "code",
   "execution_count": 1,
   "metadata": {},
   "outputs": [
    {
     "name": "stdout",
     "output_type": "stream",
     "text": [
      "[0 1 2 3 4 5 6 7 8 9]\n"
     ]
    }
   ],
   "source": [
    "# vd1: Tạo mảng numpy 1 chiều từ 0 -> 9\n",
    "import numpy as np\n",
    "arr = np.arange(0,10)\n",
    "print(arr)"
   ]
  },
  {
   "cell_type": "code",
   "execution_count": null,
   "metadata": {},
   "outputs": [],
   "source": [
    "# vd2: Tạo 1 mảng boolean 2*3 với tất cả giá tị là TRUE\n",
    "import numpy as np\n",
    "# C1: \n",
    "arr1 = np.ones((2,3)) > 0\n",
    "print(\"Method1:\")\n",
    "print(arr1) \n",
    "# C2:\n",
    "arr2 = np.ones((2,3), dtype = bool)\n",
    "print(\"Method2:\")\n",
    "print(arr2)\n",
    "# C3:\n",
    "arr3 = np.full((2,3), True, dtype = bool)\n",
    "print(\"Method3:\")\n",
    "print(arr3)"
   ]
  },
  {
   "cell_type": "code",
   "execution_count": null,
   "metadata": {},
   "outputs": [],
   "source": [
    "# vd3: Lấy những phần tử mà thỏa mãn 1 dk cho trước của mảng 1 chiều. Cho mảng 1 chều có giá trị từ 0 -> 9\n",
    "# 1: TÌm phần tử có giá trị lẻ\n",
    "# 2: Tìm phần tử có giá trị chẵn\n",
    "import numpy as np\n",
    "# c1\n",
    "a = np.arange(1,10)\n",
    "a_oll = a[a%2==1]\n",
    "print(a_oll)\n",
    "# c2:\n",
    "a = [ i for i in range(10) if i%2==1]\n",
    "print(a)\n",
    "b = np.arange(1,10)\n",
    "b_oll = b[b%2==0]\n",
    "print(b_oll)\n",
    "b = [j for j in range(10) if j%2==0]\n",
    "print(b)"
   ]
  },
  {
   "cell_type": "code",
   "execution_count": null,
   "metadata": {},
   "outputs": [],
   "source": [
    "# vd4: Thay thế phần tử thỏa mãn dk cho trc bằng 1 giá trị khác. Cho mảng 1 chiều có giá trị từ 0->9 , thay thế phần tử có giá trị lẻ =10\n",
    "import numpy as np\n",
    "a = np.arange(10)\n",
    "a[a%2==1] = 10\n",
    "print(a)\n"
   ]
  },
  {
   "cell_type": "code",
   "execution_count": null,
   "metadata": {},
   "outputs": [],
   "source": [
    "# vd5: Thay thế phần tử thỏa mãn điều kiện cho trc bằng 1 giá trị # . cho 1 mảng thay thế tất\n",
    "# cả sô chẵn bằng giá trị 11 nhưng mảng ban đầu không thay đổi\\\n",
    "import numpy as np\n",
    "a = np.arange(10)\n",
    "print(a)\n",
    "out = np.where(a%2==0, 11, a)\n",
    "print(out)\n",
    "print(a)"
   ]
  },
  {
   "cell_type": "code",
   "execution_count": null,
   "metadata": {},
   "outputs": [],
   "source": [
    "# vd6: Cho mảng 1 chiều từ 0-> 9, chuyển mảng 1 chiều này thành mamgr 2 chiều có 2 hàng\n",
    "import numpy as np\n",
    "# tạo mảng 1d gồm 10 phần tử\n",
    "a = np.arange(10)\n",
    "print(a)\n",
    "# -1 có ý nghĩa là sô cột của a_2d được tính tự động\n",
    "a_2d = a.reshape(2,-1)\n",
    "print(a_2d)"
   ]
  },
  {
   "cell_type": "code",
   "execution_count": null,
   "metadata": {},
   "outputs": [],
   "source": [
    "# vd7: cho 2 mảng ( Xếp chồng 2 mảng theo chiều dọc)\n",
    "a1 = np.arange(10).reshape(2,-1)\n",
    "a2 = np.arange(10,0,-1).reshape(2,-1)\n",
    "# c1: \n",
    "out1 = np.concatenate([a1,a2],axis = 0)\n",
    "print(out1)\n",
    "# c2: \n",
    "out2 = np.vstack([a1,a2])\n",
    "print(out2)\n",
    "# c3:\n",
    "out3 = np.r_[a1,a2]\n",
    "print(out3)"
   ]
  },
  {
   "cell_type": "code",
   "execution_count": null,
   "metadata": {},
   "outputs": [],
   "source": [
    "# vd8: Cho 2 mảng (Xếp chồng 2 mảng theo chiều ngang)\n",
    "import numpy as np\n",
    "# Tạo 2 mảng a1 và a2\n",
    "a1 = np.arange(10).reshape(2,-1)\n",
    "print(a1)\n",
    "a2 = np.arange(10,0,-1).reshape(2,-1)\n",
    "print(a2)\n",
    "# c1:\n",
    "out1 = np.concatenate([a1,a2], axis=1)\n",
    "print(out1)\n",
    "# c2: \n",
    "out2 = np.hstack([a1,a2])\n",
    "print(out2)\n",
    "# c3: \n",
    "out3 = np.c_[a1,a2]\n",
    "print(out3)"
   ]
  },
  {
   "cell_type": "code",
   "execution_count": null,
   "metadata": {},
   "outputs": [],
   "source": [
    "# vd9: Tạo mảng với các phần tử được lặp từ 1 mảng khác.\n",
    "import numpy as np\n",
    "a = np.array([1,2,3])\n",
    "#c1:\n",
    "out1 = np.repeat(a,2)\n",
    "print(out1)\n",
    "#c2:\n",
    "out2 = np.tile(a,2)\n",
    "print(out2)"
   ]
  },
  {
   "cell_type": "code",
   "execution_count": null,
   "metadata": {},
   "outputs": [],
   "source": [
    "#Vd10: Lấy phần tử chung của 2 mảng a1, a2\n",
    "import numpy as np\n",
    "a1 = np.array([1,2,3,4,5])\n",
    "a2 = np.array([3,4,5,6,7])\n",
    "print(a1)\n",
    "print(a2)\n",
    "out = np.intersect1d(a1,a2)\n",
    "print(out)"
   ]
  },
  {
   "cell_type": "code",
   "execution_count": null,
   "metadata": {},
   "outputs": [],
   "source": [
    "# vd11: Từ mảng a1 xóa tất cả các phần tử mà có trong mảng a2\n",
    "import numpy as np\n",
    "a1 = np.array([2,3,4,5])\n",
    "a2 = np.array([3,5,9,7])\n",
    "# Từ mảng a1 xóa tất cả các phần tử mà có trong a=mảng a2\n",
    "out = np.setdiff1d(a1,a2)\n",
    "print(out)"
   ]
  },
  {
   "cell_type": "code",
   "execution_count": null,
   "metadata": {},
   "outputs": [],
   "source": [
    "# vd12: Lấy tất cả vị trí mà các phần tử có giá trị giống nhau\n",
    "import numpy as np\n",
    "a1 = np.array([3,4,5,6,7,8])\n",
    "a2 = np.array([3,3,6,6,7,7])\n",
    "index  = np.where(a1 == a2)\n",
    "print(index)\n",
    "print(index[0])"
   ]
  },
  {
   "cell_type": "code",
   "execution_count": null,
   "metadata": {},
   "outputs": [],
   "source": [
    "# vd13: Tìm tất cả vị trí và giá trị của các phần tử có giá trị trong phạm vi cho trước\n",
    "import numpy as np\n",
    "a = np.array([1,7,3,9,4,7])\n",
    "print(a)\n",
    "# C1\n",
    "index1 = np.where((a>=4) & (a<=8))\n",
    "out1 = a[index1]\n",
    "print(out1)\n",
    "#c2\n",
    "index2 = np.where(np.logical_and(a>=4, a<=8))\n",
    "out2 = a[index2]\n",
    "print(out2)\n",
    "# c3: \n",
    "out3 = a[(a>=4) & (a<=8)]\n",
    "print(out3)"
   ]
  },
  {
   "cell_type": "code",
   "execution_count": null,
   "metadata": {},
   "outputs": [],
   "source": [
    "# vd14: Tìm giá trị max giữa 2 mảng\n",
    "import numpy as np\n",
    "a1 = np.array([4,6,2,8,6,9])\n",
    "a2 = np.array([1,5,4,9,8,5])\n",
    "# c1: Tạo hàm tìm số lớn hơn trong 2 số\n",
    "def max_value(x,y):\n",
    "    if x>=y:\n",
    "        return x\n",
    "    else:\n",
    "        return y\n",
    "\n",
    "# Dùng numpy.vectorize để áp dụng cho hàm max_value\n",
    "# otypes là kiểu dữ liệu cho mảng output\n",
    "pair_max = np.vectorize(max_value, otypes = [int])\n",
    "out1 = pair_max(a1,a2)\n",
    "print(out1)\n",
    "# c2: Dùng hàm maximum\n",
    "out2 = np.maximum(a1,a2)\n",
    "print(out2)\n",
    "# c3: Dùng hàm where\n",
    "out3 = np.where(a1 > a2, a1, a2)\n",
    "print(out3)"
   ]
  },
  {
   "cell_type": "code",
   "execution_count": null,
   "metadata": {},
   "outputs": [],
   "source": [
    "# vd15: Hoán đổi cột 1 và 2 trong mảng arr\n",
    "import numpy as np\n",
    "a = np.arange(12).reshape(4,3)\n",
    "print(a)\n",
    "# a có 3 cột, chỉ số index là 0,1,2. Hoán đổi cột 1(index= 0) và cột 2(index = 1)\n",
    "out = a[:,[1,0,2]]\n",
    "print(out)"
   ]
  },
  {
   "cell_type": "code",
   "execution_count": null,
   "metadata": {},
   "outputs": [],
   "source": [
    "# vd16: Hoán đổi dòng 1 và 2 trong mảng a\n",
    "import numpy as np\n",
    "a = np.arange(12).reshape(4,3)\n",
    "# a có 4 dòng , chỉ sô index là 0,1,2,3 . Hoán dòng 1 (index = 0) và dòng 2 (index =1)\n",
    "print(a)\n",
    "out = a[[1,0,2,3],:]"
   ]
  }
 ],
 "metadata": {
  "kernelspec": {
   "display_name": "Python 3",
   "language": "python",
   "name": "python3"
  },
  "language_info": {
   "codemirror_mode": {
    "name": "ipython",
    "version": 3
   },
   "file_extension": ".py",
   "mimetype": "text/x-python",
   "name": "python",
   "nbconvert_exporter": "python",
   "pygments_lexer": "ipython3",
   "version": "3.7.6"
  }
 },
 "nbformat": 4,
 "nbformat_minor": 4
}
