{
 "cells": [
  {
   "cell_type": "code",
   "execution_count": 8,
   "metadata": {},
   "outputs": [
    {
     "name": "stdout",
     "output_type": "stream",
     "text": [
      "[[1 2 3]\n",
      " [4 5 6]]\n",
      "[[1 4]\n",
      " [2 5]\n",
      " [3 6]]\n"
     ]
    }
   ],
   "source": [
    "# Bài 1: \n",
    "import numpy as np\n",
    "arr = np.array([[1,2,3],[4,5,6]])\n",
    "print(arr)\n",
    "arr_transpose = arr.transpose()\n",
    "print(arr_transpose)"
   ]
  },
  {
   "cell_type": "code",
   "execution_count": 3,
   "metadata": {},
   "outputs": [],
   "source": [
    "# Bài 2:\n",
    "# Từ ảnh thường sang ảnh màu\n",
    "from PIL import Image\n",
    "import numpy as np\n",
    "\n",
    "im = np.array(Image.open('hhty.jpg'))\n",
    "\n",
    "im_R = im.copy()\n",
    "im_R[:, :, (1, 2)] = 0\n",
    "im_G = im.copy()\n",
    "im_G[:, :, (0, 2)] = 0\n",
    "im_B = im.copy()\n",
    "im_B[:, :, (0, 1)] = 0\n",
    "\n",
    "im_RGB = np.concatenate((im_R, im_G, im_B), axis=1)\n",
    "# im_RGB = np.hstack((im_R, im_G, im_B))\n",
    "# im_RGB = np.c_['1', im_R, im_G, im_B]\n",
    "\n",
    "pil_img = Image.fromarray(im_RGB)\n",
    "pil_img.save('green_hhty.jpg')\n"
   ]
  },
  {
   "cell_type": "code",
   "execution_count": 5,
   "metadata": {},
   "outputs": [],
   "source": [
    "# Từ ảnh màu sang màu xám\n",
    "import numpy as np\n",
    "from PIL import Image\n",
    "\n",
    "im = np.array(Image.open('hhty.jpg').resize((256, 256)))\n",
    "\n",
    "im_i = 255 - im\n",
    "\n",
    "Image.fromarray(im_i).save('numpy_inverse.jpg')"
   ]
  },
  {
   "cell_type": "code",
   "execution_count": 6,
   "metadata": {},
   "outputs": [
    {
     "name": "stdout",
     "output_type": "stream",
     "text": [
      "[[ 63 320  83]\n",
      " [ 77 484 102]\n",
      " [ 84 248 117]]\n"
     ]
    }
   ],
   "source": [
    "# Bài 3:\n",
    "import numpy as np \n",
    "  \n",
    "# input two matrices \n",
    "mat1 = ([1, 6, 5],[3 ,4, 8],[2, 12, 3]) \n",
    "mat2 = ([3, 4, 6],[5, 6, 7],[6,56, 7]) \n",
    "  \n",
    "# This will return dot product \n",
    "res = np.dot(mat1,mat2) \n",
    "  \n",
    "print(res) "
   ]
  },
  {
   "cell_type": "code",
   "execution_count": 16,
   "metadata": {},
   "outputs": [],
   "source": [
    "from PIL import Image\n",
    "im = Image.open('hhty.jpg').convert('L')\n",
    "im = im.crop((20, 50, 98, 100))\n",
    "im.save('hhty_1.jpg')"
   ]
  },
  {
   "cell_type": "code",
   "execution_count": 22,
   "metadata": {},
   "outputs": [
    {
     "name": "stdout",
     "output_type": "stream",
     "text": [
      "hello123.txt\n",
      "Modified\n",
      "1596874998\n",
      "1596874998.6697822\n",
      "1596874998.6697822\n",
      "\n",
      "Created\n",
      "1596869659\n",
      "1596869659.5475402\n",
      "1596869659.5475402\n",
      "\n",
      "Date modified: Sat Aug  8 15:23:18 2020\n",
      "Date modified: 2020-08-08 15:23:18.669782\n",
      "Date modified: 08/08/2020 15:23:18\n",
      "\n",
      "Date created: Sat Aug  8 13:54:19 2020\n",
      "Date created: 2020-08-08 13:54:19.547540\n",
      "Date created: 08/08/2020 13:54:19\n"
     ]
    }
   ],
   "source": [
    "# import os\n",
    "# import platform\n",
    "\n",
    "# def creation_date(path_to_file):\n",
    "#     \"\"\"\n",
    "#     Try to get the date that a file was created, falling back to when it was\n",
    "#     last modified if that isn't possible.\n",
    "#     See http://stackoverflow.com/a/39501288/1709587 for explanation.\n",
    "#     \"\"\"\n",
    "#     if platform.system() == 'Windows':\n",
    "#         return os.path.getctime(path_to_file)\n",
    "#     else:\n",
    "#         stat = os.stat(path_to_file)\n",
    "#         try:\n",
    "#             return stat.st_birthtime\n",
    "#         except AttributeError:\n",
    "#             # We're probably on Linux. No easy way to get creation dates here,\n",
    "#             # so we'll settle for when its content was last modified.\n",
    "#             return stat.st_mtime\n",
    "import os, time, datetime\n",
    "\n",
    "file = \"hello123.txt\"\n",
    "print(file)\n",
    "\n",
    "print(\"Modified\")\n",
    "print(os.stat(file)[-2])\n",
    "print(os.stat(file).st_mtime)\n",
    "print(os.path.getmtime(file))\n",
    "\n",
    "print()\n",
    "\n",
    "print(\"Created\")\n",
    "print(os.stat(file)[-1])\n",
    "print(os.stat(file).st_ctime)\n",
    "print(os.path.getctime(file))\n",
    "\n",
    "print()\n",
    "\n",
    "modified = os.path.getmtime(file)\n",
    "print(\"Date modified: \"+time.ctime(modified))\n",
    "print(\"Date modified:\",datetime.datetime.fromtimestamp(modified))\n",
    "year,month,day,hour,minute,second=time.localtime(modified)[:-3]\n",
    "print(\"Date modified: %02d/%02d/%d %02d:%02d:%02d\"%(day,month,year,hour,minute,second))\n",
    "\n",
    "print()\n",
    "\n",
    "created = os.path.getctime(file)\n",
    "print(\"Date created: \"+time.ctime(created))\n",
    "print(\"Date created:\",datetime.datetime.fromtimestamp(created))\n",
    "year,month,day,hour,minute,second=time.localtime(created)[:-3]\n",
    "print(\"Date created: %02d/%02d/%d %02d:%02d:%02d\"%(day,month,year,hour,minute,second))"
   ]
  },
  {
   "cell_type": "code",
   "execution_count": 23,
   "metadata": {},
   "outputs": [
    {
     "name": "stdout",
     "output_type": "stream",
     "text": [
      "Original array:\n",
      "[(b'James', 5, 48.5 ) (b'Nail', 6, 52.5 ) (b'Paul', 5, 42.1 )\n",
      " (b'Pit', 5, 40.11)]\n",
      "Sort by height\n",
      "[(b'Pit', 5, 40.11) (b'Paul', 5, 42.1 ) (b'James', 5, 48.5 )\n",
      " (b'Nail', 6, 52.5 )]\n"
     ]
    }
   ],
   "source": [
    "import numpy as np\n",
    "data_type = [('name', 'S15'), ('class', int), ('height', float)]\n",
    "students_details = [('James', 5, 48.5), ('Nail', 6, 52.5),('Paul', 5, 42.10), ('Pit', 5, 40.11)]\n",
    "# create a structured array\n",
    "students = np.array(students_details, dtype=data_type)   \n",
    "print(\"Original array:\")\n",
    "print(students)\n",
    "print(\"Sort by height\")\n",
    "print(np.sort(students, order='height'))    "
   ]
  },
  {
   "cell_type": "code",
   "execution_count": null,
   "metadata": {},
   "outputs": [],
   "source": []
  }
 ],
 "metadata": {
  "kernelspec": {
   "display_name": "Python 3",
   "language": "python",
   "name": "python3"
  },
  "language_info": {
   "codemirror_mode": {
    "name": "ipython",
    "version": 3
   },
   "file_extension": ".py",
   "mimetype": "text/x-python",
   "name": "python",
   "nbconvert_exporter": "python",
   "pygments_lexer": "ipython3",
   "version": "3.7.6"
  }
 },
 "nbformat": 4,
 "nbformat_minor": 4
}
