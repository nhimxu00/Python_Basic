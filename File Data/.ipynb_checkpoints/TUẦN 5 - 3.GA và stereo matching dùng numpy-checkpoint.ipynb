{
 "cells": [
  {
   "cell_type": "code",
   "execution_count": 11,
   "metadata": {},
   "outputs": [],
   "source": [
    "# vd1: Source code cho các tham số và hàm cơ bản trong GA\n",
    "import numpy as np\n",
    "import matplotlib.pyplot as plt\n",
    "n = 10\n",
    "m = 100\n",
    "N_GENERATIONS = 400\n",
    "\n",
    "CROSS_RATE = 0.9\n",
    "MUTATION_RATE = 0.05\n",
    "BOUND = 100\n",
    "def sphere_function(x):\n",
    "    return np.sum(x*x, axis=1)\n",
    "def compute_fitness(pred):\n",
    "    return 1/(pred + 1)\n",
    "def select(pop, fitness):\n",
    "    idx = np.random.choice(np.arange(m), size=m, replace=True, p=fitness/fitness.sum())\n",
    "    return pop[idx]\n",
    "def crossover(s1,s2):\n",
    "    crossover_prob = np.random.rand((n))\n",
    "    crossover_mask = crossover_prob < CROSS_RATE\n",
    "    # save s1\n",
    "    buffer = s1.copy()\n",
    "    # mating and produce one child\n",
    "    s1[crossover_mask] = s2[crossover_mask]\n",
    "    s2[crossover_mask] = buffer[crossover_mask]\n",
    "    return (s1,s2)\n",
    "\n",
    "def mutate(child):\n",
    "    mutate_vector = (np.random.random(size=n)-0.5)*BOUND\n",
    "    mutate_prob = np.random.rand((n))\n",
    "    mutate_mask = mutate_prob < MUTATION_RATE\n",
    "    child[mutate_mask] = mutate_vector[mutate_mask]\n",
    "    return child\n"
   ]
  },
  {
   "cell_type": "code",
   "execution_count": 15,
   "metadata": {},
   "outputs": [],
   "source": [
    "# Tìm min cho hàm sphere\n",
    "# initialize the population\n",
    "import numpy as np\n",
    "pop = (np.random.random(size=(m,n))-0.5)*BOUND\n",
    "# to print losses\n",
    "losses = []\n",
    "# evolution\n",
    "for i in range(N_GENERATIONS):\n",
    "    # compute function value\n",
    "    cost_values = sphere_function(pop)\n",
    "    # compute_fitness\n",
    "    fitness = compute_fitness(cost_values)\n",
    "    if i%1 == 0:\n",
    "        #print(\"Cost: \",np.min(cost_values))\n",
    "        losses.append(np.min(cost_values))\n",
    "        # print(pop[np.argmax(fitness), :])\n",
    "    pop = select(pop, fitness)\n",
    "    parent_pop = pop.copy()\n",
    "    for i in range(m//2 - 2):\n",
    "        k1 = np.random.randint(0,m,size=1)\n",
    "        k2 = np.random.randint(0,m,size=1)\n",
    "        s1 = parent_pop[k1].copy()[0]\n",
    "        s2 = parent_pop[k2].copy()[0]\n",
    "        s1,s2 = crossover(s1,s2)\n",
    "        s1 = mutate(s1)\n",
    "        s2 = mutate(s2)\n",
    "        # parent is relaced ny its child\n",
    "        pop[i*2][:] = s1\n",
    "        pop[i*2+1][:] = s2\n",
    "    # elitism\n",
    "    two_best = fitness.argsort()[-2:]\n",
    "    pop[m-2][:2] = parent_pop[two_best[0]].copy()[0]\n",
    "    pop[m-1][:2] = parent_pop[two_best[1]].copy()[0]\n",
    "    \n"
   ]
  },
  {
   "cell_type": "code",
   "execution_count": 17,
   "metadata": {},
   "outputs": [
    {
     "data": {
      "image/png": "[encoded data removed]",
      "text/plain": [
       "<Figure size 432x288 with 1 Axes>"
      ]
     },
     "metadata": {
      "needs_background": "light"
     },
     "output_type": "display_data"
    }
   ],
   "source": [
    "    import matplotlib.pyplot as plt\n",
    "    plt.plot(losses[:100])\n",
    "    plt.xlabel(\"Generations\")\n",
    "    plt.ylabel(\"losses\")\n",
    "    plt.show()\n",
    "    "
   ]
  },
  {
   "cell_type": "code",
   "execution_count": null,
   "metadata": {},
   "outputs": [],
   "source": [
    "# Phương pháp sum ò difference (SAD) cho stereo matching\n",
    "import numpy as np\n",
    "from PIL import Image\n",
    "def stereo_matching_sad(left_img, right_img, kernel_size, disparity_range):\n",
    "    # Đọc ả trái và ảnh phải, rồi chuyển samg grayscale\n",
    "    left_img = Image.open(left_img).convert(\"L\")\n",
    "    left = np.asarray(left_img)\n",
    "    \n",
    "    right_img = Image.open(right_img).convert(\"L\")\n",
    "    right = np.asarray(right_img)\n",
    "    # Lấy chiều rộng và chiều cao của ảnh\n",
    "    height, width = left.shape\n",
    "    # Tạo disparity map\n",
    "    depth = np.zeros((height, width), np.uint8)\n",
    "    kernel_half = int((kernel_size-1)/2)\n",
    "    scale = 255 / disparity_range\n",
    "    \n",
    "    memory = np.ones((height, width))\n",
    "    for j in range(kernel_half, height- kernel_half):\n",
    "        print(\".\",end = \" \")\n",
    "        data = np.ones((height,width))\n",
    "        for y in range(kernel_half, height-kernel_half):\n",
    "            for x in range(kernel_half, width - kernel_half):\n",
    "                if(x - j >= 0):\n",
    "                    data[y,x] = abs(int(left[y,x]) - int(right[y,x-j]))/255.0\n",
    "                    \n",
    "        # tinh sum-area table\n",
    "        memory[j] = data.cumsum(axis=0).cumsum(axis=1)\n",
    "    for y in range(kernel_half, height - kernel_half):\n",
    "        for x in range(kernel_half, width - kernel_half):\n",
    "            # add constraint for x0=y0=0\n",
    "            x0 = x - kernel_half\n",
    "            x1 = x + kernel_half\n",
    "            y0 = y - kernel_half\n",
    "            y1 = y + kernel_half\n",
    "            # tìm  j tại đó cost có giá trị min\n",
    "            disparity = 0\n",
    "            cost_min = 65534\n",
    "            for j in range(disparity_range):\n",
    "                a = memory[j, y0 -1, x0 - 1]\n",
    "                b = memory[j, y1, x0 -1]\n",
    "                c = memory[j, y0 -1, x1]\n",
    "                d = memory[j,y1], x1\n",
    "                if sad < cost_min:\n",
    "                    cost_min = sad\n",
    "                    disparity = j\n",
    "            # gan j cho cost_min vao disparity map\n",
    "            depth[y,x] = int(disparity*scale)\n",
    "            \n",
    "    # chuyển dữ liệu từ ndarray sang kiểu Imange và lưu xuống file\n",
    "    Image.formarray(depth).save (\"disparity_map_sad.png\")\n",
    "    \n",
    "kernel_size = 9\n",
    "stereo_matching_sad(\"Aloe_left_1.png\",\"Aloe_right_1.png\", kernel_size, 64)"
   ]
  }
 ],
 "metadata": {
  "kernelspec": {
   "display_name": "Python 3",
   "language": "python",
   "name": "python3"
  },
  "language_info": {
   "codemirror_mode": {
    "name": "ipython",
    "version": 3
   },
   "file_extension": ".py",
   "mimetype": "text/x-python",
   "name": "python",
   "nbconvert_exporter": "python",
   "pygments_lexer": "ipython3",
   "version": "3.7.6"
  }
 },
 "nbformat": 4,
 "nbformat_minor": 4
}
