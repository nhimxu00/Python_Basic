{
 "cells": [
  {
   "cell_type": "code",
   "execution_count": null,
   "metadata": {},
   "outputs": [],
   "source": [
    "# Tìm kiếm dùng random search(RS)\n",
    "# 1: Source code sinh ra m vector có giá trị ngẫu nhiên và độ dài n\n",
    "def generate_vectors(n=10, m=8):\n",
    "    vectors = [[0]*n for _ in range(m)]\n",
    "    \n",
    "    for i in range(m):\n",
    "        for j in range(n):\n",
    "            if random.random() >= 0.5:\n",
    "                vectors[i][j] = 1\n",
    "                \n",
    "    return vectors\n"
   ]
  },
  {
   "cell_type": "code",
   "execution_count": 2,
   "metadata": {},
   "outputs": [
    {
     "name": "stdout",
     "output_type": "stream",
     "text": [
      "[0, 1, 0, 0, 1, 0]\n",
      "[1, 0, 1, 1, 0, 1]\n",
      "[1, 0, 0, 1, 0, 0]\n",
      "[1, 1, 0, 0, 0, 0]\n",
      "[1, 1, 0, 0, 0, 1]\n",
      "[1, 1, 0, 1, 0, 1]\n",
      "[0, 1, 0, 0, 0, 1]\n",
      "[0, 0, 1, 1, 1, 0]\n",
      "[0, 0, 1, 1, 1, 0]\n",
      "[0, 1, 0, 0, 1, 0]\n"
     ]
    }
   ],
   "source": [
    "# Genetic algotithm (GA)\n",
    "# 1: Population Inltlallzatlon\n",
    "# Khởi tạo quần thể với 10 cá thể và số gen của cá thể : 6\n",
    "import random\n",
    "n = 6 # size of chromosome\n",
    "m = 10 # size of polulation\n",
    "def generate_random_value():\n",
    "    return random.randint(0,1)\n",
    "\n",
    "def create_individual():\n",
    "    return [generate_random_value() for _ in range(n)]\n",
    "\n",
    "population = [create_individual() for _ in range(m)]\n",
    "# print population\n",
    "for i in population:\n",
    "    print(i)"
   ]
  },
  {
   "cell_type": "code",
   "execution_count": 5,
   "metadata": {},
   "outputs": [
    {
     "name": "stdout",
     "output_type": "stream",
     "text": [
      "[(1, 1), (0, 6), (1, 0), (1, 6), (5, 0), (4, 4), (5, 7), (6, 5), (2, 3), (8, 3)]\n"
     ]
    }
   ],
   "source": [
    "# 2: Selectlon : Chọn cá thể nào có fitness càng cao thì khả năng cá thể đó sẽ chọn nhiều nhất\n",
    "# Sử dụng pp chọn binary selection: Lấy ngẫu nhiên 2 cá thể trong quần thể , cá thể nào có fitness tôt hơn sẽ được chọn \n",
    "# B1: sắp xếp tăng dần \n",
    "# B2: sinh tố ngẫu nhiên i1,i2 rồi chọn cá thể có giá trị index lớn hơ\n",
    "import random\n",
    "# Sinh ra 20 số ngẫu nhiên trong đoạn [0,9]\n",
    "random_numbers = [(random.randint(0,9), random.randint(0,9)) for _ in range(10)]\n",
    "print(random_numbers)"
   ]
  },
  {
   "cell_type": "code",
   "execution_count": null,
   "metadata": {},
   "outputs": [],
   "source": [
    "def selection(sorted_old_population):\n",
    "    index1 = random.randint(0.m-1)\n",
    "    while True:\n",
    "        index2 = random.randint(0,m-1)\n",
    "        if( index2 ! = index1):\n",
    "            break\n",
    "            \n",
    "    a = sorted_old_population[index1]\n",
    "    if inedex2 > index1:\n",
    "        a = sorted_old_population[index2]\n",
    "    \n",
    "    return a"
   ]
  },
  {
   "cell_type": "code",
   "execution_count": null,
   "metadata": {},
   "outputs": [],
   "source": [
    "# 3: Crossover : lai giữa 2 cá thể. Gen cần đột biến nhận 1 giá trị ngẫu nhiên nằm trong miền giá trị\n",
    "def mutate(individual, matation_rate = 0.05):\n",
    "    individual_m = individual.copy()\n",
    "    for i in range(n):\n",
    "        if random.random() < matation_rate:\n",
    "            individual_m[i] = generate_random_value()\n",
    "            \n",
    "    return individual_m\n"
   ]
  },
  {
   "cell_type": "code",
   "execution_count": 2,
   "metadata": {},
   "outputs": [
    {
     "name": "stdout",
     "output_type": "stream",
     "text": [
      "BEST: 13\n",
      "BEST: 14\n",
      "BEST: 15\n",
      "BEST: 15\n",
      "BEST: 15\n",
      "BEST: 16\n",
      "BEST: 16\n",
      "BEST: 16\n",
      "BEST: 17\n",
      "BEST: 17\n",
      "BEST: 17\n",
      "BEST: 17\n",
      "BEST: 18\n",
      "BEST: 18\n",
      "BEST: 18\n",
      "BEST: 18\n",
      "BEST: 19\n",
      "BEST: 19\n",
      "BEST: 19\n",
      "BEST: 19\n",
      "BEST: 19\n",
      "BEST: 19\n",
      "BEST: 19\n",
      "BEST: 19\n",
      "BEST: 19\n",
      "BEST: 19\n",
      "BEST: 19\n",
      "BEST: 19\n",
      "BEST: 19\n",
      "BEST: 19\n",
      "BEST: 19\n",
      "BEST: 19\n",
      "BEST: 19\n",
      "BEST: 20\n",
      "BEST: 20\n",
      "BEST: 20\n",
      "BEST: 20\n",
      "BEST: 20\n",
      "BEST: 20\n",
      "BEST: 20\n"
     ]
    },
    {
     "data": {
      "image/png": "[encoded data removed]",
      "text/plain": [
       "<Figure size 432x288 with 1 Axes>"
      ]
     },
     "metadata": {
      "needs_background": "light"
     },
     "output_type": "display_data"
    }
   ],
   "source": [
    "# aivietnam.ai - one-max\n",
    "# Chương trình cài đặt với mục đích dễ hiểu\n",
    "# Nhiều chỗ có thể cải tiến về mặt computation và memory\n",
    "import random\n",
    "import matplotlib.pyplot as plt\n",
    "n = 20                # size of individual (chromosome)\n",
    "m = 10                # size of population\n",
    "n_generations = 40    # number of generations\n",
    "# để vẽ biểu đồ quá trình tối ưu\n",
    "fitnesses = []\n",
    "def generate_random_value():\n",
    "    return random.randint(0, 1)\n",
    "def compute_fitness(individual):\n",
    "    return sum(gen for gen in individual)\n",
    "def create_individual():\n",
    "    return [generate_random_value() for _ in range(n)]\n",
    "def crossover(individual1, individual2, crossover_rate = 0.9):\n",
    "    individual1_new = individual1.copy()\n",
    "    individual2_new = individual2.copy()\n",
    "    \n",
    "    for i in range(n):\n",
    "        if random.random() < crossover_rate:\n",
    "            individual1_new[i] = individual2[i]\n",
    "            individual2_new[i] = individual1[i]            \n",
    "    \n",
    "    return individual1_new, individual2_new\n",
    "def mutate(individual, mutation_rate = 0.05):\n",
    "    individual_m = individual.copy()\n",
    "    \n",
    "    for i in range(n):\n",
    "        if random.random() < mutation_rate:\n",
    "            individual_m[i] = generate_random_value()\n",
    "        \n",
    "    return individual_m\n",
    "def selection(sorted_old_population):    \n",
    "    index1 = random.randint(0, m-1)    \n",
    "    while True:\n",
    "        index2 = random.randint(0, m-1)    \n",
    "        if (index2 != index1):\n",
    "            break\n",
    "            \n",
    "    individual_s = sorted_old_population[index1]\n",
    "    if index2 > index1:\n",
    "        individual_s = sorted_old_population[index2]\n",
    "    \n",
    "    return individual_s \n",
    "def create_new_population(old_population, elitism=2, gen=1):\n",
    "    sorted_population = sorted(old_population, key=compute_fitness)\n",
    "        \n",
    "    if gen%1 == 0:\n",
    "        fitnesses.append(compute_fitness(sorted_population[m-1]))\n",
    "        print(\"BEST:\", compute_fitness(sorted_population[m-1]))      \n",
    "    \n",
    "    new_population = []\n",
    "    while len(new_population) < m-elitism:\n",
    "        # selection\n",
    "        individual_s1 = selection(sorted_population)\n",
    "        individual_s2 = selection(sorted_population) # duplication\n",
    "        \n",
    "        # crossover\n",
    "        individual_c1, individual_c2 = crossover(individual_s1, individual_s2)\n",
    "        \n",
    "        # mutation\n",
    "        individual_m1 = mutate(individual_c1)\n",
    "        individual_m2 = mutate(individual_c2)\n",
    "        \n",
    "        new_population.append(individual_m1)\n",
    "        new_population.append(individual_m2)            \n",
    "    \n",
    "    for ind in sorted_population[m-elitism:]:\n",
    "        new_population.append(ind.copy())\n",
    "    \n",
    "    return new_population\n",
    "population = [create_individual() for _ in range(m)]\n",
    "for i in range(n_generations):\n",
    "    population = create_new_population(population, 2, i)\n",
    "\n",
    "import matplotlib.pyplot as plt\n",
    "plt.plot(fitnesses[:200], c = \"green\")\n",
    "plt.xlabel(\"Gennerations\")\n",
    "plt.ylabel(\"losses\")\n",
    "plt.show()\n"
   ]
  },
  {
   "cell_type": "code",
   "execution_count": null,
   "metadata": {},
   "outputs": [],
   "source": []
  }
 ],
 "metadata": {
  "kernelspec": {
   "display_name": "Python 3",
   "language": "python",
   "name": "python3"
  },
  "language_info": {
   "codemirror_mode": {
    "name": "ipython",
    "version": 3
   },
   "file_extension": ".py",
   "mimetype": "text/x-python",
   "name": "python",
   "nbconvert_exporter": "python",
   "pygments_lexer": "ipython3",
   "version": "3.7.6"
  }
 },
 "nbformat": 4,
 "nbformat_minor": 4
}
